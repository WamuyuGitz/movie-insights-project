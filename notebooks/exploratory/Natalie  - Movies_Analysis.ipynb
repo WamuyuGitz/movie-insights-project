{
 "cells": [
  {
   "cell_type": "markdown",
   "id": "676803f2",
   "metadata": {},
   "source": [
    "## Geographycal and Seasonal Marketing Insights\n",
    " "
   ]
  },
  {
   "cell_type": "markdown",
   "id": "eb2bfcb4",
   "metadata": {},
   "source": [
    " # 1.Project Objectives Summary\n",
    "The goal of this analysis is to uncover geographical and seasonal patterns in movie box office performance to support strategic decision-making for film releases.\n",
    "\n",
    "Key Objectives:\n",
    "\n",
    "1. Compare domestic vs. international box office revenues to identify films with global or regional appeal.\n",
    "\n",
    "2. Determine the best-performing release months and seasons based on historical revenue trends.\n",
    "\n",
    "3. Spot seasonal trends to guide future movie release schedules for maximum profitability."
   ]
  },
  {
   "cell_type": "markdown",
   "id": "8651fba9",
   "metadata": {},
   "source": [
    "# 2. Data Analysis\n",
    "This will be considerd a success when we are  able to effectively determined the movie company to purchase and start this new business"
   ]
  },
  {
   "cell_type": "code",
   "execution_count": 4,
   "id": "ce31a32e",
   "metadata": {},
   "outputs": [],
   "source": [
    "# Run this cell without changes\n",
    "import pandas as pd                  \n",
    "import numpy as np                   \n",
    "import sqlite3                       \n",
    "import matplotlib.pyplot as plt\n",
    "import warnings\n",
    "warnings.filterwarnings(\"ignore\")\n",
    "import seaborn as sns"
   ]
  },
  {
   "cell_type": "markdown",
   "id": "d6dd45ee",
   "metadata": {},
   "source": [
    "# 3. Data Reading"
   ]
  },
  {
   "cell_type": "code",
   "execution_count": 88,
   "id": "ed22540c",
   "metadata": {},
   "outputs": [
    {
     "name": "stdout",
     "output_type": "stream",
     "text": [
      "     type                  name              tbl_name  rootpage  \\\n",
      "0   table          movie_basics          movie_basics         2   \n",
      "1   table             directors             directors      3435   \n",
      "2   table             known_for             known_for      4521   \n",
      "3   table            movie_akas            movie_akas     15400   \n",
      "4   table         movie_ratings         movie_ratings     18362   \n",
      "5   table               persons               persons     18862   \n",
      "6   table            principals            principals     25822   \n",
      "7   table               writers               writers     35238   \n",
      "8   table  actors_and_actresses  actors_and_actresses     36422   \n",
      "9   table        movie_revenues        movie_revenues     41205   \n",
      "10  table    production_budgets    production_budgets     41270   \n",
      "\n",
      "                                                  sql  \n",
      "0   CREATE TABLE \"movie_basics\" (\\n\"movie_id\" TEXT...  \n",
      "1   CREATE TABLE \"directors\" (\\n\"movie_id\" TEXT,\\n...  \n",
      "2   CREATE TABLE \"known_for\" (\\n\"person_id\" TEXT,\\...  \n",
      "3   CREATE TABLE \"movie_akas\" (\\n\"movie_id\" TEXT,\\...  \n",
      "4   CREATE TABLE \"movie_ratings\" (\\n\"movie_id\" TEX...  \n",
      "5   CREATE TABLE \"persons\" (\\n\"person_id\" TEXT,\\n ...  \n",
      "6   CREATE TABLE \"principals\" (\\n\"movie_id\" TEXT,\\...  \n",
      "7   CREATE TABLE \"writers\" (\\n\"movie_id\" TEXT,\\n  ...  \n",
      "8   CREATE TABLE \"actors_and_actresses\" (\\n\"movie_...  \n",
      "9   CREATE TABLE \"movie_revenues\" (\\n\"title\" TEXT,...  \n",
      "10  CREATE TABLE \"production_budgets\" (\\n\"movie\" T...  \n"
     ]
    }
   ],
   "source": [
    "import sqlite3\n",
    "import pandas as pd\n",
    "\n",
    "# Connect to your database\n",
    "conn = sqlite3.connect('cleaned_imdb.db')\n",
    "\n",
    "# Check available tables\n",
    "tables = pd.read_sql_query(\"\"\"SELECT *\n",
    "                              FROM sqlite_master \n",
    "                              WHERE type='table';\"\"\", conn)\n",
    "\n",
    "print(tables)\n"
   ]
  },
  {
   "cell_type": "code",
   "execution_count": 7,
   "id": "20a786de",
   "metadata": {},
   "outputs": [
    {
     "data": {
      "application/vnd.microsoft.datawrangler.viewer.v0+json": {
       "columns": [
        {
         "name": "index",
         "rawType": "int64",
         "type": "integer"
        },
        {
         "name": "movie_id",
         "rawType": "object",
         "type": "string"
        },
        {
         "name": "primary_title",
         "rawType": "object",
         "type": "string"
        },
        {
         "name": "original_title",
         "rawType": "object",
         "type": "string"
        },
        {
         "name": "start_year",
         "rawType": "object",
         "type": "string"
        },
        {
         "name": "runtime_minutes",
         "rawType": "float64",
         "type": "float"
        },
        {
         "name": "genres",
         "rawType": "object",
         "type": "string"
        }
       ],
       "ref": "4e83c8c7-920a-44b2-98cc-ba2a1c145704",
       "rows": [
        [
         "0",
         "tt0063540",
         "Sunghursh",
         "Sunghursh",
         "1970-01-01 00:00:00.000002",
         "175.0",
         "Action,Crime,Drama"
        ],
        [
         "1",
         "tt0066787",
         "One Day Before the Rainy Season",
         "Ashad Ka Ek Din",
         "1970-01-01 00:00:00.000002",
         "114.0",
         "Biography,Drama"
        ],
        [
         "2",
         "tt0069049",
         "The Other Side of the Wind",
         "The Other Side of the Wind",
         "1970-01-01 00:00:00.000002",
         "122.0",
         "Drama"
        ],
        [
         "3",
         "tt0069204",
         "Sabse Bada Sukh",
         "Sabse Bada Sukh",
         "1970-01-01 00:00:00.000002",
         "87.0",
         "Comedy,Drama"
        ],
        [
         "4",
         "tt0100275",
         "The Wandering Soap Opera",
         "La Telenovela Errante",
         "1970-01-01 00:00:00.000002",
         "80.0",
         "Comedy,Drama,Fantasy"
        ]
       ],
       "shape": {
        "columns": 6,
        "rows": 5
       }
      },
      "text/html": [
       "<div>\n",
       "<style scoped>\n",
       "    .dataframe tbody tr th:only-of-type {\n",
       "        vertical-align: middle;\n",
       "    }\n",
       "\n",
       "    .dataframe tbody tr th {\n",
       "        vertical-align: top;\n",
       "    }\n",
       "\n",
       "    .dataframe thead th {\n",
       "        text-align: right;\n",
       "    }\n",
       "</style>\n",
       "<table border=\"1\" class=\"dataframe\">\n",
       "  <thead>\n",
       "    <tr style=\"text-align: right;\">\n",
       "      <th></th>\n",
       "      <th>movie_id</th>\n",
       "      <th>primary_title</th>\n",
       "      <th>original_title</th>\n",
       "      <th>start_year</th>\n",
       "      <th>runtime_minutes</th>\n",
       "      <th>genres</th>\n",
       "    </tr>\n",
       "  </thead>\n",
       "  <tbody>\n",
       "    <tr>\n",
       "      <th>0</th>\n",
       "      <td>tt0063540</td>\n",
       "      <td>Sunghursh</td>\n",
       "      <td>Sunghursh</td>\n",
       "      <td>1970-01-01 00:00:00.000002</td>\n",
       "      <td>175.0</td>\n",
       "      <td>Action,Crime,Drama</td>\n",
       "    </tr>\n",
       "    <tr>\n",
       "      <th>1</th>\n",
       "      <td>tt0066787</td>\n",
       "      <td>One Day Before the Rainy Season</td>\n",
       "      <td>Ashad Ka Ek Din</td>\n",
       "      <td>1970-01-01 00:00:00.000002</td>\n",
       "      <td>114.0</td>\n",
       "      <td>Biography,Drama</td>\n",
       "    </tr>\n",
       "    <tr>\n",
       "      <th>2</th>\n",
       "      <td>tt0069049</td>\n",
       "      <td>The Other Side of the Wind</td>\n",
       "      <td>The Other Side of the Wind</td>\n",
       "      <td>1970-01-01 00:00:00.000002</td>\n",
       "      <td>122.0</td>\n",
       "      <td>Drama</td>\n",
       "    </tr>\n",
       "    <tr>\n",
       "      <th>3</th>\n",
       "      <td>tt0069204</td>\n",
       "      <td>Sabse Bada Sukh</td>\n",
       "      <td>Sabse Bada Sukh</td>\n",
       "      <td>1970-01-01 00:00:00.000002</td>\n",
       "      <td>87.0</td>\n",
       "      <td>Comedy,Drama</td>\n",
       "    </tr>\n",
       "    <tr>\n",
       "      <th>4</th>\n",
       "      <td>tt0100275</td>\n",
       "      <td>The Wandering Soap Opera</td>\n",
       "      <td>La Telenovela Errante</td>\n",
       "      <td>1970-01-01 00:00:00.000002</td>\n",
       "      <td>80.0</td>\n",
       "      <td>Comedy,Drama,Fantasy</td>\n",
       "    </tr>\n",
       "  </tbody>\n",
       "</table>\n",
       "</div>"
      ],
      "text/plain": [
       "    movie_id                    primary_title              original_title  \\\n",
       "0  tt0063540                        Sunghursh                   Sunghursh   \n",
       "1  tt0066787  One Day Before the Rainy Season             Ashad Ka Ek Din   \n",
       "2  tt0069049       The Other Side of the Wind  The Other Side of the Wind   \n",
       "3  tt0069204                  Sabse Bada Sukh             Sabse Bada Sukh   \n",
       "4  tt0100275         The Wandering Soap Opera       La Telenovela Errante   \n",
       "\n",
       "                   start_year  runtime_minutes                genres  \n",
       "0  1970-01-01 00:00:00.000002            175.0    Action,Crime,Drama  \n",
       "1  1970-01-01 00:00:00.000002            114.0       Biography,Drama  \n",
       "2  1970-01-01 00:00:00.000002            122.0                 Drama  \n",
       "3  1970-01-01 00:00:00.000002             87.0          Comedy,Drama  \n",
       "4  1970-01-01 00:00:00.000002             80.0  Comedy,Drama,Fantasy  "
      ]
     },
     "execution_count": 7,
     "metadata": {},
     "output_type": "execute_result"
    }
   ],
   "source": [
    "# loading the data set\n",
    "import sqlite3\n",
    "import pandas as pd\n",
    "pd.read_sql_query(\"SELECT * FROM movie_basics LIMIT 5;\", conn)"
   ]
  },
  {
   "cell_type": "code",
   "execution_count": 8,
   "id": "e955d094",
   "metadata": {},
   "outputs": [
    {
     "data": {
      "application/vnd.microsoft.datawrangler.viewer.v0+json": {
       "columns": [
        {
         "name": "index",
         "rawType": "int64",
         "type": "integer"
        },
        {
         "name": "movie_id",
         "rawType": "object",
         "type": "string"
        },
        {
         "name": "ordering",
         "rawType": "int64",
         "type": "integer"
        },
        {
         "name": "person_id",
         "rawType": "object",
         "type": "string"
        },
        {
         "name": "category",
         "rawType": "object",
         "type": "string"
        },
        {
         "name": "characters",
         "rawType": "object",
         "type": "string"
        }
       ],
       "ref": "2e4e18b1-271f-4ee7-b3db-5366e355c287",
       "rows": [
        [
         "0",
         "tt0111414",
         "1",
         "nm0246005",
         "actor",
         "[\"The Man\"]"
        ],
        [
         "1",
         "tt0323808",
         "1",
         "nm3579312",
         "actress",
         "[\"Beth Boothby\"]"
        ],
        [
         "2",
         "tt0323808",
         "2",
         "nm2694680",
         "actor",
         "[\"Steve Thomson\"]"
        ],
        [
         "3",
         "tt0323808",
         "3",
         "nm0574615",
         "actor",
         "[\"Sir Lachlan Morrison\"]"
        ],
        [
         "4",
         "tt0323808",
         "4",
         "nm0502652",
         "actress",
         "[\"Lady Delia Morrison\"]"
        ]
       ],
       "shape": {
        "columns": 5,
        "rows": 5
       }
      },
      "text/html": [
       "<div>\n",
       "<style scoped>\n",
       "    .dataframe tbody tr th:only-of-type {\n",
       "        vertical-align: middle;\n",
       "    }\n",
       "\n",
       "    .dataframe tbody tr th {\n",
       "        vertical-align: top;\n",
       "    }\n",
       "\n",
       "    .dataframe thead th {\n",
       "        text-align: right;\n",
       "    }\n",
       "</style>\n",
       "<table border=\"1\" class=\"dataframe\">\n",
       "  <thead>\n",
       "    <tr style=\"text-align: right;\">\n",
       "      <th></th>\n",
       "      <th>movie_id</th>\n",
       "      <th>ordering</th>\n",
       "      <th>person_id</th>\n",
       "      <th>category</th>\n",
       "      <th>characters</th>\n",
       "    </tr>\n",
       "  </thead>\n",
       "  <tbody>\n",
       "    <tr>\n",
       "      <th>0</th>\n",
       "      <td>tt0111414</td>\n",
       "      <td>1</td>\n",
       "      <td>nm0246005</td>\n",
       "      <td>actor</td>\n",
       "      <td>[\"The Man\"]</td>\n",
       "    </tr>\n",
       "    <tr>\n",
       "      <th>1</th>\n",
       "      <td>tt0323808</td>\n",
       "      <td>1</td>\n",
       "      <td>nm3579312</td>\n",
       "      <td>actress</td>\n",
       "      <td>[\"Beth Boothby\"]</td>\n",
       "    </tr>\n",
       "    <tr>\n",
       "      <th>2</th>\n",
       "      <td>tt0323808</td>\n",
       "      <td>2</td>\n",
       "      <td>nm2694680</td>\n",
       "      <td>actor</td>\n",
       "      <td>[\"Steve Thomson\"]</td>\n",
       "    </tr>\n",
       "    <tr>\n",
       "      <th>3</th>\n",
       "      <td>tt0323808</td>\n",
       "      <td>3</td>\n",
       "      <td>nm0574615</td>\n",
       "      <td>actor</td>\n",
       "      <td>[\"Sir Lachlan Morrison\"]</td>\n",
       "    </tr>\n",
       "    <tr>\n",
       "      <th>4</th>\n",
       "      <td>tt0323808</td>\n",
       "      <td>4</td>\n",
       "      <td>nm0502652</td>\n",
       "      <td>actress</td>\n",
       "      <td>[\"Lady Delia Morrison\"]</td>\n",
       "    </tr>\n",
       "  </tbody>\n",
       "</table>\n",
       "</div>"
      ],
      "text/plain": [
       "    movie_id  ordering  person_id category                characters\n",
       "0  tt0111414         1  nm0246005    actor               [\"The Man\"]\n",
       "1  tt0323808         1  nm3579312  actress          [\"Beth Boothby\"]\n",
       "2  tt0323808         2  nm2694680    actor         [\"Steve Thomson\"]\n",
       "3  tt0323808         3  nm0574615    actor  [\"Sir Lachlan Morrison\"]\n",
       "4  tt0323808         4  nm0502652  actress   [\"Lady Delia Morrison\"]"
      ]
     },
     "execution_count": 8,
     "metadata": {},
     "output_type": "execute_result"
    }
   ],
   "source": [
    "pd.read_sql_query(\"SELECT * FROM actors_and_actresses LIMIT 5;\", conn)"
   ]
  },
  {
   "cell_type": "code",
   "execution_count": 9,
   "id": "9b4e7a0e",
   "metadata": {},
   "outputs": [
    {
     "data": {
      "application/vnd.microsoft.datawrangler.viewer.v0+json": {
       "columns": [
        {
         "name": "index",
         "rawType": "int64",
         "type": "integer"
        },
        {
         "name": "title",
         "rawType": "object",
         "type": "string"
        },
        {
         "name": "domestic_gross($)",
         "rawType": "float64",
         "type": "float"
        },
        {
         "name": "worldwide_gross($)",
         "rawType": "float64",
         "type": "float"
        }
       ],
       "ref": "5f17f5d4-4568-45b5-890a-b54710544489",
       "rows": [
        [
         "0",
         "Toy Story 3",
         "415000000.0",
         "652000000.0"
        ],
        [
         "1",
         "Harry Potter and the Deathly Hallows Part 1",
         "296000000.0",
         "664300000.0"
        ],
        [
         "2",
         "Shrek Forever After",
         "238700000.0",
         "513900000.0"
        ],
        [
         "3",
         "The Twilight Saga: Eclipse",
         "300500000.0",
         "398000000.0"
        ],
        [
         "4",
         "Tangled",
         "200800000.0",
         "391000000.0"
        ]
       ],
       "shape": {
        "columns": 3,
        "rows": 5
       }
      },
      "text/html": [
       "<div>\n",
       "<style scoped>\n",
       "    .dataframe tbody tr th:only-of-type {\n",
       "        vertical-align: middle;\n",
       "    }\n",
       "\n",
       "    .dataframe tbody tr th {\n",
       "        vertical-align: top;\n",
       "    }\n",
       "\n",
       "    .dataframe thead th {\n",
       "        text-align: right;\n",
       "    }\n",
       "</style>\n",
       "<table border=\"1\" class=\"dataframe\">\n",
       "  <thead>\n",
       "    <tr style=\"text-align: right;\">\n",
       "      <th></th>\n",
       "      <th>title</th>\n",
       "      <th>domestic_gross($)</th>\n",
       "      <th>worldwide_gross($)</th>\n",
       "    </tr>\n",
       "  </thead>\n",
       "  <tbody>\n",
       "    <tr>\n",
       "      <th>0</th>\n",
       "      <td>Toy Story 3</td>\n",
       "      <td>415000000.0</td>\n",
       "      <td>652000000.0</td>\n",
       "    </tr>\n",
       "    <tr>\n",
       "      <th>1</th>\n",
       "      <td>Harry Potter and the Deathly Hallows Part 1</td>\n",
       "      <td>296000000.0</td>\n",
       "      <td>664300000.0</td>\n",
       "    </tr>\n",
       "    <tr>\n",
       "      <th>2</th>\n",
       "      <td>Shrek Forever After</td>\n",
       "      <td>238700000.0</td>\n",
       "      <td>513900000.0</td>\n",
       "    </tr>\n",
       "    <tr>\n",
       "      <th>3</th>\n",
       "      <td>The Twilight Saga: Eclipse</td>\n",
       "      <td>300500000.0</td>\n",
       "      <td>398000000.0</td>\n",
       "    </tr>\n",
       "    <tr>\n",
       "      <th>4</th>\n",
       "      <td>Tangled</td>\n",
       "      <td>200800000.0</td>\n",
       "      <td>391000000.0</td>\n",
       "    </tr>\n",
       "  </tbody>\n",
       "</table>\n",
       "</div>"
      ],
      "text/plain": [
       "                                         title  domestic_gross($)  \\\n",
       "0                                  Toy Story 3        415000000.0   \n",
       "1  Harry Potter and the Deathly Hallows Part 1        296000000.0   \n",
       "2                          Shrek Forever After        238700000.0   \n",
       "3                   The Twilight Saga: Eclipse        300500000.0   \n",
       "4                                      Tangled        200800000.0   \n",
       "\n",
       "   worldwide_gross($)  \n",
       "0         652000000.0  \n",
       "1         664300000.0  \n",
       "2         513900000.0  \n",
       "3         398000000.0  \n",
       "4         391000000.0  "
      ]
     },
     "execution_count": 9,
     "metadata": {},
     "output_type": "execute_result"
    }
   ],
   "source": [
    "pd.read_sql_query(\"SELECT * FROM  movie_revenues  LIMIT 5;\", conn)"
   ]
  },
  {
   "cell_type": "code",
   "execution_count": 10,
   "id": "bd9499f0",
   "metadata": {},
   "outputs": [
    {
     "data": {
      "application/vnd.microsoft.datawrangler.viewer.v0+json": {
       "columns": [
        {
         "name": "index",
         "rawType": "int64",
         "type": "integer"
        },
        {
         "name": "movie",
         "rawType": "object",
         "type": "string"
        },
        {
         "name": "production_budget($)",
         "rawType": "int64",
         "type": "integer"
        }
       ],
       "ref": "8dd249c0-c246-413d-ae2b-e5740df92093",
       "rows": [
        [
         "0",
         "Avatar",
         "425000000"
        ],
        [
         "1",
         "Pirates of the Caribbean: On Stranger Tides",
         "410600000"
        ],
        [
         "2",
         "Dark Phoenix",
         "350000000"
        ],
        [
         "3",
         "Avengers: Age of Ultron",
         "330600000"
        ],
        [
         "4",
         "Star Wars Ep. VIII: The Last Jedi",
         "317000000"
        ]
       ],
       "shape": {
        "columns": 2,
        "rows": 5
       }
      },
      "text/html": [
       "<div>\n",
       "<style scoped>\n",
       "    .dataframe tbody tr th:only-of-type {\n",
       "        vertical-align: middle;\n",
       "    }\n",
       "\n",
       "    .dataframe tbody tr th {\n",
       "        vertical-align: top;\n",
       "    }\n",
       "\n",
       "    .dataframe thead th {\n",
       "        text-align: right;\n",
       "    }\n",
       "</style>\n",
       "<table border=\"1\" class=\"dataframe\">\n",
       "  <thead>\n",
       "    <tr style=\"text-align: right;\">\n",
       "      <th></th>\n",
       "      <th>movie</th>\n",
       "      <th>production_budget($)</th>\n",
       "    </tr>\n",
       "  </thead>\n",
       "  <tbody>\n",
       "    <tr>\n",
       "      <th>0</th>\n",
       "      <td>Avatar</td>\n",
       "      <td>425000000</td>\n",
       "    </tr>\n",
       "    <tr>\n",
       "      <th>1</th>\n",
       "      <td>Pirates of the Caribbean: On Stranger Tides</td>\n",
       "      <td>410600000</td>\n",
       "    </tr>\n",
       "    <tr>\n",
       "      <th>2</th>\n",
       "      <td>Dark Phoenix</td>\n",
       "      <td>350000000</td>\n",
       "    </tr>\n",
       "    <tr>\n",
       "      <th>3</th>\n",
       "      <td>Avengers: Age of Ultron</td>\n",
       "      <td>330600000</td>\n",
       "    </tr>\n",
       "    <tr>\n",
       "      <th>4</th>\n",
       "      <td>Star Wars Ep. VIII: The Last Jedi</td>\n",
       "      <td>317000000</td>\n",
       "    </tr>\n",
       "  </tbody>\n",
       "</table>\n",
       "</div>"
      ],
      "text/plain": [
       "                                         movie  production_budget($)\n",
       "0                                       Avatar             425000000\n",
       "1  Pirates of the Caribbean: On Stranger Tides             410600000\n",
       "2                                 Dark Phoenix             350000000\n",
       "3                      Avengers: Age of Ultron             330600000\n",
       "4            Star Wars Ep. VIII: The Last Jedi             317000000"
      ]
     },
     "execution_count": 10,
     "metadata": {},
     "output_type": "execute_result"
    }
   ],
   "source": [
    "pd.read_sql_query(\"SELECT * FROM  production_budgets LIMIT 5;\", conn)"
   ]
  },
  {
   "cell_type": "code",
   "execution_count": 11,
   "id": "8c4b3881",
   "metadata": {},
   "outputs": [
    {
     "data": {
      "application/vnd.microsoft.datawrangler.viewer.v0+json": {
       "columns": [
        {
         "name": "index",
         "rawType": "int64",
         "type": "integer"
        },
        {
         "name": "movie_id",
         "rawType": "object",
         "type": "string"
        },
        {
         "name": "person_id",
         "rawType": "object",
         "type": "string"
        }
       ],
       "ref": "a0791694-51d0-4c19-a3b1-4737ab82c691",
       "rows": [
        [
         "0",
         "tt0285252",
         "nm0899854"
        ],
        [
         "1",
         "tt0462036",
         "nm1940585"
        ],
        [
         "2",
         "tt0835418",
         "nm0151540"
        ],
        [
         "3",
         "tt0878654",
         "nm0089502"
        ],
        [
         "4",
         "tt0878654",
         "nm2291498"
        ]
       ],
       "shape": {
        "columns": 2,
        "rows": 5
       }
      },
      "text/html": [
       "<div>\n",
       "<style scoped>\n",
       "    .dataframe tbody tr th:only-of-type {\n",
       "        vertical-align: middle;\n",
       "    }\n",
       "\n",
       "    .dataframe tbody tr th {\n",
       "        vertical-align: top;\n",
       "    }\n",
       "\n",
       "    .dataframe thead th {\n",
       "        text-align: right;\n",
       "    }\n",
       "</style>\n",
       "<table border=\"1\" class=\"dataframe\">\n",
       "  <thead>\n",
       "    <tr style=\"text-align: right;\">\n",
       "      <th></th>\n",
       "      <th>movie_id</th>\n",
       "      <th>person_id</th>\n",
       "    </tr>\n",
       "  </thead>\n",
       "  <tbody>\n",
       "    <tr>\n",
       "      <th>0</th>\n",
       "      <td>tt0285252</td>\n",
       "      <td>nm0899854</td>\n",
       "    </tr>\n",
       "    <tr>\n",
       "      <th>1</th>\n",
       "      <td>tt0462036</td>\n",
       "      <td>nm1940585</td>\n",
       "    </tr>\n",
       "    <tr>\n",
       "      <th>2</th>\n",
       "      <td>tt0835418</td>\n",
       "      <td>nm0151540</td>\n",
       "    </tr>\n",
       "    <tr>\n",
       "      <th>3</th>\n",
       "      <td>tt0878654</td>\n",
       "      <td>nm0089502</td>\n",
       "    </tr>\n",
       "    <tr>\n",
       "      <th>4</th>\n",
       "      <td>tt0878654</td>\n",
       "      <td>nm2291498</td>\n",
       "    </tr>\n",
       "  </tbody>\n",
       "</table>\n",
       "</div>"
      ],
      "text/plain": [
       "    movie_id  person_id\n",
       "0  tt0285252  nm0899854\n",
       "1  tt0462036  nm1940585\n",
       "2  tt0835418  nm0151540\n",
       "3  tt0878654  nm0089502\n",
       "4  tt0878654  nm2291498"
      ]
     },
     "execution_count": 11,
     "metadata": {},
     "output_type": "execute_result"
    }
   ],
   "source": [
    "pd.read_sql_query(\"SELECT * FROM  directors LIMIT 5;\", conn)"
   ]
  },
  {
   "cell_type": "code",
   "execution_count": 12,
   "id": "59635eae",
   "metadata": {},
   "outputs": [
    {
     "data": {
      "application/vnd.microsoft.datawrangler.viewer.v0+json": {
       "columns": [
        {
         "name": "index",
         "rawType": "int64",
         "type": "integer"
        },
        {
         "name": "person_id",
         "rawType": "object",
         "type": "string"
        },
        {
         "name": "movie_id",
         "rawType": "object",
         "type": "string"
        }
       ],
       "ref": "4a131b23-9144-4bfa-8ef0-68edb663a271",
       "rows": [
        [
         "0",
         "nm0061671",
         "tt0837562"
        ],
        [
         "1",
         "nm0061671",
         "tt2398241"
        ],
        [
         "2",
         "nm0061671",
         "tt0844471"
        ],
        [
         "3",
         "nm0061671",
         "tt0118553"
        ],
        [
         "4",
         "nm0061865",
         "tt0896534"
        ]
       ],
       "shape": {
        "columns": 2,
        "rows": 5
       }
      },
      "text/html": [
       "<div>\n",
       "<style scoped>\n",
       "    .dataframe tbody tr th:only-of-type {\n",
       "        vertical-align: middle;\n",
       "    }\n",
       "\n",
       "    .dataframe tbody tr th {\n",
       "        vertical-align: top;\n",
       "    }\n",
       "\n",
       "    .dataframe thead th {\n",
       "        text-align: right;\n",
       "    }\n",
       "</style>\n",
       "<table border=\"1\" class=\"dataframe\">\n",
       "  <thead>\n",
       "    <tr style=\"text-align: right;\">\n",
       "      <th></th>\n",
       "      <th>person_id</th>\n",
       "      <th>movie_id</th>\n",
       "    </tr>\n",
       "  </thead>\n",
       "  <tbody>\n",
       "    <tr>\n",
       "      <th>0</th>\n",
       "      <td>nm0061671</td>\n",
       "      <td>tt0837562</td>\n",
       "    </tr>\n",
       "    <tr>\n",
       "      <th>1</th>\n",
       "      <td>nm0061671</td>\n",
       "      <td>tt2398241</td>\n",
       "    </tr>\n",
       "    <tr>\n",
       "      <th>2</th>\n",
       "      <td>nm0061671</td>\n",
       "      <td>tt0844471</td>\n",
       "    </tr>\n",
       "    <tr>\n",
       "      <th>3</th>\n",
       "      <td>nm0061671</td>\n",
       "      <td>tt0118553</td>\n",
       "    </tr>\n",
       "    <tr>\n",
       "      <th>4</th>\n",
       "      <td>nm0061865</td>\n",
       "      <td>tt0896534</td>\n",
       "    </tr>\n",
       "  </tbody>\n",
       "</table>\n",
       "</div>"
      ],
      "text/plain": [
       "   person_id   movie_id\n",
       "0  nm0061671  tt0837562\n",
       "1  nm0061671  tt2398241\n",
       "2  nm0061671  tt0844471\n",
       "3  nm0061671  tt0118553\n",
       "4  nm0061865  tt0896534"
      ]
     },
     "execution_count": 12,
     "metadata": {},
     "output_type": "execute_result"
    }
   ],
   "source": [
    "pd.read_sql_query(\"SELECT * FROM known_for LIMIT 5;\", conn)"
   ]
  },
  {
   "cell_type": "code",
   "execution_count": 13,
   "id": "af05e2fc",
   "metadata": {},
   "outputs": [
    {
     "data": {
      "application/vnd.microsoft.datawrangler.viewer.v0+json": {
       "columns": [
        {
         "name": "index",
         "rawType": "int64",
         "type": "integer"
        },
        {
         "name": "movie_id",
         "rawType": "object",
         "type": "string"
        },
        {
         "name": "averagerating",
         "rawType": "float64",
         "type": "float"
        },
        {
         "name": "numvotes",
         "rawType": "int64",
         "type": "integer"
        }
       ],
       "ref": "fa8f3806-3182-4455-be31-1d0ea0806a9f",
       "rows": [
        [
         "0",
         "tt10356526",
         "8.3",
         "31"
        ],
        [
         "1",
         "tt10384606",
         "8.9",
         "559"
        ],
        [
         "2",
         "tt1042974",
         "6.4",
         "20"
        ],
        [
         "3",
         "tt1043726",
         "4.2",
         "50352"
        ],
        [
         "4",
         "tt1060240",
         "6.5",
         "21"
        ]
       ],
       "shape": {
        "columns": 3,
        "rows": 5
       }
      },
      "text/html": [
       "<div>\n",
       "<style scoped>\n",
       "    .dataframe tbody tr th:only-of-type {\n",
       "        vertical-align: middle;\n",
       "    }\n",
       "\n",
       "    .dataframe tbody tr th {\n",
       "        vertical-align: top;\n",
       "    }\n",
       "\n",
       "    .dataframe thead th {\n",
       "        text-align: right;\n",
       "    }\n",
       "</style>\n",
       "<table border=\"1\" class=\"dataframe\">\n",
       "  <thead>\n",
       "    <tr style=\"text-align: right;\">\n",
       "      <th></th>\n",
       "      <th>movie_id</th>\n",
       "      <th>averagerating</th>\n",
       "      <th>numvotes</th>\n",
       "    </tr>\n",
       "  </thead>\n",
       "  <tbody>\n",
       "    <tr>\n",
       "      <th>0</th>\n",
       "      <td>tt10356526</td>\n",
       "      <td>8.3</td>\n",
       "      <td>31</td>\n",
       "    </tr>\n",
       "    <tr>\n",
       "      <th>1</th>\n",
       "      <td>tt10384606</td>\n",
       "      <td>8.9</td>\n",
       "      <td>559</td>\n",
       "    </tr>\n",
       "    <tr>\n",
       "      <th>2</th>\n",
       "      <td>tt1042974</td>\n",
       "      <td>6.4</td>\n",
       "      <td>20</td>\n",
       "    </tr>\n",
       "    <tr>\n",
       "      <th>3</th>\n",
       "      <td>tt1043726</td>\n",
       "      <td>4.2</td>\n",
       "      <td>50352</td>\n",
       "    </tr>\n",
       "    <tr>\n",
       "      <th>4</th>\n",
       "      <td>tt1060240</td>\n",
       "      <td>6.5</td>\n",
       "      <td>21</td>\n",
       "    </tr>\n",
       "  </tbody>\n",
       "</table>\n",
       "</div>"
      ],
      "text/plain": [
       "     movie_id  averagerating  numvotes\n",
       "0  tt10356526            8.3        31\n",
       "1  tt10384606            8.9       559\n",
       "2   tt1042974            6.4        20\n",
       "3   tt1043726            4.2     50352\n",
       "4   tt1060240            6.5        21"
      ]
     },
     "execution_count": 13,
     "metadata": {},
     "output_type": "execute_result"
    }
   ],
   "source": [
    "pd.read_sql_query(\"SELECT * FROM movie_ratings  LIMIT 5;\", conn)"
   ]
  },
  {
   "cell_type": "code",
   "execution_count": 89,
   "id": "55881d84",
   "metadata": {},
   "outputs": [
    {
     "data": {
      "application/vnd.microsoft.datawrangler.viewer.v0+json": {
       "columns": [
        {
         "name": "index",
         "rawType": "int64",
         "type": "integer"
        },
        {
         "name": "movie_id",
         "rawType": "object",
         "type": "string"
        },
        {
         "name": "ordering",
         "rawType": "int64",
         "type": "integer"
        },
        {
         "name": "title",
         "rawType": "object",
         "type": "string"
        },
        {
         "name": "region",
         "rawType": "object",
         "type": "string"
        },
        {
         "name": "is_original_title",
         "rawType": "float64",
         "type": "float"
        }
       ],
       "ref": "11fe0d78-2501-4853-ab4a-5c1deded8c0a",
       "rows": [
        [
         "0",
         "tt0369610",
         "10",
         "Джурасик свят",
         "BG",
         "0.0"
        ],
        [
         "1",
         "tt0369610",
         "11",
         "Jurashikku warudo",
         "JP",
         "0.0"
        ],
        [
         "2",
         "tt0369610",
         "12",
         "Jurassic World: O Mundo dos Dinossauros",
         "BR",
         "0.0"
        ],
        [
         "3",
         "tt0369610",
         "13",
         "O Mundo dos Dinossauros",
         "BR",
         "0.0"
        ],
        [
         "4",
         "tt0369610",
         "14",
         "Jurassic World",
         "FR",
         "0.0"
        ]
       ],
       "shape": {
        "columns": 5,
        "rows": 5
       }
      },
      "text/html": [
       "<div>\n",
       "<style scoped>\n",
       "    .dataframe tbody tr th:only-of-type {\n",
       "        vertical-align: middle;\n",
       "    }\n",
       "\n",
       "    .dataframe tbody tr th {\n",
       "        vertical-align: top;\n",
       "    }\n",
       "\n",
       "    .dataframe thead th {\n",
       "        text-align: right;\n",
       "    }\n",
       "</style>\n",
       "<table border=\"1\" class=\"dataframe\">\n",
       "  <thead>\n",
       "    <tr style=\"text-align: right;\">\n",
       "      <th></th>\n",
       "      <th>movie_id</th>\n",
       "      <th>ordering</th>\n",
       "      <th>title</th>\n",
       "      <th>region</th>\n",
       "      <th>is_original_title</th>\n",
       "    </tr>\n",
       "  </thead>\n",
       "  <tbody>\n",
       "    <tr>\n",
       "      <th>0</th>\n",
       "      <td>tt0369610</td>\n",
       "      <td>10</td>\n",
       "      <td>Джурасик свят</td>\n",
       "      <td>BG</td>\n",
       "      <td>0.0</td>\n",
       "    </tr>\n",
       "    <tr>\n",
       "      <th>1</th>\n",
       "      <td>tt0369610</td>\n",
       "      <td>11</td>\n",
       "      <td>Jurashikku warudo</td>\n",
       "      <td>JP</td>\n",
       "      <td>0.0</td>\n",
       "    </tr>\n",
       "    <tr>\n",
       "      <th>2</th>\n",
       "      <td>tt0369610</td>\n",
       "      <td>12</td>\n",
       "      <td>Jurassic World: O Mundo dos Dinossauros</td>\n",
       "      <td>BR</td>\n",
       "      <td>0.0</td>\n",
       "    </tr>\n",
       "    <tr>\n",
       "      <th>3</th>\n",
       "      <td>tt0369610</td>\n",
       "      <td>13</td>\n",
       "      <td>O Mundo dos Dinossauros</td>\n",
       "      <td>BR</td>\n",
       "      <td>0.0</td>\n",
       "    </tr>\n",
       "    <tr>\n",
       "      <th>4</th>\n",
       "      <td>tt0369610</td>\n",
       "      <td>14</td>\n",
       "      <td>Jurassic World</td>\n",
       "      <td>FR</td>\n",
       "      <td>0.0</td>\n",
       "    </tr>\n",
       "  </tbody>\n",
       "</table>\n",
       "</div>"
      ],
      "text/plain": [
       "    movie_id  ordering                                    title region  \\\n",
       "0  tt0369610        10                            Джурасик свят     BG   \n",
       "1  tt0369610        11                        Jurashikku warudo     JP   \n",
       "2  tt0369610        12  Jurassic World: O Mundo dos Dinossauros     BR   \n",
       "3  tt0369610        13                  O Mundo dos Dinossauros     BR   \n",
       "4  tt0369610        14                           Jurassic World     FR   \n",
       "\n",
       "   is_original_title  \n",
       "0                0.0  \n",
       "1                0.0  \n",
       "2                0.0  \n",
       "3                0.0  \n",
       "4                0.0  "
      ]
     },
     "execution_count": 89,
     "metadata": {},
     "output_type": "execute_result"
    }
   ],
   "source": [
    "pd.read_sql_query(\"SELECT * FROM  movie_akas   LIMIT 5;\", conn)"
   ]
  },
  {
   "cell_type": "code",
   "execution_count": 90,
   "id": "49d46b6e",
   "metadata": {},
   "outputs": [
    {
     "data": {
      "application/vnd.microsoft.datawrangler.viewer.v0+json": {
       "columns": [
        {
         "name": "index",
         "rawType": "int64",
         "type": "integer"
        },
        {
         "name": "movie_id",
         "rawType": "object",
         "type": "string"
        },
        {
         "name": "person_id",
         "rawType": "object",
         "type": "string"
        }
       ],
       "ref": "94c36569-f044-437e-aeb9-0b48d69e1958",
       "rows": [
        [
         "0",
         "tt0285252",
         "nm0899854"
        ],
        [
         "1",
         "tt0438973",
         "nm0175726"
        ],
        [
         "2",
         "tt0438973",
         "nm1802864"
        ],
        [
         "3",
         "tt0462036",
         "nm1940585"
        ],
        [
         "4",
         "tt0835418",
         "nm0310087"
        ]
       ],
       "shape": {
        "columns": 2,
        "rows": 5
       }
      },
      "text/html": [
       "<div>\n",
       "<style scoped>\n",
       "    .dataframe tbody tr th:only-of-type {\n",
       "        vertical-align: middle;\n",
       "    }\n",
       "\n",
       "    .dataframe tbody tr th {\n",
       "        vertical-align: top;\n",
       "    }\n",
       "\n",
       "    .dataframe thead th {\n",
       "        text-align: right;\n",
       "    }\n",
       "</style>\n",
       "<table border=\"1\" class=\"dataframe\">\n",
       "  <thead>\n",
       "    <tr style=\"text-align: right;\">\n",
       "      <th></th>\n",
       "      <th>movie_id</th>\n",
       "      <th>person_id</th>\n",
       "    </tr>\n",
       "  </thead>\n",
       "  <tbody>\n",
       "    <tr>\n",
       "      <th>0</th>\n",
       "      <td>tt0285252</td>\n",
       "      <td>nm0899854</td>\n",
       "    </tr>\n",
       "    <tr>\n",
       "      <th>1</th>\n",
       "      <td>tt0438973</td>\n",
       "      <td>nm0175726</td>\n",
       "    </tr>\n",
       "    <tr>\n",
       "      <th>2</th>\n",
       "      <td>tt0438973</td>\n",
       "      <td>nm1802864</td>\n",
       "    </tr>\n",
       "    <tr>\n",
       "      <th>3</th>\n",
       "      <td>tt0462036</td>\n",
       "      <td>nm1940585</td>\n",
       "    </tr>\n",
       "    <tr>\n",
       "      <th>4</th>\n",
       "      <td>tt0835418</td>\n",
       "      <td>nm0310087</td>\n",
       "    </tr>\n",
       "  </tbody>\n",
       "</table>\n",
       "</div>"
      ],
      "text/plain": [
       "    movie_id  person_id\n",
       "0  tt0285252  nm0899854\n",
       "1  tt0438973  nm0175726\n",
       "2  tt0438973  nm1802864\n",
       "3  tt0462036  nm1940585\n",
       "4  tt0835418  nm0310087"
      ]
     },
     "execution_count": 90,
     "metadata": {},
     "output_type": "execute_result"
    }
   ],
   "source": [
    "pd.read_sql_query(\"SELECT * FROM  writers   LIMIT 5;\", conn)"
   ]
  },
  {
   "cell_type": "code",
   "execution_count": 16,
   "id": "a0eea890",
   "metadata": {},
   "outputs": [
    {
     "data": {
      "application/vnd.microsoft.datawrangler.viewer.v0+json": {
       "columns": [
        {
         "name": "index",
         "rawType": "int64",
         "type": "integer"
        },
        {
         "name": "movie_id",
         "rawType": "object",
         "type": "string"
        },
        {
         "name": "ordering",
         "rawType": "int64",
         "type": "integer"
        },
        {
         "name": "person_id",
         "rawType": "object",
         "type": "string"
        },
        {
         "name": "category",
         "rawType": "object",
         "type": "string"
        }
       ],
       "ref": "ce1293e3-a61a-45af-98db-801e9a47a776",
       "rows": [
        [
         "0",
         "tt0111414",
         "1",
         "nm0246005",
         "actor"
        ],
        [
         "1",
         "tt0111414",
         "2",
         "nm0398271",
         "director"
        ],
        [
         "2",
         "tt0111414",
         "3",
         "nm3739909",
         "producer"
        ],
        [
         "3",
         "tt0323808",
         "10",
         "nm0059247",
         "editor"
        ],
        [
         "4",
         "tt0323808",
         "1",
         "nm3579312",
         "actress"
        ]
       ],
       "shape": {
        "columns": 4,
        "rows": 5
       }
      },
      "text/html": [
       "<div>\n",
       "<style scoped>\n",
       "    .dataframe tbody tr th:only-of-type {\n",
       "        vertical-align: middle;\n",
       "    }\n",
       "\n",
       "    .dataframe tbody tr th {\n",
       "        vertical-align: top;\n",
       "    }\n",
       "\n",
       "    .dataframe thead th {\n",
       "        text-align: right;\n",
       "    }\n",
       "</style>\n",
       "<table border=\"1\" class=\"dataframe\">\n",
       "  <thead>\n",
       "    <tr style=\"text-align: right;\">\n",
       "      <th></th>\n",
       "      <th>movie_id</th>\n",
       "      <th>ordering</th>\n",
       "      <th>person_id</th>\n",
       "      <th>category</th>\n",
       "    </tr>\n",
       "  </thead>\n",
       "  <tbody>\n",
       "    <tr>\n",
       "      <th>0</th>\n",
       "      <td>tt0111414</td>\n",
       "      <td>1</td>\n",
       "      <td>nm0246005</td>\n",
       "      <td>actor</td>\n",
       "    </tr>\n",
       "    <tr>\n",
       "      <th>1</th>\n",
       "      <td>tt0111414</td>\n",
       "      <td>2</td>\n",
       "      <td>nm0398271</td>\n",
       "      <td>director</td>\n",
       "    </tr>\n",
       "    <tr>\n",
       "      <th>2</th>\n",
       "      <td>tt0111414</td>\n",
       "      <td>3</td>\n",
       "      <td>nm3739909</td>\n",
       "      <td>producer</td>\n",
       "    </tr>\n",
       "    <tr>\n",
       "      <th>3</th>\n",
       "      <td>tt0323808</td>\n",
       "      <td>10</td>\n",
       "      <td>nm0059247</td>\n",
       "      <td>editor</td>\n",
       "    </tr>\n",
       "    <tr>\n",
       "      <th>4</th>\n",
       "      <td>tt0323808</td>\n",
       "      <td>1</td>\n",
       "      <td>nm3579312</td>\n",
       "      <td>actress</td>\n",
       "    </tr>\n",
       "  </tbody>\n",
       "</table>\n",
       "</div>"
      ],
      "text/plain": [
       "    movie_id  ordering  person_id  category\n",
       "0  tt0111414         1  nm0246005     actor\n",
       "1  tt0111414         2  nm0398271  director\n",
       "2  tt0111414         3  nm3739909  producer\n",
       "3  tt0323808        10  nm0059247    editor\n",
       "4  tt0323808         1  nm3579312   actress"
      ]
     },
     "execution_count": 16,
     "metadata": {},
     "output_type": "execute_result"
    }
   ],
   "source": [
    "pd.read_sql_query(\"SELECT * FROM   principals  LIMIT 5;\", conn)"
   ]
  },
  {
   "cell_type": "code",
   "execution_count": 17,
   "id": "0d2f2840",
   "metadata": {},
   "outputs": [
    {
     "data": {
      "application/vnd.microsoft.datawrangler.viewer.v0+json": {
       "columns": [
        {
         "name": "index",
         "rawType": "int64",
         "type": "integer"
        },
        {
         "name": "person_id",
         "rawType": "object",
         "type": "string"
        },
        {
         "name": "primary_name",
         "rawType": "object",
         "type": "string"
        },
        {
         "name": "primary_profession",
         "rawType": "object",
         "type": "string"
        }
       ],
       "ref": "37d67608-2b94-4bd9-8685-f68cdc2fd112",
       "rows": [
        [
         "0",
         "nm0061671",
         "Mary Ellen Bauder",
         "miscellaneous,production_manager,producer"
        ],
        [
         "1",
         "nm0061865",
         "Joseph Bauer",
         "composer,music_department,sound_department"
        ],
        [
         "2",
         "nm0062070",
         "Bruce Baum",
         "miscellaneous,actor,writer"
        ],
        [
         "3",
         "nm0062195",
         "Axel Baumann",
         "camera_department,cinematographer,art_department"
        ],
        [
         "4",
         "nm0062798",
         "Pete Baxter",
         "production_designer,art_department,set_decorator"
        ]
       ],
       "shape": {
        "columns": 3,
        "rows": 5
       }
      },
      "text/html": [
       "<div>\n",
       "<style scoped>\n",
       "    .dataframe tbody tr th:only-of-type {\n",
       "        vertical-align: middle;\n",
       "    }\n",
       "\n",
       "    .dataframe tbody tr th {\n",
       "        vertical-align: top;\n",
       "    }\n",
       "\n",
       "    .dataframe thead th {\n",
       "        text-align: right;\n",
       "    }\n",
       "</style>\n",
       "<table border=\"1\" class=\"dataframe\">\n",
       "  <thead>\n",
       "    <tr style=\"text-align: right;\">\n",
       "      <th></th>\n",
       "      <th>person_id</th>\n",
       "      <th>primary_name</th>\n",
       "      <th>primary_profession</th>\n",
       "    </tr>\n",
       "  </thead>\n",
       "  <tbody>\n",
       "    <tr>\n",
       "      <th>0</th>\n",
       "      <td>nm0061671</td>\n",
       "      <td>Mary Ellen Bauder</td>\n",
       "      <td>miscellaneous,production_manager,producer</td>\n",
       "    </tr>\n",
       "    <tr>\n",
       "      <th>1</th>\n",
       "      <td>nm0061865</td>\n",
       "      <td>Joseph Bauer</td>\n",
       "      <td>composer,music_department,sound_department</td>\n",
       "    </tr>\n",
       "    <tr>\n",
       "      <th>2</th>\n",
       "      <td>nm0062070</td>\n",
       "      <td>Bruce Baum</td>\n",
       "      <td>miscellaneous,actor,writer</td>\n",
       "    </tr>\n",
       "    <tr>\n",
       "      <th>3</th>\n",
       "      <td>nm0062195</td>\n",
       "      <td>Axel Baumann</td>\n",
       "      <td>camera_department,cinematographer,art_department</td>\n",
       "    </tr>\n",
       "    <tr>\n",
       "      <th>4</th>\n",
       "      <td>nm0062798</td>\n",
       "      <td>Pete Baxter</td>\n",
       "      <td>production_designer,art_department,set_decorator</td>\n",
       "    </tr>\n",
       "  </tbody>\n",
       "</table>\n",
       "</div>"
      ],
      "text/plain": [
       "   person_id       primary_name  \\\n",
       "0  nm0061671  Mary Ellen Bauder   \n",
       "1  nm0061865       Joseph Bauer   \n",
       "2  nm0062070         Bruce Baum   \n",
       "3  nm0062195       Axel Baumann   \n",
       "4  nm0062798        Pete Baxter   \n",
       "\n",
       "                                 primary_profession  \n",
       "0         miscellaneous,production_manager,producer  \n",
       "1        composer,music_department,sound_department  \n",
       "2                        miscellaneous,actor,writer  \n",
       "3  camera_department,cinematographer,art_department  \n",
       "4  production_designer,art_department,set_decorator  "
      ]
     },
     "execution_count": 17,
     "metadata": {},
     "output_type": "execute_result"
    }
   ],
   "source": [
    "pd.read_sql_query(\"SELECT * FROM   persons  LIMIT 5;\", conn)"
   ]
  },
  {
   "cell_type": "code",
   "execution_count": 24,
   "id": "8a1607ee",
   "metadata": {},
   "outputs": [
    {
     "data": {
      "application/vnd.microsoft.datawrangler.viewer.v0+json": {
       "columns": [
        {
         "name": "index",
         "rawType": "int64",
         "type": "integer"
        },
        {
         "name": "title",
         "rawType": "object",
         "type": "string"
        },
        {
         "name": "studio",
         "rawType": "object",
         "type": "string"
        },
        {
         "name": "domestic_gross",
         "rawType": "float64",
         "type": "float"
        },
        {
         "name": "foreign_gross",
         "rawType": "object",
         "type": "string"
        },
        {
         "name": "year",
         "rawType": "int64",
         "type": "integer"
        }
       ],
       "ref": "0b93a63f-97cd-4751-95e8-d97e08a4f397",
       "rows": [
        [
         "0",
         "Toy Story 3",
         "BV",
         "415000000.0",
         "652000000",
         "2010"
        ],
        [
         "1",
         "Alice in Wonderland (2010)",
         "BV",
         "334200000.0",
         "691300000",
         "2010"
        ],
        [
         "2",
         "Harry Potter and the Deathly Hallows Part 1",
         "WB",
         "296000000.0",
         "664300000",
         "2010"
        ],
        [
         "3",
         "Inception",
         "WB",
         "292600000.0",
         "535700000",
         "2010"
        ],
        [
         "4",
         "Shrek Forever After",
         "P/DW",
         "238700000.0",
         "513900000",
         "2010"
        ]
       ],
       "shape": {
        "columns": 5,
        "rows": 5
       }
      },
      "text/html": [
       "<div>\n",
       "<style scoped>\n",
       "    .dataframe tbody tr th:only-of-type {\n",
       "        vertical-align: middle;\n",
       "    }\n",
       "\n",
       "    .dataframe tbody tr th {\n",
       "        vertical-align: top;\n",
       "    }\n",
       "\n",
       "    .dataframe thead th {\n",
       "        text-align: right;\n",
       "    }\n",
       "</style>\n",
       "<table border=\"1\" class=\"dataframe\">\n",
       "  <thead>\n",
       "    <tr style=\"text-align: right;\">\n",
       "      <th></th>\n",
       "      <th>title</th>\n",
       "      <th>studio</th>\n",
       "      <th>domestic_gross</th>\n",
       "      <th>foreign_gross</th>\n",
       "      <th>year</th>\n",
       "    </tr>\n",
       "  </thead>\n",
       "  <tbody>\n",
       "    <tr>\n",
       "      <th>0</th>\n",
       "      <td>Toy Story 3</td>\n",
       "      <td>BV</td>\n",
       "      <td>415000000.0</td>\n",
       "      <td>652000000</td>\n",
       "      <td>2010</td>\n",
       "    </tr>\n",
       "    <tr>\n",
       "      <th>1</th>\n",
       "      <td>Alice in Wonderland (2010)</td>\n",
       "      <td>BV</td>\n",
       "      <td>334200000.0</td>\n",
       "      <td>691300000</td>\n",
       "      <td>2010</td>\n",
       "    </tr>\n",
       "    <tr>\n",
       "      <th>2</th>\n",
       "      <td>Harry Potter and the Deathly Hallows Part 1</td>\n",
       "      <td>WB</td>\n",
       "      <td>296000000.0</td>\n",
       "      <td>664300000</td>\n",
       "      <td>2010</td>\n",
       "    </tr>\n",
       "    <tr>\n",
       "      <th>3</th>\n",
       "      <td>Inception</td>\n",
       "      <td>WB</td>\n",
       "      <td>292600000.0</td>\n",
       "      <td>535700000</td>\n",
       "      <td>2010</td>\n",
       "    </tr>\n",
       "    <tr>\n",
       "      <th>4</th>\n",
       "      <td>Shrek Forever After</td>\n",
       "      <td>P/DW</td>\n",
       "      <td>238700000.0</td>\n",
       "      <td>513900000</td>\n",
       "      <td>2010</td>\n",
       "    </tr>\n",
       "  </tbody>\n",
       "</table>\n",
       "</div>"
      ],
      "text/plain": [
       "                                         title studio  domestic_gross  \\\n",
       "0                                  Toy Story 3     BV     415000000.0   \n",
       "1                   Alice in Wonderland (2010)     BV     334200000.0   \n",
       "2  Harry Potter and the Deathly Hallows Part 1     WB     296000000.0   \n",
       "3                                    Inception     WB     292600000.0   \n",
       "4                          Shrek Forever After   P/DW     238700000.0   \n",
       "\n",
       "  foreign_gross  year  \n",
       "0     652000000  2010  \n",
       "1     691300000  2010  \n",
       "2     664300000  2010  \n",
       "3     535700000  2010  \n",
       "4     513900000  2010  "
      ]
     },
     "execution_count": 24,
     "metadata": {},
     "output_type": "execute_result"
    }
   ],
   "source": [
    "bom = pd.read_csv(\"bom.movie_gross.csv\")\n",
    "bom.head()"
   ]
  },
  {
   "cell_type": "code",
   "execution_count": 19,
   "id": "66986dca",
   "metadata": {},
   "outputs": [
    {
     "data": {
      "application/vnd.microsoft.datawrangler.viewer.v0+json": {
       "columns": [
        {
         "name": "index",
         "rawType": "int64",
         "type": "integer"
        },
        {
         "name": "Unnamed: 0",
         "rawType": "int64",
         "type": "integer"
        },
        {
         "name": "genre_ids",
         "rawType": "object",
         "type": "string"
        },
        {
         "name": "id",
         "rawType": "int64",
         "type": "integer"
        },
        {
         "name": "original_language",
         "rawType": "object",
         "type": "string"
        },
        {
         "name": "original_title",
         "rawType": "object",
         "type": "string"
        },
        {
         "name": "popularity",
         "rawType": "float64",
         "type": "float"
        },
        {
         "name": "release_date",
         "rawType": "object",
         "type": "string"
        },
        {
         "name": "title",
         "rawType": "object",
         "type": "string"
        },
        {
         "name": "vote_average",
         "rawType": "float64",
         "type": "float"
        },
        {
         "name": "vote_count",
         "rawType": "int64",
         "type": "integer"
        }
       ],
       "ref": "693aa2e1-054d-42ea-9511-c45047242f29",
       "rows": [
        [
         "0",
         "0",
         "[12, 14, 10751]",
         "12444",
         "en",
         "Harry Potter and the Deathly Hallows: Part 1",
         "33.533",
         "2010-11-19",
         "Harry Potter and the Deathly Hallows: Part 1",
         "7.7",
         "10788"
        ],
        [
         "1",
         "1",
         "[14, 12, 16, 10751]",
         "10191",
         "en",
         "How to Train Your Dragon",
         "28.734",
         "2010-03-26",
         "How to Train Your Dragon",
         "7.7",
         "7610"
        ],
        [
         "2",
         "2",
         "[12, 28, 878]",
         "10138",
         "en",
         "Iron Man 2",
         "28.515",
         "2010-05-07",
         "Iron Man 2",
         "6.8",
         "12368"
        ],
        [
         "3",
         "3",
         "[16, 35, 10751]",
         "862",
         "en",
         "Toy Story",
         "28.005",
         "1995-11-22",
         "Toy Story",
         "7.9",
         "10174"
        ],
        [
         "4",
         "4",
         "[28, 878, 12]",
         "27205",
         "en",
         "Inception",
         "27.92",
         "2010-07-16",
         "Inception",
         "8.3",
         "22186"
        ]
       ],
       "shape": {
        "columns": 10,
        "rows": 5
       }
      },
      "text/html": [
       "<div>\n",
       "<style scoped>\n",
       "    .dataframe tbody tr th:only-of-type {\n",
       "        vertical-align: middle;\n",
       "    }\n",
       "\n",
       "    .dataframe tbody tr th {\n",
       "        vertical-align: top;\n",
       "    }\n",
       "\n",
       "    .dataframe thead th {\n",
       "        text-align: right;\n",
       "    }\n",
       "</style>\n",
       "<table border=\"1\" class=\"dataframe\">\n",
       "  <thead>\n",
       "    <tr style=\"text-align: right;\">\n",
       "      <th></th>\n",
       "      <th>Unnamed: 0</th>\n",
       "      <th>genre_ids</th>\n",
       "      <th>id</th>\n",
       "      <th>original_language</th>\n",
       "      <th>original_title</th>\n",
       "      <th>popularity</th>\n",
       "      <th>release_date</th>\n",
       "      <th>title</th>\n",
       "      <th>vote_average</th>\n",
       "      <th>vote_count</th>\n",
       "    </tr>\n",
       "  </thead>\n",
       "  <tbody>\n",
       "    <tr>\n",
       "      <th>0</th>\n",
       "      <td>0</td>\n",
       "      <td>[12, 14, 10751]</td>\n",
       "      <td>12444</td>\n",
       "      <td>en</td>\n",
       "      <td>Harry Potter and the Deathly Hallows: Part 1</td>\n",
       "      <td>33.533</td>\n",
       "      <td>2010-11-19</td>\n",
       "      <td>Harry Potter and the Deathly Hallows: Part 1</td>\n",
       "      <td>7.7</td>\n",
       "      <td>10788</td>\n",
       "    </tr>\n",
       "    <tr>\n",
       "      <th>1</th>\n",
       "      <td>1</td>\n",
       "      <td>[14, 12, 16, 10751]</td>\n",
       "      <td>10191</td>\n",
       "      <td>en</td>\n",
       "      <td>How to Train Your Dragon</td>\n",
       "      <td>28.734</td>\n",
       "      <td>2010-03-26</td>\n",
       "      <td>How to Train Your Dragon</td>\n",
       "      <td>7.7</td>\n",
       "      <td>7610</td>\n",
       "    </tr>\n",
       "    <tr>\n",
       "      <th>2</th>\n",
       "      <td>2</td>\n",
       "      <td>[12, 28, 878]</td>\n",
       "      <td>10138</td>\n",
       "      <td>en</td>\n",
       "      <td>Iron Man 2</td>\n",
       "      <td>28.515</td>\n",
       "      <td>2010-05-07</td>\n",
       "      <td>Iron Man 2</td>\n",
       "      <td>6.8</td>\n",
       "      <td>12368</td>\n",
       "    </tr>\n",
       "    <tr>\n",
       "      <th>3</th>\n",
       "      <td>3</td>\n",
       "      <td>[16, 35, 10751]</td>\n",
       "      <td>862</td>\n",
       "      <td>en</td>\n",
       "      <td>Toy Story</td>\n",
       "      <td>28.005</td>\n",
       "      <td>1995-11-22</td>\n",
       "      <td>Toy Story</td>\n",
       "      <td>7.9</td>\n",
       "      <td>10174</td>\n",
       "    </tr>\n",
       "    <tr>\n",
       "      <th>4</th>\n",
       "      <td>4</td>\n",
       "      <td>[28, 878, 12]</td>\n",
       "      <td>27205</td>\n",
       "      <td>en</td>\n",
       "      <td>Inception</td>\n",
       "      <td>27.920</td>\n",
       "      <td>2010-07-16</td>\n",
       "      <td>Inception</td>\n",
       "      <td>8.3</td>\n",
       "      <td>22186</td>\n",
       "    </tr>\n",
       "  </tbody>\n",
       "</table>\n",
       "</div>"
      ],
      "text/plain": [
       "   Unnamed: 0            genre_ids     id original_language  \\\n",
       "0           0      [12, 14, 10751]  12444                en   \n",
       "1           1  [14, 12, 16, 10751]  10191                en   \n",
       "2           2        [12, 28, 878]  10138                en   \n",
       "3           3      [16, 35, 10751]    862                en   \n",
       "4           4        [28, 878, 12]  27205                en   \n",
       "\n",
       "                                 original_title  popularity release_date  \\\n",
       "0  Harry Potter and the Deathly Hallows: Part 1      33.533   2010-11-19   \n",
       "1                      How to Train Your Dragon      28.734   2010-03-26   \n",
       "2                                    Iron Man 2      28.515   2010-05-07   \n",
       "3                                     Toy Story      28.005   1995-11-22   \n",
       "4                                     Inception      27.920   2010-07-16   \n",
       "\n",
       "                                          title  vote_average  vote_count  \n",
       "0  Harry Potter and the Deathly Hallows: Part 1           7.7       10788  \n",
       "1                      How to Train Your Dragon           7.7        7610  \n",
       "2                                    Iron Man 2           6.8       12368  \n",
       "3                                     Toy Story           7.9       10174  \n",
       "4                                     Inception           8.3       22186  "
      ]
     },
     "execution_count": 19,
     "metadata": {},
     "output_type": "execute_result"
    }
   ],
   "source": [
    "tmdb = pd.read_csv(\"tmdb.movies.csv\")\n",
    "tmdb.head()"
   ]
  },
  {
   "cell_type": "markdown",
   "id": "ecd86925",
   "metadata": {},
   "source": [
    "# 3. Checking the Data"
   ]
  },
  {
   "cell_type": "code",
   "execution_count": 91,
   "id": "ead3a4dd",
   "metadata": {},
   "outputs": [
    {
     "name": "stdout",
     "output_type": "stream",
     "text": [
      "                                         title studio  domestic_gross  \\\n",
      "0                                  Toy Story 3     BV     415000000.0   \n",
      "1                   Alice in Wonderland (2010)     BV     334200000.0   \n",
      "2  Harry Potter and the Deathly Hallows Part 1     WB     296000000.0   \n",
      "3                                    Inception     WB     292600000.0   \n",
      "4                          Shrek Forever After   P/DW     238700000.0   \n",
      "\n",
      "  foreign_gross  year                                  title_clean  \n",
      "0     652000000  2010                                  toy story 3  \n",
      "1     691300000  2010                   alice in wonderland (2010)  \n",
      "2     664300000  2010  harry potter and the deathly hallows part 1  \n",
      "3     535700000  2010                                    inception  \n",
      "4     513900000  2010                          shrek forever after  \n"
     ]
    }
   ],
   "source": [
    "# checking data\n",
    "print(bom.head(5))"
   ]
  },
  {
   "cell_type": "code",
   "execution_count": 92,
   "id": "939ae5b0",
   "metadata": {},
   "outputs": [
    {
     "data": {
      "text/plain": [
       "<bound method DataFrame.isnull of                                             title      studio  domestic_gross  \\\n",
       "0                                     Toy Story 3          BV     415000000.0   \n",
       "1                      Alice in Wonderland (2010)          BV     334200000.0   \n",
       "2     Harry Potter and the Deathly Hallows Part 1          WB     296000000.0   \n",
       "3                                       Inception          WB     292600000.0   \n",
       "4                             Shrek Forever After        P/DW     238700000.0   \n",
       "...                                           ...         ...             ...   \n",
       "3382                                    The Quake       Magn.          6200.0   \n",
       "3383                  Edward II (2018 re-release)          FM          4800.0   \n",
       "3384                                     El Pacto        Sony          2500.0   \n",
       "3385                                     The Swan  Synergetic          2400.0   \n",
       "3386                            An Actor Prepares       Grav.          1700.0   \n",
       "\n",
       "     foreign_gross  year                                  title_clean  \n",
       "0        652000000  2010                                  toy story 3  \n",
       "1        691300000  2010                   alice in wonderland (2010)  \n",
       "2        664300000  2010  harry potter and the deathly hallows part 1  \n",
       "3        535700000  2010                                    inception  \n",
       "4        513900000  2010                          shrek forever after  \n",
       "...            ...   ...                                          ...  \n",
       "3382           NaN  2018                                    the quake  \n",
       "3383           NaN  2018                  edward ii (2018 re-release)  \n",
       "3384           NaN  2018                                     el pacto  \n",
       "3385           NaN  2018                                     the swan  \n",
       "3386           NaN  2018                            an actor prepares  \n",
       "\n",
       "[3387 rows x 6 columns]>"
      ]
     },
     "execution_count": 92,
     "metadata": {},
     "output_type": "execute_result"
    }
   ],
   "source": [
    "# checking unique values\n",
    "bom.isnull"
   ]
  },
  {
   "cell_type": "code",
   "execution_count": 93,
   "id": "13aef242",
   "metadata": {},
   "outputs": [
    {
     "data": {
      "application/vnd.microsoft.datawrangler.viewer.v0+json": {
       "columns": [
        {
         "name": "index",
         "rawType": "object",
         "type": "string"
        },
        {
         "name": "0",
         "rawType": "int64",
         "type": "integer"
        }
       ],
       "ref": "4d8d76d8-0349-4467-a4f6-6a1be8187b38",
       "rows": [
        [
         "title",
         "0"
        ],
        [
         "studio",
         "5"
        ],
        [
         "domestic_gross",
         "28"
        ],
        [
         "foreign_gross",
         "1350"
        ],
        [
         "year",
         "0"
        ],
        [
         "title_clean",
         "0"
        ]
       ],
       "shape": {
        "columns": 1,
        "rows": 6
       }
      },
      "text/plain": [
       "title                0\n",
       "studio               5\n",
       "domestic_gross      28\n",
       "foreign_gross     1350\n",
       "year                 0\n",
       "title_clean          0\n",
       "dtype: int64"
      ]
     },
     "execution_count": 93,
     "metadata": {},
     "output_type": "execute_result"
    }
   ],
   "source": [
    "# identifying the missing data\n",
    "bom.isna().sum()\n"
   ]
  },
  {
   "cell_type": "code",
   "execution_count": 94,
   "id": "48ba2cc3",
   "metadata": {},
   "outputs": [],
   "source": [
    "release_dates = pd.read_sql_query(\"SELECT * FROM movie_basics\", conn)\n"
   ]
  },
  {
   "cell_type": "code",
   "execution_count": 95,
   "id": "f57145c5",
   "metadata": {},
   "outputs": [
    {
     "data": {
      "application/vnd.microsoft.datawrangler.viewer.v0+json": {
       "columns": [
        {
         "name": "index",
         "rawType": "int64",
         "type": "integer"
        },
        {
         "name": "title",
         "rawType": "object",
         "type": "string"
        },
        {
         "name": "studio",
         "rawType": "object",
         "type": "string"
        },
        {
         "name": "domestic_gross",
         "rawType": "float64",
         "type": "float"
        },
        {
         "name": "foreign_gross",
         "rawType": "object",
         "type": "string"
        },
        {
         "name": "year",
         "rawType": "int64",
         "type": "integer"
        },
        {
         "name": "title_clean",
         "rawType": "object",
         "type": "string"
        },
        {
         "name": "movie_id",
         "rawType": "object",
         "type": "string"
        },
        {
         "name": "primary_title",
         "rawType": "object",
         "type": "string"
        },
        {
         "name": "original_title",
         "rawType": "object",
         "type": "string"
        },
        {
         "name": "start_year",
         "rawType": "object",
         "type": "string"
        },
        {
         "name": "runtime_minutes",
         "rawType": "float64",
         "type": "float"
        },
        {
         "name": "genres",
         "rawType": "object",
         "type": "string"
        }
       ],
       "ref": "3b2b1d31-fae6-4c27-adf3-a404fed519a2",
       "rows": [
        [
         "0",
         "Toy Story 3",
         "BV",
         "415000000.0",
         "652000000",
         "2010",
         "toy story 3",
         "tt0435761",
         "Toy Story 3",
         "Toy Story 3",
         "1970-01-01 00:00:00.000002",
         "103.0",
         "Adventure,Animation,Comedy"
        ],
        [
         "1",
         "Inception",
         "WB",
         "292600000.0",
         "535700000",
         "2010",
         "inception",
         "tt1375666",
         "Inception",
         "Inception",
         "1970-01-01 00:00:00.000002",
         "148.0",
         "Action,Adventure,Sci-Fi"
        ],
        [
         "2",
         "Shrek Forever After",
         "P/DW",
         "238700000.0",
         "513900000",
         "2010",
         "shrek forever after",
         "tt0892791",
         "Shrek Forever After",
         "Shrek Forever After",
         "1970-01-01 00:00:00.000002",
         "93.0",
         "Adventure,Animation,Comedy"
        ],
        [
         "3",
         "The Twilight Saga: Eclipse",
         "Sum.",
         "300500000.0",
         "398000000",
         "2010",
         "the twilight saga: eclipse",
         "tt1325004",
         "The Twilight Saga: Eclipse",
         "The Twilight Saga: Eclipse",
         "1970-01-01 00:00:00.000002",
         "124.0",
         "Adventure,Drama,Fantasy"
        ],
        [
         "4",
         "Iron Man 2",
         "Par.",
         "312400000.0",
         "311500000",
         "2010",
         "iron man 2",
         "tt1228705",
         "Iron Man 2",
         "Iron Man 2",
         "1970-01-01 00:00:00.000002",
         "124.0",
         "Action,Adventure,Sci-Fi"
        ]
       ],
       "shape": {
        "columns": 12,
        "rows": 5
       }
      },
      "text/html": [
       "<div>\n",
       "<style scoped>\n",
       "    .dataframe tbody tr th:only-of-type {\n",
       "        vertical-align: middle;\n",
       "    }\n",
       "\n",
       "    .dataframe tbody tr th {\n",
       "        vertical-align: top;\n",
       "    }\n",
       "\n",
       "    .dataframe thead th {\n",
       "        text-align: right;\n",
       "    }\n",
       "</style>\n",
       "<table border=\"1\" class=\"dataframe\">\n",
       "  <thead>\n",
       "    <tr style=\"text-align: right;\">\n",
       "      <th></th>\n",
       "      <th>title</th>\n",
       "      <th>studio</th>\n",
       "      <th>domestic_gross</th>\n",
       "      <th>foreign_gross</th>\n",
       "      <th>year</th>\n",
       "      <th>title_clean</th>\n",
       "      <th>movie_id</th>\n",
       "      <th>primary_title</th>\n",
       "      <th>original_title</th>\n",
       "      <th>start_year</th>\n",
       "      <th>runtime_minutes</th>\n",
       "      <th>genres</th>\n",
       "    </tr>\n",
       "  </thead>\n",
       "  <tbody>\n",
       "    <tr>\n",
       "      <th>0</th>\n",
       "      <td>Toy Story 3</td>\n",
       "      <td>BV</td>\n",
       "      <td>415000000.0</td>\n",
       "      <td>652000000</td>\n",
       "      <td>2010</td>\n",
       "      <td>toy story 3</td>\n",
       "      <td>tt0435761</td>\n",
       "      <td>Toy Story 3</td>\n",
       "      <td>Toy Story 3</td>\n",
       "      <td>1970-01-01 00:00:00.000002</td>\n",
       "      <td>103.0</td>\n",
       "      <td>Adventure,Animation,Comedy</td>\n",
       "    </tr>\n",
       "    <tr>\n",
       "      <th>1</th>\n",
       "      <td>Inception</td>\n",
       "      <td>WB</td>\n",
       "      <td>292600000.0</td>\n",
       "      <td>535700000</td>\n",
       "      <td>2010</td>\n",
       "      <td>inception</td>\n",
       "      <td>tt1375666</td>\n",
       "      <td>Inception</td>\n",
       "      <td>Inception</td>\n",
       "      <td>1970-01-01 00:00:00.000002</td>\n",
       "      <td>148.0</td>\n",
       "      <td>Action,Adventure,Sci-Fi</td>\n",
       "    </tr>\n",
       "    <tr>\n",
       "      <th>2</th>\n",
       "      <td>Shrek Forever After</td>\n",
       "      <td>P/DW</td>\n",
       "      <td>238700000.0</td>\n",
       "      <td>513900000</td>\n",
       "      <td>2010</td>\n",
       "      <td>shrek forever after</td>\n",
       "      <td>tt0892791</td>\n",
       "      <td>Shrek Forever After</td>\n",
       "      <td>Shrek Forever After</td>\n",
       "      <td>1970-01-01 00:00:00.000002</td>\n",
       "      <td>93.0</td>\n",
       "      <td>Adventure,Animation,Comedy</td>\n",
       "    </tr>\n",
       "    <tr>\n",
       "      <th>3</th>\n",
       "      <td>The Twilight Saga: Eclipse</td>\n",
       "      <td>Sum.</td>\n",
       "      <td>300500000.0</td>\n",
       "      <td>398000000</td>\n",
       "      <td>2010</td>\n",
       "      <td>the twilight saga: eclipse</td>\n",
       "      <td>tt1325004</td>\n",
       "      <td>The Twilight Saga: Eclipse</td>\n",
       "      <td>The Twilight Saga: Eclipse</td>\n",
       "      <td>1970-01-01 00:00:00.000002</td>\n",
       "      <td>124.0</td>\n",
       "      <td>Adventure,Drama,Fantasy</td>\n",
       "    </tr>\n",
       "    <tr>\n",
       "      <th>4</th>\n",
       "      <td>Iron Man 2</td>\n",
       "      <td>Par.</td>\n",
       "      <td>312400000.0</td>\n",
       "      <td>311500000</td>\n",
       "      <td>2010</td>\n",
       "      <td>iron man 2</td>\n",
       "      <td>tt1228705</td>\n",
       "      <td>Iron Man 2</td>\n",
       "      <td>Iron Man 2</td>\n",
       "      <td>1970-01-01 00:00:00.000002</td>\n",
       "      <td>124.0</td>\n",
       "      <td>Action,Adventure,Sci-Fi</td>\n",
       "    </tr>\n",
       "  </tbody>\n",
       "</table>\n",
       "</div>"
      ],
      "text/plain": [
       "                        title studio  domestic_gross foreign_gross  year  \\\n",
       "0                 Toy Story 3     BV     415000000.0     652000000  2010   \n",
       "1                   Inception     WB     292600000.0     535700000  2010   \n",
       "2         Shrek Forever After   P/DW     238700000.0     513900000  2010   \n",
       "3  The Twilight Saga: Eclipse   Sum.     300500000.0     398000000  2010   \n",
       "4                  Iron Man 2   Par.     312400000.0     311500000  2010   \n",
       "\n",
       "                  title_clean   movie_id               primary_title  \\\n",
       "0                 toy story 3  tt0435761                 Toy Story 3   \n",
       "1                   inception  tt1375666                   Inception   \n",
       "2         shrek forever after  tt0892791         Shrek Forever After   \n",
       "3  the twilight saga: eclipse  tt1325004  The Twilight Saga: Eclipse   \n",
       "4                  iron man 2  tt1228705                  Iron Man 2   \n",
       "\n",
       "               original_title                  start_year  runtime_minutes  \\\n",
       "0                 Toy Story 3  1970-01-01 00:00:00.000002            103.0   \n",
       "1                   Inception  1970-01-01 00:00:00.000002            148.0   \n",
       "2         Shrek Forever After  1970-01-01 00:00:00.000002             93.0   \n",
       "3  The Twilight Saga: Eclipse  1970-01-01 00:00:00.000002            124.0   \n",
       "4                  Iron Man 2  1970-01-01 00:00:00.000002            124.0   \n",
       "\n",
       "                       genres  \n",
       "0  Adventure,Animation,Comedy  \n",
       "1     Action,Adventure,Sci-Fi  \n",
       "2  Adventure,Animation,Comedy  \n",
       "3     Adventure,Drama,Fantasy  \n",
       "4     Action,Adventure,Sci-Fi  "
      ]
     },
     "execution_count": 95,
     "metadata": {},
     "output_type": "execute_result"
    }
   ],
   "source": [
    "merged_df = pd.merge(\n",
    "    bom, \n",
    "    release_dates, \n",
    "    left_on='title', \n",
    "    right_on='primary_title', \n",
    "    how='inner'\n",
    ")\n",
    "merged_df.head()"
   ]
  },
  {
   "cell_type": "code",
   "execution_count": 96,
   "id": "ab5c45ca",
   "metadata": {},
   "outputs": [],
   "source": [
    "release_dates = pd.read_sql_query(\"SELECT primary_title, start_year FROM movie_basics\", conn)"
   ]
  },
  {
   "cell_type": "code",
   "execution_count": 97,
   "id": "3bcac623",
   "metadata": {},
   "outputs": [
    {
     "data": {
      "application/vnd.microsoft.datawrangler.viewer.v0+json": {
       "columns": [
        {
         "name": "index",
         "rawType": "int64",
         "type": "integer"
        },
        {
         "name": "start_year",
         "rawType": "object",
         "type": "string"
        },
        {
         "name": "domestic_gross",
         "rawType": "float64",
         "type": "float"
        },
        {
         "name": "foreign_gross",
         "rawType": "object",
         "type": "string"
        }
       ],
       "ref": "67cb4c78-69ae-4e13-88b5-4132f8b968db",
       "rows": [
        [
         "0",
         "1970-01-01 00:00:00.000002",
         "98084460580.0",
         "652000000535700000513900000398000000311500000391000000291600000277300000311300000275400000182500000245600000222400000173500000216400000216400000216400000216400000187900000162200000240100000166800000175200000193000000210700000171400000109400000810000001946000001280000001060000001521000001112000001240000001013000001086000001086000001086000001086000001086000009280000010000000051200000862000008620000086200000862000008620000086200000862000006230000061800000618000005360000084400000778000006930000082300000356000007520000035000000689000005240000052400000523000005230000072500000943000005110000051100000481000005980000064200000303000005010000050100000261000001380000050100000582000003780000043900000261000001170000016600000113000003229999926700000463000004540000014300000291000002910000042400000537000447000002900000037000000370000003700000037000000107000001570000028700000254000002210000017800000185000001700000016100000469000002090000017500000104000002420000024200000405000001730018600000124000001390000031000000670000067000006300000580000058000001100000120000001200000029900120000062000003100001650000016500000165000001810000018100000181000004600000160000009900000149000003100000122000007300000690000069000001110000011300000260000011400000860000086000005400000356000250000025000002900000290000029000002200000770000077000007700000700000070000007970003600000550000055000006700000570000057000001280001900000200000029000004600000460000011000001100000440000042000002800004000000400000040000004000000380000038000002420003300000130000060300240000024000002400000140000012000001200000935000391000695000761000105000648000130000056600056600040700893000893000499000393000393000393000393000393000389000487000369000625007760030500048000016000016000045006870068700687006870030000015800097100971009710071002500002500008870088700243003500150000173001190001640060700996001530053600510001860052005200771400000804600000485300000500400000416300000332300000421100000370700000405700000358600000341000000341000000341000000305000000268300000296400000193900000207200000209600000213800000119300000133100000122200000129000000143400000103300000469000001159000009210000010300000011910000011190000011190000075900000977000009770000094700000947000007460000013640000089500000766000008260000082600000826000001518000001153000007490000094300000943000008640000094800000755000009370000078600000786000007860000010100000092600000585000008750000087500000598000008880000088800000888000006709999967099999654000004450000058400000849000003460000085400000260000006060000060600000590000004300000063000000231000006680000053400000515000004760000038100000448000005400000054000000540000005400000054000000492000004700000035000000384000001700000019700000364000002120000043200000432000002350000062900000243000002110000045500000455000004550000045500000455000004550000058200000313000002340000041000000410000002320000032000004580000014500000145000001530000038200000350000032000002130000016500000420000042000001760000017200000172000004150001290000032600020500000450000045000002350000023500000336000001540000027700000209000001639999918200000218000007600000760000026500000790000020000000330000010800000225000002160000094000009400000660000013400000176000001280000012800000142000001420000013800000138000001680000068000001660000015200000129000001290000012900000390000039000001090000010900000146000001460000011100000850000013600000126000001200000011800000100000006520006520009900000860000079000008500000850000085000006600000760000076000007600000760000076000007600000244000630000064000001200000430000048000005300000560000057000004099999441000480000048000004600000340000040999994300000420000039000003900000336000336000336000360000036000003100000548000280000032000001230003100000140000025000002700000240000019000002100000210000021000002000000160000018000004560001700000600000946000100000091200052700039700013200082600038200019300042300061400060200052000052000042100042700032900034700030300286000243000103000248000220000125000102000175000137001610001610001210009670010500014900386003620051005100510051005100510051008042000006368000007181000007159000004959000005305000002864000004840000003306000003032000003032000002818000002626000002769000002413000002363000002101000002314000002299000002035000002216000002376000002111000001629000009310000093100000165800000197700000104300000178000000963000001383000008170000081700000817000006310000071100000118100000161300000119700000110000000535000006800000097800000101700000126400000889000001054000009040000037100000808000001034000007340000092000000425000007900000050300000507000005110000018000000180000001043000004800000048000000485000003890000029700000450000020500000880000003630000043200000828000004620000011300000296000002960000025700000281000005660000027800000561000003290000022800000244000002090000020800000420000010500000105000002510000016300000163000004890001320000048300000710000027600000470000041300000229000001900000022200000276000005900000870000025500000156000001440000074000001790000022600010800000136000002860000027600000119000001190000011900000119000002370000046000001760000036000004200000420000042000004200000420000083000002020000013100000409999944000006400000640000064000006400000640000064000006400000640000064000006400000640000064000006400000640000064000001760000013100000156000001450000070400017000003470005800000122000001240000011900000115000001160000020000009200000260000047000004700000770000077000007700000310000066000002500000800000080000008000000800000080000008000000810000081999998000000740000074000007400000600000072000007200000710000023000005300000600580000026000004500000450000052000005200000200000014800031000003100000310000040000003400000340000034000003400000340000034000003700000170000034000002900000290000029000002900000260000026000001900000110000020000001700000160000010000001600000150000014000001400000140000012000001200000661000120000013000004820001000000315000315000315000754000285000803000564000564000432000426000364000186000707001430004100070100459001670095008757000008757000008757000008058000006027000007000000004403000005500000004757000004491000003770000004382000004000000003376000002386000002823000003092000002751000002532000002498000002340000002340000002765000001821000002373000001971000001971000001931000001931000001995000001545000001196000001609000001712000001011000001133000001833000001490000007030000011170000013230000013130000019770000013250000012990000013110000060000000395000004630000071300000297000001134000007480000074800000748000007480000074800000748000007480000011220000070500000563000006380000061100000346000005060000011580000054600000592000006240000054600000546000005630000026200000262000006409999964200000488000002490000080000000718000004640000044700000777000005510000036500000230000072200000540000001670000016700000167000001670000057500000434000006000000032000000201000004110000027900000541000001930000048300000363000003630000012900000247000002860000020100000151000002290000022900000198000001410000019700000110000001100000023600000740001760000060000002820000010000000490000019000000272000009000000770000021900000219000002190000021300000887000214000002140000021400000214000001850000021300000180000001450000013300000720000013000007700000430000070000006500000640000064000006400000640000064000006400000740000010400000115000001120000031000009900000930000093000009300000130000053000008000000800000080000008000000800000080000004600000200000043600052000005300000670000063000005300000530000045000004500000440000044000003600000360000036000003600000240000024000002400000997002100000210000012000001200000635000852000794000794000670004880003190003470003060001320001320001320001320001320001320008586000007009000004402000005171000004182000005139000004545000005021000005061000004894000004353000004445000001973000003686000003367000003367000003367000002897000002703000002016000002495000002613999992613999992613999992459000001396000001379000001642000001205000001205000001205000001205000001205000002032000001728000001424000001306000001608000001753000008510000085100000851000008510000020560000020560000020560000020560000015970000090800000188200000115500000836000004780000047800000770000001950000019500000922000005580000084900000817000008750000087800000566000001127000009460000040000000584000005320000052700000800000008000000034400000160000005840000034600000457000004410000082200000713000003730000037300000292000002840000052100000700000005000000485000008100000810000020600000219000001470000039000004730000047300000424000006030000015800000107000002690000021900000405000004780000035900000145000001450000064000001910000016300000395000003950000014400000560000056000005600000560000056000002800000630000021100000190000009200000750000018500000620000148000001480000027800000800000102000002510000024600000235000006600000179000001820000035000002030000069000001020000079000007900000790000093000009300000133000001410000014100000162000007600000660000013000000960000063000001080000010800000105000001050000010500000930000010100000950000080000008300000710000071000007200000700000054000006700000590000030000003800000380000038000001900000510000048000004500000370000037000003800000370000019500034000002400000240000012000003300000210000032000002600000202000260000022000002300000220000015000001800000130000014000001300000120000012000001100000110000011000001100000110000011000001100000110000095200051300049200049200031800026500026700011200099700270001,019.41,163.09464000008234000006806000005011000005011000005011000005011000005011000005011000004877000003717000004017000004048000003493000003493000003391000003051000003188000002861000002248000002091000002372000001622000002306000001032000001918000002550000001161000001661000001661000009240000092400000124800000124800000148900000226800000226800000135200000115700000115700000404000001188000001366000006380000063800000638000001119000009320000010160000070100000119600000141400000306000001378000006320000093300000125600000565000001215000009700000021400000214000003660000086800000180000001800000018000000180000001800000018000000180000004600000070500000447000004470000044700000447000004470000044700000372000003320000033200000332000003320000053200000532000006890000039500000529000005350000038000000599000001530000060600000436000005660000045200000230000005310000031600000255000002380000023800000538000002830000018800000510000005100000032000002710000027100000251000001700000093000009300000930000017100000498000001690000022400000396000001200000251000004110000041100000411000004110000020200000161000003140000014500000276000001260000034000000800000011400000230000002300000020700000167000002850000010900000180000001160000016100000234000001270000023900000520000025600000127000002460000024600000135000001350000021500000116000004800009700000711000124000001130000042000004200000420000042000004200000420000042000001400000140000012000007670001170000075000005200000950000040999999200000920000092000002300000780000028000001900000310000049000004900000500000048000004800000480000048000004800000420000036000002800000280000024000002600000971001490002200000210000012000003550009880004220001020001180074520000052390000054230000068250000050710000054330000042000000042170000044510000039460000036380000038850000037760000029500000038630000025310000034450000028650000038530000023010000024480000019320000018460000026980000021790000029050000029050000022240000020920000016360000018630000011570000066300000185700000185700000185700000185700000185700000895000001877000001521000001432000001028000001028000007070000011070000012790000010810000017230000011660000010340000067900000679000001542000006890000011950000081600000816000008160000081600000816000004300000088600000886000008860000010450000033400000604000007940000064000000394000005780000059700000655000003810000075000000526000009620000096200000962000005850000052300000292000005750000085400000811000008110000043200000467000004670000046700000467000004660000031300000156000007600000031100000160000012200000704000002190000067000006700000331000002650000057700000279000001000000245000005100000051000000187000002150000015900000159000004770000043600000304000009200000920000024400000422000153000001530000033100000109000001100000011000000110000001100000015700000292000009110001960000015000000241000002590000025900000259000002600000013400000183000004200000940000037000003300000105000001690000021000000224000002240000022400000224000001050000044000001760000016000000760000055000001460000011300000113000001040000062000005200000520000052000009400000840000076000007450007450007450001500000560000049000004900000550000020800015000002500000250000061000006000000430000043000004300000430000046000005230002330003500000850000100000021000002100000120000017000001700000571000110000055200055200055200091007124000001,010.0770200000557600000546000000867600000473900000538900000409300000409300000409300000597400000597400000622300000372900000428900000475300000398600000353000000337200000343800000260700000310700000231000000267000000353000000289400000289400000285400000204400000173500000211700000140200000140200000140200000140200000140200000140200000167200000794000002538000002340000002457000001666000001191000001847000001879000001316999991405000001522000001314000008050000097900000119800000101100000104700000150600000944000001095000001110000001110000001110000002540000083500000584000005160000069800000122000000625000001093000008140000064900000102000000483000003960000081800000553000008010000050700000300000003100000065800000368000003110000032500000220000002750000015000000150000001500000015000000384000003050000031900000135000005550000030600000239000002070000026600000252000004500000036400000182000001820000018200000355000002380000089000001940000086000008600000860000086000008600000860000012100000121000001210000087000002550000043000001850000086000008100000810000023200000112000001130000011300000460000019200000107000003000000145000007700000770000077000007700000770000077000006900000990000011000001210000011600000650000088000004200000420000042000005900000670000077000001600000570000065000001400005000000190000014000002500000250000027000002700000270000027000002700000270000027000002700000270000027000003600000170000022000002500000250000019000002400000904000130000068200011000005780003750001430001000001,369.56469000008918000006342000008127000006872000005710000004605000004941000004060000004452000005777000005421000003848000003281000003611000003408000002744000001792000002715000002481000002481000003610000002360000001776000001529000001529000002347000002364000002164000006400000018640000013090000098300000883000001191000006870000068700000687000001001000001545000001047000006750000032200000532000008360000048500000485000001149000006080000060800000623000006230000062300000623000004410000061600000539000005390000053900000539000005390000053900000457000003370000046600000440000004710000067700000821000003560000035300000234000002340000023400000234000002340000023400000282000002820000033600000336000003360000025800000494000004180000033000000636000002160000025500000302000001280000012800000128000001280000028500000285000002850000028500000208000004640000018400000212000002120000046800000420000029900000299000002820000020000000284000002130000013600000353000005200000180000029900000680000017800000263000001900000166000005500000111000008760005700000161000001850000086000007100000591000170000006300000240000024000006600000100000002100000600000012300000109000005000000114000009900000600000060000006000000106000001060000043000004300000336000540000054000004400000250000073000006200000400000053000005300004200000220000031000001200000200000020000001700000150000022900025600030000"
        ]
       ],
       "shape": {
        "columns": 3,
        "rows": 1
       }
      },
      "text/html": [
       "<div>\n",
       "<style scoped>\n",
       "    .dataframe tbody tr th:only-of-type {\n",
       "        vertical-align: middle;\n",
       "    }\n",
       "\n",
       "    .dataframe tbody tr th {\n",
       "        vertical-align: top;\n",
       "    }\n",
       "\n",
       "    .dataframe thead th {\n",
       "        text-align: right;\n",
       "    }\n",
       "</style>\n",
       "<table border=\"1\" class=\"dataframe\">\n",
       "  <thead>\n",
       "    <tr style=\"text-align: right;\">\n",
       "      <th></th>\n",
       "      <th>start_year</th>\n",
       "      <th>domestic_gross</th>\n",
       "      <th>foreign_gross</th>\n",
       "    </tr>\n",
       "  </thead>\n",
       "  <tbody>\n",
       "    <tr>\n",
       "      <th>0</th>\n",
       "      <td>1970-01-01 00:00:00.000002</td>\n",
       "      <td>9.808446e+10</td>\n",
       "      <td>6520000005357000005139000003980000003115000003...</td>\n",
       "    </tr>\n",
       "  </tbody>\n",
       "</table>\n",
       "</div>"
      ],
      "text/plain": [
       "                   start_year  domestic_gross  \\\n",
       "0  1970-01-01 00:00:00.000002    9.808446e+10   \n",
       "\n",
       "                                       foreign_gross  \n",
       "0  6520000005357000005139000003980000003115000003...  "
      ]
     },
     "execution_count": 97,
     "metadata": {},
     "output_type": "execute_result"
    }
   ],
   "source": [
    "gross_by_year = merged_df.groupby('start_year')[['domestic_gross', 'foreign_gross']].sum().reset_index()\n",
    "gross_by_year.head()"
   ]
  },
  {
   "cell_type": "markdown",
   "id": "5d4d534b",
   "metadata": {},
   "source": [
    "# 4. Data  Analysis"
   ]
  },
  {
   "cell_type": "code",
   "execution_count": 98,
   "id": "cc58db41",
   "metadata": {},
   "outputs": [
    {
     "name": "stdout",
     "output_type": "stream",
     "text": [
      "Index(['Unnamed: 0', 'genre_ids', 'id', 'original_language', 'original_title',\n",
      "       'popularity', 'release_date', 'title', 'vote_average', 'vote_count',\n",
      "       'year', 'title_clean', 'title_bom', 'studio', 'domestic_gross',\n",
      "       'foreign_gross'],\n",
      "      dtype='object')\n",
      "                                               title  year  vote_average  \\\n",
      "0                           How to Train Your Dragon  2010           7.7   \n",
      "1                                         Iron Man 2  2010           6.8   \n",
      "2                                          Inception  2010           8.3   \n",
      "3  Percy Jackson & the Olympians: The Lightning T...  2010           6.1   \n",
      "4                                        Toy Story 3  2010           7.7   \n",
      "\n",
      "   vote_count  domestic_gross foreign_gross  \n",
      "0        7610     217600000.0     277300000  \n",
      "1       12368     312400000.0     311500000  \n",
      "2       22186     292600000.0     535700000  \n",
      "3        4229      88800000.0     137700000  \n",
      "4        8340     415000000.0     652000000  \n"
     ]
    }
   ],
   "source": [
    "import pandas as pd\n",
    "\n",
    "# Load your dataframes\n",
    "tmdb = pd.read_csv('tmdb.movies.csv')\n",
    "bom = pd.read_csv('bom.movie_gross.csv')\n",
    "\n",
    "# Extract year from release_date\n",
    "tmdb['year'] = pd.to_datetime(tmdb['release_date'], errors='coerce').dt.year\n",
    "\n",
    "# Normalize titles: lower and strip whitespace for joining\n",
    "tmdb['title_clean'] = tmdb['title'].str.lower().str.strip()\n",
    "bom['title_clean'] = bom['title'].str.lower().str.strip()\n",
    "\n",
    "# Merge on title and year\n",
    "merged = pd.merge(tmdb, bom, left_on=['title_clean', 'year'], right_on=['title_clean', 'year'], how='inner')\n",
    "\n",
    "merged = pd.merge(\n",
    "    tmdb, bom, \n",
    "    left_on=['title_clean', 'year'], \n",
    "    right_on=['title_clean', 'year'], \n",
    "    how='inner', \n",
    "    suffixes=('', '_bom')\n",
    ")\n",
    "print(merged.columns)\n",
    "# View merged data\n",
    "print(merged[['title', 'year', 'vote_average', 'vote_count', 'domestic_gross', 'foreign_gross']].head())\n"
   ]
  },
  {
   "cell_type": "code",
   "execution_count": 99,
   "id": "c1753d75",
   "metadata": {},
   "outputs": [],
   "source": [
    "import pandas as pd\n",
    "import matplotlib.pyplot as plt\n",
    "import seaborn as sns\n",
    "\n",
    "# Load your tmdb movies dataset\n",
    "tmdb = pd.read_csv('tmdb.movies.csv')\n",
    "\n",
    "# Convert release_date to datetime\n",
    "tmdb['release_date'] = pd.to_datetime(tmdb['release_date'], errors='coerce')\n",
    "\n",
    "# Extract year and month\n",
    "tmdb['release_year'] = tmdb['release_date'].dt.year\n",
    "tmdb['release_month'] = tmdb['release_date'].dt.month\n"
   ]
  },
  {
   "cell_type": "code",
   "execution_count": 100,
   "id": "fd4c92a2",
   "metadata": {},
   "outputs": [
    {
     "data": {
      "image/png": "[encoded data removed]",
      "text/plain": [
       "<Figure size 1200x600 with 1 Axes>"
      ]
     },
     "metadata": {},
     "output_type": "display_data"
    }
   ],
   "source": [
    "# Number of Movies Released Per Year\n",
    "plt.figure(figsize=(12,6))\n",
    "sns.countplot(data=tmdb, x='release_year', order=tmdb['release_year'].value_counts().sort_index().index)\n",
    "plt.title('Number of Movies Released Per Year')\n",
    "plt.xlabel('Year')\n",
    "plt.ylabel('Number of Movies')\n",
    "plt.xticks(rotation=45)\n",
    "plt.show()\n"
   ]
  },
  {
   "cell_type": "code",
   "execution_count": 35,
   "id": "978ed8fa",
   "metadata": {},
   "outputs": [
    {
     "data": {
      "image/png": "[encoded data removed]",
      "text/plain": [
       "<Figure size 1000x500 with 1 Axes>"
      ]
     },
     "metadata": {},
     "output_type": "display_data"
    }
   ],
   "source": [
    "#Number of Movies Released Per Month\n",
    "plt.figure(figsize=(10,5))\n",
    "sns.countplot(data=tmdb, x='release_month')\n",
    "plt.title('Number of Movies Released Per Month')\n",
    "plt.xlabel('Month')\n",
    "plt.ylabel('Number of Movies')\n",
    "plt.show()\n"
   ]
  },
  {
   "cell_type": "code",
   "execution_count": 36,
   "id": "52a42cd5",
   "metadata": {},
   "outputs": [
    {
     "data": {
      "image/png": "[encoded data removed]",
      "text/plain": [
       "<Figure size 1000x500 with 1 Axes>"
      ]
     },
     "metadata": {},
     "output_type": "display_data"
    }
   ],
   "source": [
    "# Average Vote Average by Month\n",
    "avg_votes_by_month = tmdb.groupby('release_month')['vote_average'].mean().reset_index()\n",
    "\n",
    "plt.figure(figsize=(10,5))\n",
    "sns.barplot(data=avg_votes_by_month, x='release_month', y='vote_average')\n",
    "plt.title('Average Movie Ratings by Release Month')\n",
    "plt.xlabel('Month')\n",
    "plt.ylabel('Average Vote')\n",
    "plt.show()\n"
   ]
  },
  {
   "cell_type": "code",
   "execution_count": 37,
   "id": "e631c491",
   "metadata": {},
   "outputs": [
    {
     "data": {
      "image/png": "[encoded data removed]",
      "text/plain": [
       "<Figure size 1000x500 with 1 Axes>"
      ]
     },
     "metadata": {},
     "output_type": "display_data"
    }
   ],
   "source": [
    "#Popularity Trend by Month\n",
    "popularity_by_month = tmdb.groupby('release_month')['popularity'].mean().reset_index()\n",
    "\n",
    "plt.figure(figsize=(10,5))\n",
    "sns.lineplot(data=popularity_by_month, x='release_month', y='popularity', marker='o')\n",
    "plt.title('Average Popularity by Release Month')\n",
    "plt.xlabel('Month')\n",
    "plt.ylabel('Popularity')\n",
    "plt.show()\n"
   ]
  },
  {
   "cell_type": "code",
   "execution_count": 38,
   "id": "491b06da",
   "metadata": {},
   "outputs": [],
   "source": [
    "import pandas as pd\n",
    "import matplotlib.pyplot as plt\n",
    "import seaborn as sns\n",
    "\n",
    "# Load the dataset\n",
    "tmdb = pd.read_csv('tmdb.movies.csv')\n",
    "\n",
    "# Convert release_date to datetime\n",
    "tmdb['release_date'] = pd.to_datetime(tmdb['release_date'], errors='coerce')\n",
    "\n",
    "# Extract release year\n",
    "tmdb['release_year'] = tmdb['release_date'].dt.year\n",
    "\n",
    "# Create a 'decade' column\n",
    "tmdb['decade'] = (tmdb['release_year'] // 10) * 10\n"
   ]
  },
  {
   "cell_type": "code",
   "execution_count": 39,
   "id": "57192a23",
   "metadata": {},
   "outputs": [
    {
     "data": {
      "image/png": "[encoded data removed]",
      "text/plain": [
       "<Figure size 1000x500 with 1 Axes>"
      ]
     },
     "metadata": {},
     "output_type": "display_data"
    }
   ],
   "source": [
    "# Number of Movies Released Per Decade\n",
    "plt.figure(figsize=(10,5))\n",
    "sns.countplot(data=tmdb, x='decade', order=sorted(tmdb['decade'].dropna().unique()))\n",
    "plt.title('Number of Movies Released per Decade')\n",
    "plt.xlabel('Decade')\n",
    "plt.ylabel('Number of Movies')\n",
    "plt.show()\n"
   ]
  },
  {
   "cell_type": "code",
   "execution_count": 40,
   "id": "c40ce63b",
   "metadata": {},
   "outputs": [
    {
     "data": {
      "image/png": "[encoded data removed]",
      "text/plain": [
       "<Figure size 1000x500 with 1 Axes>"
      ]
     },
     "metadata": {},
     "output_type": "display_data"
    }
   ],
   "source": [
    "# Average Rating (vote_average) per Decade\n",
    "avg_rating_decade = tmdb.groupby('decade')['vote_average'].mean().reset_index()\n",
    "\n",
    "plt.figure(figsize=(10,5))\n",
    "sns.barplot(data=avg_rating_decade, x='decade', y='vote_average')\n",
    "plt.title('Average Movie Rating by Decade')\n",
    "plt.xlabel('Decade')\n",
    "plt.ylabel('Average Vote')\n",
    "plt.show()\n"
   ]
  },
  {
   "cell_type": "code",
   "execution_count": 41,
   "id": "fb9d14f7",
   "metadata": {},
   "outputs": [
    {
     "data": {
      "image/png": "[encoded data removed]",
      "text/plain": [
       "<Figure size 1000x500 with 1 Axes>"
      ]
     },
     "metadata": {},
     "output_type": "display_data"
    }
   ],
   "source": [
    "# Average Popularity per Decade\n",
    "avg_popularity_decade = tmdb.groupby('decade')['popularity'].mean().reset_index()\n",
    "\n",
    "plt.figure(figsize=(10,5))\n",
    "sns.barplot(data=avg_popularity_decade, x='decade', y='popularity')\n",
    "plt.title('Average Popularity by Decade')\n",
    "plt.xlabel('Decade')\n",
    "plt.ylabel('Average Popularity')\n",
    "plt.show()\n"
   ]
  },
  {
   "cell_type": "code",
   "execution_count": 101,
   "id": "4a21363a",
   "metadata": {},
   "outputs": [],
   "source": [
    "# Gross by Year\n",
    "import pandas as pd\n",
    "import matplotlib.pyplot as plt\n",
    "import seaborn as sns\n",
    "\n",
    "# Load the bom.movie_gross CSV\n",
    "bom = pd.read_csv('bom.movie_gross.csv')\n",
    "\n",
    "# Convert year to numeric (if needed)\n",
    "bom['year'] = pd.to_numeric(bom['year'], errors='coerce')\n",
    "\n",
    "# Convert gross values to numeric (if stored as string with commas, etc.)\n",
    "bom['domestic_gross'] = pd.to_numeric(bom['domestic_gross'], errors='coerce')\n",
    "bom['foreign_gross'] = pd.to_numeric(bom['foreign_gross'], errors='coerce')\n",
    "\n",
    "# Create worldwide_gross column\n",
    "bom['worldwide_gross'] = bom['domestic_gross'] + bom['foreign_gross']\n"
   ]
  },
  {
   "cell_type": "code",
   "execution_count": 102,
   "id": "48e7c738",
   "metadata": {},
   "outputs": [
    {
     "name": "stdout",
     "output_type": "stream",
     "text": [
      "   year  domestic_gross  foreign_gross  worldwide_gross\n",
      "0  2010    1.015693e+10   1.437426e+10     2.452551e+10\n",
      "1  2011    1.006416e+10   1.567099e+10     2.558193e+10\n",
      "2  2012    1.087661e+10   1.703789e+10     2.770085e+10\n",
      "3  2013    1.079233e+10   1.661239e+10     2.713909e+10\n",
      "4  2014    1.033774e+10   1.697197e+10     2.710465e+10\n"
     ]
    },
    {
     "data": {
      "image/png": "[encoded data removed]",
      "text/plain": [
       "<Figure size 1200x600 with 1 Axes>"
      ]
     },
     "metadata": {},
     "output_type": "display_data"
    }
   ],
   "source": [
    "gross_by_year = bom.groupby('year').agg({\n",
    "    'domestic_gross': 'sum',\n",
    "    'foreign_gross': 'sum',\n",
    "    'worldwide_gross': 'sum'\n",
    "}).reset_index()\n",
    "\n",
    "print(gross_by_year.head())\n",
    "\n",
    "plt.figure(figsize=(12,6))\n",
    "sns.lineplot(data=gross_by_year, x='year', y='domestic_gross', label='Domestic Gross')\n",
    "sns.lineplot(data=gross_by_year, x='year', y='worldwide_gross', label='Worldwide Gross')\n",
    "plt.title('Domestic and Worldwide Gross by Year')\n",
    "plt.xlabel('Year')\n",
    "plt.ylabel('Gross (USD)')\n",
    "plt.legend()\n",
    "plt.grid(True)\n",
    "plt.tight_layout()\n",
    "plt.show()\n"
   ]
  },
  {
   "cell_type": "code",
   "execution_count": 103,
   "id": "3552aba7",
   "metadata": {},
   "outputs": [],
   "source": [
    "import pandas as pd\n",
    "\n",
    "# Load TMDb movies data\n",
    "tmdb = pd.read_csv('tmdb.movies.csv')\n",
    "\n",
    "# Convert release_date to datetime\n",
    "tmdb['release_date'] = pd.to_datetime(tmdb['release_date'], errors='coerce')\n",
    "\n",
    "# Drop rows with missing release dates\n",
    "tmdb = tmdb.dropna(subset=['release_date'])\n",
    "\n",
    "# Function to assign seasons based on month\n",
    "def get_season(month):\n",
    "    if month in [12, 1, 2]:\n",
    "        return 'Winter'\n",
    "    elif month in [3, 4, 5]:\n",
    "        return 'Spring'\n",
    "    elif month in [6, 7, 8]:\n",
    "        return 'Summer'\n",
    "    else:\n",
    "        return 'Fall'\n",
    "\n",
    "# Apply the function to create a season column\n",
    "tmdb['season'] = tmdb['release_date'].dt.month.apply(get_season)\n"
   ]
  },
  {
   "cell_type": "code",
   "execution_count": 104,
   "id": "0bae17b6",
   "metadata": {},
   "outputs": [
    {
     "name": "stdout",
     "output_type": "stream",
     "text": [
      "   season  number_of_movies\n",
      "0    Fall              7637\n",
      "1  Spring              6837\n",
      "2  Winter              6675\n",
      "3  Summer              5368\n"
     ]
    },
    {
     "data": {
      "image/png": "[encoded data removed]",
      "text/plain": [
       "<Figure size 800x500 with 1 Axes>"
      ]
     },
     "metadata": {},
     "output_type": "display_data"
    }
   ],
   "source": [
    "movies_by_season = tmdb['season'].value_counts().reset_index()\n",
    "movies_by_season.columns = ['season', 'number_of_movies']\n",
    "\n",
    "print(movies_by_season)\n",
    "\n",
    "import seaborn as sns\n",
    "import matplotlib.pyplot as plt\n",
    "\n",
    "# Barplot of movie counts by season\n",
    "plt.figure(figsize=(8,5))\n",
    "sns.barplot(data=movies_by_season, x='season', y='number_of_movies', palette='viridis')\n",
    "plt.title('Number of Movies Released by Season')\n",
    "plt.xlabel('Season')\n",
    "plt.ylabel('Number of Movies')\n",
    "plt.grid(axis='y', linestyle='--', alpha=0.7)\n",
    "plt.tight_layout()\n",
    "plt.show()\n"
   ]
  },
  {
   "cell_type": "code",
   "execution_count": 105,
   "id": "c1dac64f",
   "metadata": {},
   "outputs": [
    {
     "name": "stdout",
     "output_type": "stream",
     "text": [
      "    release_month  domestic_gross\n",
      "0               1    4.595610e+09\n",
      "1               2    6.617968e+09\n",
      "2               3    6.259288e+09\n",
      "3               4    5.144391e+09\n",
      "4               5    9.012575e+09\n",
      "5               6    1.122750e+10\n",
      "6               7    9.384915e+09\n",
      "7               8    5.946663e+09\n",
      "8               9    6.218388e+09\n",
      "9              10    5.348452e+09\n",
      "10             11    1.402499e+10\n",
      "11             12    1.658050e+10\n"
     ]
    }
   ],
   "source": [
    "import pandas as pd\n",
    "\n",
    "# Load datasets\n",
    "bom = pd.read_csv('bom.movie_gross.csv')\n",
    "tmdb = pd.read_csv('tmdb.movies.csv')\n",
    "\n",
    "# Convert release_date to datetime\n",
    "tmdb['release_date'] = pd.to_datetime(tmdb['release_date'], errors='coerce')\n",
    "\n",
    "# Clean titles for merging\n",
    "bom['title_clean'] = bom['title'].str.lower().str.strip()\n",
    "tmdb['title_clean'] = tmdb['title'].str.lower().str.strip()\n",
    "\n",
    "# Merge on title\n",
    "merged = pd.merge(tmdb, bom, on='title_clean', how='inner')\n",
    "\n",
    "# Extract month from release date\n",
    "merged['release_month'] = merged['release_date'].dt.month\n",
    "\n",
    "# Function to assign seasons based on month\n",
    "def get_season(month):\n",
    "    if month in [12, 1, 2]:\n",
    "        return 'Winter'\n",
    "    elif month in [3, 4, 5]:\n",
    "        return 'Spring'\n",
    "    elif month in [6, 7, 8]:\n",
    "        return 'Summer'\n",
    "    else:\n",
    "        return 'Fall'\n",
    "\n",
    "# Apply season function\n",
    "merged['season'] = merged['release_month'].apply(get_season)\n",
    "\n",
    "# Domestic gross by month\n",
    "domestic_by_month = merged.groupby('release_month')['domestic_gross'].sum().reset_index()\n",
    "\n",
    "print(domestic_by_month)\n"
   ]
  },
  {
   "cell_type": "code",
   "execution_count": 106,
   "id": "98b4dd30",
   "metadata": {},
   "outputs": [
    {
     "name": "stdout",
     "output_type": "stream",
     "text": [
      "   season  domestic_gross\n",
      "0    Fall    2.559183e+10\n",
      "1  Spring    2.041625e+10\n",
      "2  Summer    2.655908e+10\n",
      "3  Winter    2.779408e+10\n"
     ]
    },
    {
     "data": {
      "image/png": "[encoded data removed]",
      "text/plain": [
       "<Figure size 800x500 with 1 Axes>"
      ]
     },
     "metadata": {},
     "output_type": "display_data"
    }
   ],
   "source": [
    "# Group by season and sum domestic gross\n",
    "domestic_by_season = merged.groupby('season')['domestic_gross'].sum().reset_index()\n",
    "\n",
    "# Preview it\n",
    "print(domestic_by_season)\n",
    "\n",
    "import seaborn as sns\n",
    "import matplotlib.pyplot as plt\n",
    "\n",
    "# Barplot for domestic gross by season\n",
    "plt.figure(figsize=(8,5))\n",
    "sns.barplot(data=domestic_by_season, x='season', y='domestic_gross', palette='magma')\n",
    "plt.title('Total Domestic Gross by Season')\n",
    "plt.xlabel('Season')\n",
    "plt.ylabel('Domestic Gross (USD)')\n",
    "plt.grid(axis='y', linestyle='--', alpha=0.7)\n",
    "plt.tight_layout()\n",
    "plt.show()\n"
   ]
  },
  {
   "cell_type": "markdown",
   "id": "8eec774c",
   "metadata": {},
   "source": [
    "From the above "
   ]
  },
  {
   "cell_type": "code",
   "execution_count": 107,
   "id": "85e4489c",
   "metadata": {},
   "outputs": [],
   "source": [
    "# Load the 'directors' table into a DataFrame\n",
    "directors = pd.read_sql_query(\"SELECT * FROM directors\", conn)\n",
    "\n",
    "# Load the 'actors' table into a DataFrame\n",
    "actors = pd.read_sql_query(\"SELECT * FROM actors_and_actresses\", conn)\n",
    "\n",
    "# Load the 'ratings' table into a DataFrame\n",
    "ratings = pd.read_sql_query(\"SELECT * FROM movie_ratings\", conn)\n",
    "\n",
    "# Load the 'movie_revenue' table into a DataFrame\n",
    "revenue = pd.read_sql_query(\"SELECT * FROM movie_revenues\", conn)\n",
    "\n",
    "# Load the 'writers' table into a DataFrame\n",
    "writers = pd.read_sql_query(\"SELECT * FROM writers\", conn)\n",
    "\n",
    "# Load the 'movie_basics' table into a DataFrame\n",
    "movie_basics = pd.read_sql_query(\"SELECT * FROM movie_basics\", conn)\n",
    "\n",
    "# Load the 'persons' table into a DataFrame\n",
    "persons = pd.read_sql_query(\"SELECT * FROM persons\", conn)\n",
    "\n",
    "# Load the 'principals' table into a DataFrame\n",
    "principals = pd.read_sql_query(\"SELECT * FROM principals\", conn)\n",
    "\n"
   ]
  },
  {
   "cell_type": "code",
   "execution_count": 50,
   "id": "cc6f3336",
   "metadata": {},
   "outputs": [
    {
     "name": "stdout",
     "output_type": "stream",
     "text": [
      "Index(['movie_id', 'person_id'], dtype='object')\n",
      "Index(['movie_id', 'ordering', 'person_id', 'category', 'characters'], dtype='object')\n",
      "Index(['movie_id', 'averagerating', 'numvotes'], dtype='object')\n",
      "Index(['title', 'domestic_gross($)', 'worldwide_gross($)'], dtype='object')\n",
      "Index(['movie_id', 'person_id'], dtype='object')\n",
      "Index(['movie_id', 'primary_title', 'original_title', 'start_year',\n",
      "       'runtime_minutes', 'genres'],\n",
      "      dtype='object')\n",
      "Index(['person_id', 'primary_name', 'primary_profession'], dtype='object')\n",
      "Index(['movie_id', 'ordering', 'person_id', 'category'], dtype='object')\n"
     ]
    }
   ],
   "source": [
    "print(directors.columns)\n",
    "print(actors.columns)\n",
    "print(ratings.columns)\n",
    "print(revenue.columns)\n",
    "print(writers.columns)\n",
    "print(movie_basics.columns)\n",
    "print(persons.columns)\n",
    "print(principals.columns)\n"
   ]
  },
  {
   "cell_type": "code",
   "execution_count": 108,
   "id": "ed3acd2c",
   "metadata": {},
   "outputs": [
    {
     "name": "stdout",
     "output_type": "stream",
     "text": [
      "              primary_name  avg_rating  total_domestic_gross  \\\n",
      "0             Stephen Peek        10.0                   0.0   \n",
      "1              Ivana Diniz        10.0                   0.0   \n",
      "2         Loreto Di Cesare        10.0                   0.0   \n",
      "3   Tristan David Luciotti        10.0                   0.0   \n",
      "4        Masahiro Hayakawa        10.0                   0.0   \n",
      "5                Emre Oran        10.0                   0.0   \n",
      "6         Lindsay Thompson        10.0                   0.0   \n",
      "7           Chad Carpenter        10.0                   0.0   \n",
      "8         Michiel Brongers        10.0                   0.0   \n",
      "9            Andrew Jezard         9.9                   0.0   \n",
      "10            Kalyan Varma         9.9                   0.0   \n",
      "11        Nagaraja Uppunda         9.9                   0.0   \n",
      "12          Raphael Sbarge         9.9                   0.0   \n",
      "13            Amoghavarsha         9.9                   0.0   \n",
      "14           Agustín Kazah         9.8                   0.0   \n",
      "15            Maria Bagnat         9.8                   0.0   \n",
      "16         Stacey K. Black         9.8                   0.0   \n",
      "17           Javi Larrauri         9.8                   0.0   \n",
      "18           Pablo Arévalo         9.8                   0.0   \n",
      "19               Todd Howe         9.8                   0.0   \n",
      "\n",
      "    total_worldwide_gross  movie_count  \n",
      "0                     0.0            1  \n",
      "1                     0.0            1  \n",
      "2                     0.0            1  \n",
      "3                     0.0            1  \n",
      "4                     0.0            1  \n",
      "5                     0.0            1  \n",
      "6                     0.0            2  \n",
      "7                     0.0            1  \n",
      "8                     0.0            2  \n",
      "9                     0.0            1  \n",
      "10                    0.0            1  \n",
      "11                    0.0            1  \n",
      "12                    0.0            1  \n",
      "13                    0.0            1  \n",
      "14                    0.0            1  \n",
      "15                    0.0            1  \n",
      "16                    0.0            1  \n",
      "17                    0.0            5  \n",
      "18                    0.0            1  \n",
      "19                    0.0            1  \n"
     ]
    }
   ],
   "source": [
    "# Merge directors with ratings\n",
    "directors_ratings = directors.merge(ratings, on='movie_id', how='left')\n",
    "\n",
    "# Merge with movie_basics to get titles for merging with revenue\n",
    "directors_ratings = directors_ratings.merge(movie_basics[['movie_id', 'primary_title']], on='movie_id', how='left')\n",
    "\n",
    "# Merge with revenue using movie title\n",
    "directors_full = directors_ratings.merge(revenue, left_on='primary_title', right_on='title', how='left')\n",
    "\n",
    "# Merge with persons to get director names\n",
    "directors_full = directors_full.merge(persons, on='person_id', how='left')\n",
    "\n",
    "# Group by director and calculate average rating and total revenue\n",
    "top_directors = (\n",
    "    directors_full.groupby('primary_name')\n",
    "    .agg(avg_rating=('averagerating', 'mean'),\n",
    "         total_domestic_gross=('domestic_gross($)', 'sum'),\n",
    "         total_worldwide_gross=('worldwide_gross($)', 'sum'),\n",
    "         movie_count=('movie_id', 'count'))\n",
    "    .sort_values(by='avg_rating', ascending=False)\n",
    "    .head(20)\n",
    "    .reset_index()\n",
    ")\n",
    "\n",
    "print(top_directors)\n"
   ]
  },
  {
   "cell_type": "code",
   "execution_count": 52,
   "id": "a019b8e6",
   "metadata": {},
   "outputs": [
    {
     "data": {
      "image/png": "[encoded data removed]",
      "text/plain": [
       "<Figure size 1000x600 with 1 Axes>"
      ]
     },
     "metadata": {},
     "output_type": "display_data"
    }
   ],
   "source": [
    "import seaborn as sns\n",
    "import matplotlib.pyplot as plt\n",
    "\n",
    "# Barplot for Top Directors by Average Rating\n",
    "plt.figure(figsize=(10,6))\n",
    "sns.barplot(data=top_directors, y='primary_name', x='avg_rating', palette='viridis')\n",
    "plt.title('Top 10 Directors by Average Rating')\n",
    "plt.xlabel('Average Rating')\n",
    "plt.ylabel('Director')\n",
    "plt.tight_layout()\n",
    "plt.show()\n"
   ]
  },
  {
   "cell_type": "code",
   "execution_count": 53,
   "id": "9c92c8fb",
   "metadata": {},
   "outputs": [
    {
     "name": "stdout",
     "output_type": "stream",
     "text": [
      "             primary_name  avg_rating  num_movies\n",
      "0             Ivana Diniz        10.0           1\n",
      "1            Stephen Peek        10.0           1\n",
      "2       Masahiro Hayakawa        10.0           1\n",
      "3               Emre Oran        10.0           1\n",
      "4        Loreto Di Cesare        10.0           1\n",
      "5        Lindsay Thompson        10.0           2\n",
      "6          Chad Carpenter        10.0           1\n",
      "7        Michiel Brongers        10.0           2\n",
      "8  Tristan David Luciotti        10.0           1\n",
      "9            Kalyan Varma         9.9           1\n"
     ]
    }
   ],
   "source": [
    "# Merge directors with ratings and persons to get names\n",
    "directors_ratings = directors.merge(ratings, on='movie_id', how='left').merge(persons, on='person_id', how='left')\n",
    "\n",
    "# Group by director and calculate avg rating\n",
    "top_10_directors = (\n",
    "    directors_ratings.groupby('primary_name')\n",
    "    .agg(avg_rating=('averagerating', 'mean'), num_movies=('movie_id', 'count'))\n",
    "    .sort_values(by='avg_rating', ascending=False)\n",
    "    .head(10)\n",
    "    .reset_index()\n",
    ")\n",
    "\n",
    "print(top_10_directors)\n"
   ]
  },
  {
   "cell_type": "code",
   "execution_count": 54,
   "id": "be03bc71",
   "metadata": {},
   "outputs": [
    {
     "name": "stdout",
     "output_type": "stream",
     "text": [
      "           primary_name  avg_rating  movie_count\n",
      "43392     Javi Larrauri         9.8            5\n",
      "102530      Will Watson         9.7            3\n",
      "95851     Taylor Morden         9.6            3\n",
      "46775          Joe York         9.6            3\n",
      "10349     Bart Hölscher         9.6            5\n",
      "20430    D. Todd Deeken         9.5            3\n",
      "65895    Mattia Colombo         9.5            4\n",
      "27397   Edward Jeffries         9.4            4\n",
      "52848       Kate Gorman         9.4            3\n",
      "77360       Pedro Jorge         9.4            3\n"
     ]
    }
   ],
   "source": [
    "# Merge directors with ratings and persons to get director names\n",
    "directors_ratings = directors.merge(ratings, on='movie_id', how='left').merge(persons, on='person_id', how='left')\n",
    "\n",
    "# Group by director to get average rating and movie count\n",
    "directors_stats = (\n",
    "    directors_ratings.groupby('primary_name')\n",
    "    .agg(\n",
    "        avg_rating=('averagerating', 'mean'),\n",
    "        movie_count=('movie_id', 'count')\n",
    "    )\n",
    "    .reset_index()\n",
    ")\n",
    "\n",
    "# Filter directors with more than 2 movies\n",
    "directors_filtered = directors_stats[directors_stats['movie_count'] > 2]\n",
    "\n",
    "# Get top 10 directors by avg rating among those with >2 movies\n",
    "top_10_directors = directors_filtered.sort_values(by='avg_rating', ascending=False).head(10)\n",
    "\n",
    "print(top_10_directors)\n"
   ]
  },
  {
   "cell_type": "code",
   "execution_count": 55,
   "id": "868b6cb6",
   "metadata": {},
   "outputs": [
    {
     "name": "stdout",
     "output_type": "stream",
     "text": [
      "           primary_name  movie_count\n",
      "74823        Omer Pasha           62\n",
      "56592       Larry Rosen           53\n",
      "80450     Rajiv Chilaka           49\n",
      "92698     Stephan Düfel           48\n",
      "35315      Graeme Duane           45\n",
      "36392    Gérard Courant           44\n",
      "18968     Claudio Costa           42\n",
      "71982  Nayato Fio Nuala           41\n",
      "26708   Dustin Ferguson           39\n",
      "89201         Sergey A.           39\n"
     ]
    }
   ],
   "source": [
    "# Merge directors with persons to get director names\n",
    "directors_with_names = directors.merge(persons, on='person_id', how='left')\n",
    "\n",
    "# Count number of movies per director\n",
    "director_movie_counts = (\n",
    "    directors_with_names.groupby('primary_name')\n",
    "    .agg(movie_count=('movie_id', 'count'))\n",
    "    .reset_index()\n",
    ")\n",
    "\n",
    "# Get top 10 directors by number of movies\n",
    "top_10_directors_by_count = director_movie_counts.sort_values(by='movie_count', ascending=False).head(10)\n",
    "\n",
    "print(top_10_directors_by_count)\n"
   ]
  },
  {
   "cell_type": "code",
   "execution_count": 75,
   "id": "8792d12a",
   "metadata": {},
   "outputs": [
    {
     "name": "stdout",
     "output_type": "stream",
     "text": [
      "      genres                    primary_title  averagerating\n",
      "0     Action                        Sunghursh            7.2\n",
      "0     Action                        Sunghursh            7.2\n",
      "1  Biography  One Day Before the Rainy Season            6.8\n",
      "4     Comedy         The Wandering Soap Opera            7.0\n",
      "4     Comedy         The Wandering Soap Opera            7.0\n",
      "0      Crime                        Sunghursh            7.2\n",
      "0      Crime                        Sunghursh            7.2\n",
      "0      Drama                        Sunghursh            7.2\n",
      "1      Drama  One Day Before the Rainy Season            6.8\n",
      "4      Drama         The Wandering Soap Opera            7.0\n",
      "0      Drama                        Sunghursh            7.2\n",
      "2      Drama       The Other Side of the Wind            7.5\n",
      "4      Drama         The Wandering Soap Opera            7.0\n",
      "4    Fantasy         The Wandering Soap Opera            7.0\n",
      "4    Fantasy         The Wandering Soap Opera            7.0\n"
     ]
    }
   ],
   "source": [
    "import pandas as pd\n",
    "\n",
    "# Sample data frames you provided (replace with your full data)\n",
    "movie_basics = pd.DataFrame({\n",
    "    'movie_id': ['tt0063540', 'tt0066787', 'tt0069049', 'tt0069204', 'tt0100275'],\n",
    "    'primary_title': ['Sunghursh', 'One Day Before the Rainy Season', 'The Other Side of the Wind', 'Sabse Bada Sukh', 'The Wandering Soap Opera'],\n",
    "    'genres': ['Action,Crime,Drama', 'Biography,Drama', 'Drama', 'Comedy,Drama', 'Comedy,Drama,Fantasy']\n",
    "})\n",
    "\n",
    "movie_ratings = pd.DataFrame({\n",
    "    'movie_id': ['tt0063540', 'tt0066787', 'tt0069049', 'tt0069204', 'tt0100275'],\n",
    "    'averagerating': [7.2, 6.8, 7.5, 6.0, 7.0]\n",
    "})\n",
    "\n",
    "# Merge ratings with movie basics\n",
    "df = pd.merge(movie_basics, movie_ratings, on='movie_id', how='inner')\n",
    "\n",
    "# Expand genres into separate rows\n",
    "df_expanded = df.assign(genres=df['genres'].str.split(',')).explode('genres')\n",
    "\n",
    "# Strip whitespace from genres\n",
    "df_expanded['genres'] = df_expanded['genres'].str.strip()\n",
    "\n",
    "# Find the top rated movie per genre\n",
    "top_movies_by_genre = df_expanded.loc[df_expanded.groupby('genres')['averagerating'].idxmax()]\n",
    "\n",
    "# Select relevant columns and sort by genre\n",
    "top_movies_by_genre = top_movies_by_genre[['genres', 'primary_title', 'averagerating']].sort_values('genres')\n",
    "\n",
    "print(top_movies_by_genre)\n"
   ]
  },
  {
   "cell_type": "code",
   "execution_count": 76,
   "id": "b72914e1",
   "metadata": {},
   "outputs": [
    {
     "data": {
      "image/png": "[encoded data removed]",
      "text/plain": [
       "<Figure size 1200x600 with 1 Axes>"
      ]
     },
     "metadata": {},
     "output_type": "display_data"
    }
   ],
   "source": [
    "import matplotlib.pyplot as plt\n",
    "\n",
    "plt.figure(figsize=(12,6))\n",
    "plt.bar(top_movies_by_genre['genres'], top_movies_by_genre['averagerating'], color='skyblue')\n",
    "plt.xticks(rotation=45, ha='right')\n",
    "plt.xlabel('Genre')\n",
    "plt.ylabel('Average Rating')\n",
    "plt.title('Top Rated Movie by Genre')\n",
    "plt.ylim(0, 10)  # Ratings typically go from 0 to 10\n",
    "plt.tight_layout()\n",
    "plt.show()\n"
   ]
  },
  {
   "cell_type": "code",
   "execution_count": 58,
   "id": "47cd0e86",
   "metadata": {},
   "outputs": [
    {
     "data": {
      "image/png": "[encoded data removed]",
      "text/plain": [
       "<Figure size 1200x600 with 1 Axes>"
      ]
     },
     "metadata": {},
     "output_type": "display_data"
    }
   ],
   "source": [
    "import matplotlib.pyplot as plt\n",
    "\n",
    "# Assuming `top_movies_by_genre` DataFrame from previous code is available\n",
    "\n",
    "plt.figure(figsize=(12, 6))\n",
    "plt.bar(top_movies_by_genre['genres'], top_movies_by_genre['averagerating'], color='skyblue')\n",
    "plt.xticks(rotation=45, ha='right')\n",
    "plt.xlabel('Genre')\n",
    "plt.ylabel('Average Rating')\n",
    "plt.title('Top Movie Ratings by Genre')\n",
    "plt.ylim(0, 10)\n",
    "plt.tight_layout()\n",
    "\n",
    "# Add movie titles as labels on top of the bars\n",
    "for idx, row in top_movies_by_genre.iterrows():\n",
    "    plt.text(row['genres'], row['averagerating'] + 0.1, row['primary_title'], rotation=90, fontsize=8, ha='center')\n",
    "\n",
    "plt.show()\n"
   ]
  },
  {
   "cell_type": "code",
   "execution_count": 71,
   "id": "98263566",
   "metadata": {},
   "outputs": [
    {
     "name": "stdout",
     "output_type": "stream",
     "text": [
      "Index(['movie_id', 'person_id'], dtype='object')\n",
      "Index(['movie_id', 'ordering', 'person_id', 'category', 'characters'], dtype='object')\n",
      "Index(['movie_id', 'averagerating', 'numvotes'], dtype='object')\n",
      "Index(['title', 'domestic_gross($)', 'worldwide_gross($)'], dtype='object')\n",
      "Index(['movie_id', 'person_id'], dtype='object')\n",
      "Index(['movie_id', 'primary_title', 'genres'], dtype='object')\n",
      "Index(['person_id', 'primary_name', 'primary_profession'], dtype='object')\n",
      "Index(['movie_id', 'ordering', 'person_id', 'category'], dtype='object')\n"
     ]
    }
   ],
   "source": [
    "# Check column names\n",
    "print(directors.columns)\n",
    "print(actors.columns)\n",
    "print(ratings.columns)\n",
    "print(revenue.columns)\n",
    "print(writers.columns)\n",
    "print(movie_basics.columns)\n",
    "print(persons.columns)\n",
    "print(principals.columns)\n"
   ]
  },
  {
   "cell_type": "code",
   "execution_count": 110,
   "id": "d44edff4",
   "metadata": {},
   "outputs": [],
   "source": [
    "# TMDb genre mapping (you can update this dictionary as per TMDb API)\n",
    "tmdb_genre_dict = {\n",
    "    28: 'Action',\n",
    "    12: 'Adventure',\n",
    "    16: 'Animation',\n",
    "    35: 'Comedy',\n",
    "    80: 'Crime',\n",
    "    99: 'Documentary',\n",
    "    18: 'Drama',\n",
    "    10751: 'Family',\n",
    "    14: 'Fantasy',\n",
    "    36: 'History',\n",
    "    27: 'Horror',\n",
    "    10402: 'Music',\n",
    "    9648: 'Mystery',\n",
    "    10749: 'Romance',\n",
    "    878: 'Science Fiction',\n",
    "    10770: 'TV Movie',\n",
    "    53: 'Thriller',\n",
    "    10752: 'War',\n",
    "    37: 'Western'\n",
    "}\n"
   ]
  },
  {
   "cell_type": "code",
   "execution_count": 111,
   "id": "a5dd32bd",
   "metadata": {},
   "outputs": [],
   "source": [
    "# Convert genre_ids string (if stored as string) to list (if needed)\n",
    "import ast\n",
    "\n",
    "# If genre_ids are string representation of list, parse them\n",
    "if isinstance(tmdb.loc[0, 'genre_ids'], str):\n",
    "    tmdb['genre_ids'] = tmdb['genre_ids'].apply(ast.literal_eval)\n",
    "\n",
    "# Map genre IDs to names, store as list of genre names in new column 'tmdb_genres'\n",
    "tmdb['tmdb_genres'] = tmdb['genre_ids'].apply(lambda ids: [tmdb_genre_dict.get(i, 'Unknown') for i in ids])\n"
   ]
  },
  {
   "cell_type": "code",
   "execution_count": 112,
   "id": "1e6b21ed",
   "metadata": {},
   "outputs": [
    {
     "name": "stdout",
     "output_type": "stream",
     "text": [
      "Merged dataframe shape: (23263, 8)\n"
     ]
    },
    {
     "data": {
      "application/vnd.microsoft.datawrangler.viewer.v0+json": {
       "columns": [
        {
         "name": "index",
         "rawType": "int64",
         "type": "integer"
        },
        {
         "name": "movie_id",
         "rawType": "object",
         "type": "string"
        },
        {
         "name": "primary_title",
         "rawType": "object",
         "type": "string"
        },
        {
         "name": "original_title",
         "rawType": "object",
         "type": "string"
        },
        {
         "name": "start_year",
         "rawType": "object",
         "type": "string"
        },
        {
         "name": "runtime_minutes",
         "rawType": "float64",
         "type": "float"
        },
        {
         "name": "genres",
         "rawType": "object",
         "type": "string"
        },
        {
         "name": "title",
         "rawType": "object",
         "type": "string"
        },
        {
         "name": "tmdb_genres",
         "rawType": "object",
         "type": "unknown"
        }
       ],
       "ref": "ad6d24b6-aa64-4a82-87c1-073d0a2235e5",
       "rows": [
        [
         "0",
         "tt0069049",
         "The Other Side of the Wind",
         "The Other Side of the Wind",
         "1970-01-01 00:00:00.000002",
         "122.0",
         "Drama",
         "The Other Side of the Wind",
         "['Comedy', 'Drama']"
        ],
        [
         "1",
         "tt0112502",
         "Bigfoot",
         "Bigfoot",
         "1970-01-01 00:00:00.000002",
         "87.0",
         "Horror,Thriller",
         "Bigfoot",
         "['Horror', 'Science Fiction', 'Adventure']"
        ],
        [
         "2",
         "tt0192528",
         "Heaven & Hell",
         "Reverse Heaven",
         "1970-01-01 00:00:00.000002",
         "104.0",
         "Drama",
         "Heaven & Hell",
         "['Drama']"
        ],
        [
         "3",
         "tt0249516",
         "Foodfight!",
         "Foodfight!",
         "1970-01-01 00:00:00.000002",
         "91.0",
         "Action,Animation,Comedy",
         "Foodfight!",
         "['Animation', 'Action', 'Comedy', 'Family']"
        ],
        [
         "4",
         "tt0255820",
         "Return to Babylon",
         "Return to Babylon",
         "1970-01-01 00:00:00.000002",
         "75.0",
         "Biography,Comedy,Drama",
         "Return to Babylon",
         "['Comedy', 'Drama']"
        ]
       ],
       "shape": {
        "columns": 8,
        "rows": 5
       }
      },
      "text/html": [
       "<div>\n",
       "<style scoped>\n",
       "    .dataframe tbody tr th:only-of-type {\n",
       "        vertical-align: middle;\n",
       "    }\n",
       "\n",
       "    .dataframe tbody tr th {\n",
       "        vertical-align: top;\n",
       "    }\n",
       "\n",
       "    .dataframe thead th {\n",
       "        text-align: right;\n",
       "    }\n",
       "</style>\n",
       "<table border=\"1\" class=\"dataframe\">\n",
       "  <thead>\n",
       "    <tr style=\"text-align: right;\">\n",
       "      <th></th>\n",
       "      <th>movie_id</th>\n",
       "      <th>primary_title</th>\n",
       "      <th>original_title</th>\n",
       "      <th>start_year</th>\n",
       "      <th>runtime_minutes</th>\n",
       "      <th>genres</th>\n",
       "      <th>title</th>\n",
       "      <th>tmdb_genres</th>\n",
       "    </tr>\n",
       "  </thead>\n",
       "  <tbody>\n",
       "    <tr>\n",
       "      <th>0</th>\n",
       "      <td>tt0069049</td>\n",
       "      <td>The Other Side of the Wind</td>\n",
       "      <td>The Other Side of the Wind</td>\n",
       "      <td>1970-01-01 00:00:00.000002</td>\n",
       "      <td>122.0</td>\n",
       "      <td>Drama</td>\n",
       "      <td>The Other Side of the Wind</td>\n",
       "      <td>[Comedy, Drama]</td>\n",
       "    </tr>\n",
       "    <tr>\n",
       "      <th>1</th>\n",
       "      <td>tt0112502</td>\n",
       "      <td>Bigfoot</td>\n",
       "      <td>Bigfoot</td>\n",
       "      <td>1970-01-01 00:00:00.000002</td>\n",
       "      <td>87.0</td>\n",
       "      <td>Horror,Thriller</td>\n",
       "      <td>Bigfoot</td>\n",
       "      <td>[Horror, Science Fiction, Adventure]</td>\n",
       "    </tr>\n",
       "    <tr>\n",
       "      <th>2</th>\n",
       "      <td>tt0192528</td>\n",
       "      <td>Heaven &amp; Hell</td>\n",
       "      <td>Reverse Heaven</td>\n",
       "      <td>1970-01-01 00:00:00.000002</td>\n",
       "      <td>104.0</td>\n",
       "      <td>Drama</td>\n",
       "      <td>Heaven &amp; Hell</td>\n",
       "      <td>[Drama]</td>\n",
       "    </tr>\n",
       "    <tr>\n",
       "      <th>3</th>\n",
       "      <td>tt0249516</td>\n",
       "      <td>Foodfight!</td>\n",
       "      <td>Foodfight!</td>\n",
       "      <td>1970-01-01 00:00:00.000002</td>\n",
       "      <td>91.0</td>\n",
       "      <td>Action,Animation,Comedy</td>\n",
       "      <td>Foodfight!</td>\n",
       "      <td>[Animation, Action, Comedy, Family]</td>\n",
       "    </tr>\n",
       "    <tr>\n",
       "      <th>4</th>\n",
       "      <td>tt0255820</td>\n",
       "      <td>Return to Babylon</td>\n",
       "      <td>Return to Babylon</td>\n",
       "      <td>1970-01-01 00:00:00.000002</td>\n",
       "      <td>75.0</td>\n",
       "      <td>Biography,Comedy,Drama</td>\n",
       "      <td>Return to Babylon</td>\n",
       "      <td>[Comedy, Drama]</td>\n",
       "    </tr>\n",
       "  </tbody>\n",
       "</table>\n",
       "</div>"
      ],
      "text/plain": [
       "    movie_id               primary_title              original_title  \\\n",
       "0  tt0069049  The Other Side of the Wind  The Other Side of the Wind   \n",
       "1  tt0112502                     Bigfoot                     Bigfoot   \n",
       "2  tt0192528               Heaven & Hell              Reverse Heaven   \n",
       "3  tt0249516                  Foodfight!                  Foodfight!   \n",
       "4  tt0255820           Return to Babylon           Return to Babylon   \n",
       "\n",
       "                   start_year  runtime_minutes                   genres  \\\n",
       "0  1970-01-01 00:00:00.000002            122.0                    Drama   \n",
       "1  1970-01-01 00:00:00.000002             87.0          Horror,Thriller   \n",
       "2  1970-01-01 00:00:00.000002            104.0                    Drama   \n",
       "3  1970-01-01 00:00:00.000002             91.0  Action,Animation,Comedy   \n",
       "4  1970-01-01 00:00:00.000002             75.0   Biography,Comedy,Drama   \n",
       "\n",
       "                        title                           tmdb_genres  \n",
       "0  The Other Side of the Wind                       [Comedy, Drama]  \n",
       "1                     Bigfoot  [Horror, Science Fiction, Adventure]  \n",
       "2               Heaven & Hell                               [Drama]  \n",
       "3                  Foodfight!   [Animation, Action, Comedy, Family]  \n",
       "4           Return to Babylon                       [Comedy, Drama]  "
      ]
     },
     "execution_count": 112,
     "metadata": {},
     "output_type": "execute_result"
    }
   ],
   "source": [
    "full_df = pd.merge(\n",
    "    movie_basics,\n",
    "    tmdb[['title', 'tmdb_genres']],\n",
    "    left_on='primary_title',\n",
    "    right_on='title',\n",
    "    how='inner'  # only keep matched titles\n",
    ")\n",
    "\n",
    "print(f\"Merged dataframe shape: {full_df.shape}\")\n",
    "full_df.head()\n"
   ]
  },
  {
   "cell_type": "code",
   "execution_count": 113,
   "id": "47740722",
   "metadata": {},
   "outputs": [
    {
     "name": "stdout",
     "output_type": "stream",
     "text": [
      "Rows with missing revenue: 19162\n"
     ]
    }
   ],
   "source": [
    "full_df = pd.merge(\n",
    "    full_df,\n",
    "    revenue[['title', 'worldwide_gross($)']],\n",
    "    left_on='primary_title',\n",
    "    right_on='title',\n",
    "    how='left'  # keep all movies from merged df, some may not have revenue\n",
    ")\n",
    "\n",
    "# Check missing revenue rows\n",
    "print(f\"Rows with missing revenue: {full_df['worldwide_gross($)'].isna().sum()}\")\n"
   ]
  },
  {
   "cell_type": "code",
   "execution_count": 114,
   "id": "6a2ce0eb",
   "metadata": {},
   "outputs": [],
   "source": [
    "# Fill missing genres with empty string and split\n",
    "full_df['genres_list'] = full_df['genres'].fillna('').str.split(',')\n",
    "\n",
    "# Explode genres\n",
    "exploded_basic = full_df.explode('genres_list')\n",
    "\n",
    "# Strip whitespace\n",
    "exploded_basic['genres_list'] = exploded_basic['genres_list'].str.strip()\n",
    "\n",
    "# Remove empty genre rows\n",
    "exploded_basic = exploded_basic[exploded_basic['genres_list'] != '']\n"
   ]
  },
  {
   "cell_type": "code",
   "execution_count": 115,
   "id": "46a067c6",
   "metadata": {},
   "outputs": [],
   "source": [
    "exploded_tmdb = full_df.explode('tmdb_genres')\n",
    "\n",
    "# Remove unknown or missing genres\n",
    "exploded_tmdb = exploded_tmdb[\n",
    "    (exploded_tmdb['tmdb_genres'].notna()) & \n",
    "    (exploded_tmdb['tmdb_genres'] != 'Unknown')\n",
    "]\n"
   ]
  },
  {
   "cell_type": "code",
   "execution_count": 116,
   "id": "4aaa17dc",
   "metadata": {},
   "outputs": [
    {
     "name": "stdout",
     "output_type": "stream",
     "text": [
      "    genres_list  worldwide_gross($)\n",
      "2     Adventure        2.236959e+11\n",
      "8         Drama        1.968742e+11\n",
      "0        Action        1.951874e+11\n",
      "5        Comedy        1.413095e+11\n",
      "3     Animation        8.298835e+10\n",
      "10      Fantasy        7.967163e+10\n",
      "24     Thriller        7.689815e+10\n",
      "20       Sci-Fi        7.619813e+10\n",
      "7   Documentary        6.813352e+10\n",
      "9        Family        5.508586e+10\n",
      "19      Romance        4.565271e+10\n",
      "13       Horror        4.478243e+10\n",
      "6         Crime        3.906136e+10\n",
      "4     Biography        3.381541e+10\n",
      "16      Mystery        2.528269e+10\n",
      "15      Musical        1.905305e+10\n",
      "12      History        1.819440e+10\n",
      "22        Sport        1.334061e+10\n",
      "14        Music        8.757444e+09\n",
      "25          War        5.060183e+09\n",
      "26      Western        1.821900e+09\n",
      "17         News        2.638716e+08\n",
      "1         Adult        0.000000e+00\n",
      "18   Reality-TV        0.000000e+00\n",
      "11    Game-Show        0.000000e+00\n",
      "21        Short        0.000000e+00\n",
      "23    Talk-Show        0.000000e+00\n"
     ]
    }
   ],
   "source": [
    "gross_by_basic_genre = (\n",
    "    exploded_basic.groupby('genres_list')['worldwide_gross($)']\n",
    "    .sum()\n",
    "    .reset_index()\n",
    "    .sort_values('worldwide_gross($)', ascending=False)\n",
    ")\n",
    "\n",
    "print(gross_by_basic_genre)\n"
   ]
  },
  {
   "cell_type": "code",
   "execution_count": 117,
   "id": "41793ace",
   "metadata": {},
   "outputs": [
    {
     "data": {
      "image/png": "[encoded data removed]",
      "text/plain": [
       "<Figure size 1200x600 with 1 Axes>"
      ]
     },
     "metadata": {},
     "output_type": "display_data"
    }
   ],
   "source": [
    "import matplotlib.pyplot as plt\n",
    "\n",
    "plt.figure(figsize=(12,6))\n",
    "plt.bar(gross_by_basic_genre['genres_list'], gross_by_basic_genre['worldwide_gross($)'], color='skyblue')\n",
    "plt.xticks(rotation=45, ha='right')\n",
    "plt.xlabel('Genre (movie_basics)')\n",
    "plt.ylabel('Total Worldwide Gross ($)')\n",
    "plt.title('Total Worldwide Gross by Genre (movie_basics)')\n",
    "plt.tight_layout()\n",
    "plt.show()\n"
   ]
  },
  {
   "cell_type": "code",
   "execution_count": 118,
   "id": "b3fcb047",
   "metadata": {},
   "outputs": [
    {
     "name": "stdout",
     "output_type": "stream",
     "text": [
      "        tmdb_genres  worldwide_gross($)\n",
      "1         Adventure        2.048863e+11\n",
      "6             Drama        1.957134e+11\n",
      "0            Action        1.930831e+11\n",
      "3            Comedy        1.610032e+11\n",
      "7            Family        1.448826e+11\n",
      "8           Fantasy        1.395830e+11\n",
      "14  Science Fiction        1.202980e+11\n",
      "2         Animation        1.045937e+11\n",
      "16         Thriller        1.029898e+11\n",
      "13          Romance        6.665323e+10\n",
      "10           Horror        4.893198e+10\n",
      "4             Crime        4.887873e+10\n",
      "12          Mystery        4.057100e+10\n",
      "17              War        1.139330e+10\n",
      "9           History        9.271638e+09\n",
      "5       Documentary        8.248384e+09\n",
      "11            Music        7.029760e+09\n",
      "18          Western        6.507228e+09\n",
      "15         TV Movie        3.781831e+08\n"
     ]
    }
   ],
   "source": [
    "gross_by_tmdb_genre = (\n",
    "    exploded_tmdb.groupby('tmdb_genres')['worldwide_gross($)']\n",
    "    .sum()\n",
    "    .reset_index()\n",
    "    .sort_values('worldwide_gross($)', ascending=False)\n",
    ")\n",
    "\n",
    "print(gross_by_tmdb_genre)\n"
   ]
  },
  {
   "cell_type": "code",
   "execution_count": 119,
   "id": "4a4d0617",
   "metadata": {},
   "outputs": [
    {
     "data": {
      "image/png": "[encoded data removed]",
      "text/plain": [
       "<Figure size 1200x600 with 1 Axes>"
      ]
     },
     "metadata": {},
     "output_type": "display_data"
    }
   ],
   "source": [
    "plt.figure(figsize=(12,6))\n",
    "plt.bar(gross_by_tmdb_genre['tmdb_genres'], gross_by_tmdb_genre['worldwide_gross($)'], color='coral')\n",
    "plt.xticks(rotation=45, ha='right')\n",
    "plt.xlabel('Genre (TMDb)')\n",
    "plt.ylabel('Total Worldwide Gross ($)')\n",
    "plt.title('Total Worldwide Gross by Genre (TMDb)')\n",
    "plt.tight_layout()\n",
    "plt.show()\n"
   ]
  },
  {
   "cell_type": "markdown",
   "id": "d93bb24d",
   "metadata": {},
   "source": [
    "Decoded TMDb genre IDs to names.\n",
    "\n",
    "Merged movie_basics with TMDb and movie revenue on title.\n",
    "\n",
    "Exploded genres from both sources to have one genre per row.\n",
    "\n",
    "Grouped by genre and summed worldwide gross.\n",
    "\n",
    "Plotted total worldwide gross by genre for both movie_basics and TMDb genres."
   ]
  }
 ],
 "metadata": {
  "kernelspec": {
   "display_name": "base",
   "language": "python",
   "name": "python3"
  },
  "language_info": {
   "codemirror_mode": {
    "name": "ipython",
    "version": 3
   },
   "file_extension": ".py",
   "mimetype": "text/x-python",
   "name": "python",
   "nbconvert_exporter": "python",
   "pygments_lexer": "ipython3",
   "version": "3.12.11"
  }
 },
 "nbformat": 4,
 "nbformat_minor": 5
}
