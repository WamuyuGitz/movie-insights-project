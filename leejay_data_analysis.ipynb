{
 "cells": [
  {
   "cell_type": "markdown",
   "id": "52e3cf8d",
   "metadata": {},
   "source": [
    "## IMPORTING THE REQUIRED LIBRARIES AND DATA"
   ]
  },
  {
   "cell_type": "code",
   "execution_count": 3,
   "id": "7e1ffabc",
   "metadata": {},
   "outputs": [],
   "source": [
    "import pandas as pd\n",
    "import sqlite3\n",
    "import matplotlib.pyplot as plt\n",
    "import seaborn as sns\n",
    "\n",
    "# Display all columns in one line\n",
    "pd.set_option('display.max_columns', None)   # show all columns\n",
    "pd.set_option('display.width', 1000)         # set a wide width to avoid wrapping\n",
    "\n",
    "\n",
    "# Load CSV\n",
    "df_csv = pd.read_csv('tn.movie_budgets.csv\\\\tn.movie_budgets.csv')\n",
    "\n",
    "# Load SQLite\n",
    "conn = sqlite3.connect('im.db\\im.db')\n"
   ]
  },
  {
   "cell_type": "code",
   "execution_count": 4,
   "id": "2920be30",
   "metadata": {},
   "outputs": [
    {
     "name": "stdout",
     "output_type": "stream",
     "text": [
      "CSV columns:\n",
      "['id', 'release_date', 'movie', 'production_budget', 'domestic_gross', 'worldwide_gross']\n",
      "\n",
      "CSV sample data:\n",
      "   id  release_date                                        movie production_budget domestic_gross worldwide_gross\n",
      "0   1  Dec 18, 2009                                       Avatar      $425,000,000   $760,507,625  $2,776,345,279\n",
      "1   2  May 20, 2011  Pirates of the Caribbean: On Stranger Tides      $410,600,000   $241,063,875  $1,045,663,875\n",
      "2   3   Jun 7, 2019                                 Dark Phoenix      $350,000,000    $42,762,350    $149,762,350\n",
      "3   4   May 1, 2015                      Avengers: Age of Ultron      $330,600,000   $459,005,868  $1,403,013,963\n",
      "4   5  Dec 15, 2017            Star Wars Ep. VIII: The Last Jedi      $317,000,000   $620,181,382  $1,316,721,747\n"
     ]
    }
   ],
   "source": [
    "# Check CSV columns and first 5 rows\n",
    "print(\"CSV columns:\")\n",
    "print(df_csv.columns.tolist())\n",
    "\n",
    "print(\"\\nCSV sample data:\")\n",
    "print(df_csv.head())"
   ]
  },
  {
   "cell_type": "code",
   "execution_count": 5,
   "id": "d909f600",
   "metadata": {},
   "outputs": [
    {
     "name": "stdout",
     "output_type": "stream",
     "text": [
      "SQLite tables:\n",
      "            name\n",
      "0   movie_basics\n",
      "1      directors\n",
      "2      known_for\n",
      "3     movie_akas\n",
      "4  movie_ratings\n",
      "5        persons\n",
      "6     principals\n",
      "7        writers\n"
     ]
    }
   ],
   "source": [
    "# Check available tables\n",
    "tables = pd.read_sql_query(\"SELECT name FROM sqlite_master WHERE type='table';\", conn)\n",
    "print(\"SQLite tables:\")\n",
    "print(tables)\n",
    " "
   ]
  },
  {
   "cell_type": "code",
   "execution_count": 6,
   "id": "5c5a2aba",
   "metadata": {},
   "outputs": [
    {
     "name": "stdout",
     "output_type": "stream",
     "text": [
      "\n",
      "First 5 rows of movie_basics:\n",
      "         movie_id                                primary_title                               original_title  start_year  runtime_minutes                genres\n",
      "0       tt0063540                                    Sunghursh                                    Sunghursh        2013            175.0    Action,Crime,Drama\n",
      "1       tt0066787              One Day Before the Rainy Season                              Ashad Ka Ek Din        2019            114.0       Biography,Drama\n",
      "2       tt0069049                   The Other Side of the Wind                   The Other Side of the Wind        2018            122.0                 Drama\n",
      "3       tt0069204                              Sabse Bada Sukh                              Sabse Bada Sukh        2018              NaN          Comedy,Drama\n",
      "4       tt0100275                     The Wandering Soap Opera                        La Telenovela Errante        2017             80.0  Comedy,Drama,Fantasy\n",
      "...           ...                                          ...                                          ...         ...              ...                   ...\n",
      "146139  tt9916538                          Kuambil Lagi Hatiku                          Kuambil Lagi Hatiku        2019            123.0                 Drama\n",
      "146140  tt9916622  Rodolpho Teóphilo - O Legado de um Pioneiro  Rodolpho Teóphilo - O Legado de um Pioneiro        2015              NaN           Documentary\n",
      "146141  tt9916706                              Dankyavar Danka                              Dankyavar Danka        2013              NaN                Comedy\n",
      "146142  tt9916730                                       6 Gunn                                       6 Gunn        2017            116.0                  None\n",
      "146143  tt9916754               Chico Albuquerque - Revelações               Chico Albuquerque - Revelações        2013              NaN           Documentary\n",
      "\n",
      "[146144 rows x 6 columns]\n",
      "\n",
      "Columns in movie_basics:\n",
      "['movie_id', 'primary_title', 'original_title', 'start_year', 'runtime_minutes', 'genres']\n"
     ]
    }
   ],
   "source": [
    "# Inspect movie_basics table\n",
    "df_movie_basics = pd.read_sql_query(\"SELECT * FROM movie_basics;\", conn)\n",
    "\n",
    "print(\"\\nFirst 5 rows of movie_basics:\")\n",
    "print(df_movie_basics)\n",
    "\n",
    "print(\"\\nColumns in movie_basics:\")\n",
    "print(df_movie_basics.columns.tolist())\n"
   ]
  }
 ],
 "metadata": {
  "kernelspec": {
   "display_name": "base",
   "language": "python",
   "name": "python3"
  },
  "language_info": {
   "codemirror_mode": {
    "name": "ipython",
    "version": 3
   },
   "file_extension": ".py",
   "mimetype": "text/x-python",
   "name": "python",
   "nbconvert_exporter": "python",
   "pygments_lexer": "ipython3",
   "version": "3.11.7"
  }
 },
 "nbformat": 4,
 "nbformat_minor": 5
}
