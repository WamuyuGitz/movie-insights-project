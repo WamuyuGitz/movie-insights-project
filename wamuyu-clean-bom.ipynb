{
 "cells": [
  {
   "cell_type": "markdown",
   "id": "49985d43",
   "metadata": {},
   "source": [
    "## Dataset Overview: bom.movie csv\n",
    "\n",
    "This dataset, sourced from Box Office Mojo, contains information on movie titles and their corresponding box office performance. It includes release dates, studios, and gross earnings.\n",
    "\n",
    "We will focus on cleaning and formatting this dataset to ensure it's usable for downstream analysis."
   ]
  },
  {
   "cell_type": "markdown",
   "id": "b33d10a6",
   "metadata": {},
   "source": [
    "#### Cleaning Plan\n",
    "\n",
    "In this section, I will:\n",
    "\n",
    "- Load the raw `.csv.gz` dataset using pandas\n",
    "- Inspect for missing values and inconsistent formats\n",
    "- Convert columns to the correct data types (e.g., numeric, datetime)\n",
    "- Standardize column names\n",
    "- Drop or correct any unusable rows or columns\n",
    "- Save the cleaned data to `data/cleaned/imdb_merged.csv`"
   ]
  },
  {
   "cell_type": "markdown",
   "id": "037a945e",
   "metadata": {},
   "source": [
    "### Load the Raw Data\n",
    "\n",
    "We will load the compressed CSV file directly from `data/raw/` and preview the first few rows."
   ]
  },
  {
   "cell_type": "code",
   "execution_count": 30,
   "id": "d986faa6",
   "metadata": {},
   "outputs": [
    {
     "data": {
      "text/html": [
       "<div>\n",
       "<style scoped>\n",
       "    .dataframe tbody tr th:only-of-type {\n",
       "        vertical-align: middle;\n",
       "    }\n",
       "\n",
       "    .dataframe tbody tr th {\n",
       "        vertical-align: top;\n",
       "    }\n",
       "\n",
       "    .dataframe thead th {\n",
       "        text-align: right;\n",
       "    }\n",
       "</style>\n",
       "<table border=\"1\" class=\"dataframe\">\n",
       "  <thead>\n",
       "    <tr style=\"text-align: right;\">\n",
       "      <th></th>\n",
       "      <th>title</th>\n",
       "      <th>studio</th>\n",
       "      <th>domestic_gross</th>\n",
       "      <th>foreign_gross</th>\n",
       "      <th>year</th>\n",
       "    </tr>\n",
       "  </thead>\n",
       "  <tbody>\n",
       "    <tr>\n",
       "      <th>0</th>\n",
       "      <td>Toy Story 3</td>\n",
       "      <td>BV</td>\n",
       "      <td>415000000.0</td>\n",
       "      <td>652000000</td>\n",
       "      <td>2010</td>\n",
       "    </tr>\n",
       "    <tr>\n",
       "      <th>1</th>\n",
       "      <td>Alice in Wonderland (2010)</td>\n",
       "      <td>BV</td>\n",
       "      <td>334200000.0</td>\n",
       "      <td>691300000</td>\n",
       "      <td>2010</td>\n",
       "    </tr>\n",
       "    <tr>\n",
       "      <th>2</th>\n",
       "      <td>Harry Potter and the Deathly Hallows Part 1</td>\n",
       "      <td>WB</td>\n",
       "      <td>296000000.0</td>\n",
       "      <td>664300000</td>\n",
       "      <td>2010</td>\n",
       "    </tr>\n",
       "    <tr>\n",
       "      <th>3</th>\n",
       "      <td>Inception</td>\n",
       "      <td>WB</td>\n",
       "      <td>292600000.0</td>\n",
       "      <td>535700000</td>\n",
       "      <td>2010</td>\n",
       "    </tr>\n",
       "    <tr>\n",
       "      <th>4</th>\n",
       "      <td>Shrek Forever After</td>\n",
       "      <td>P/DW</td>\n",
       "      <td>238700000.0</td>\n",
       "      <td>513900000</td>\n",
       "      <td>2010</td>\n",
       "    </tr>\n",
       "    <tr>\n",
       "      <th>...</th>\n",
       "      <td>...</td>\n",
       "      <td>...</td>\n",
       "      <td>...</td>\n",
       "      <td>...</td>\n",
       "      <td>...</td>\n",
       "    </tr>\n",
       "    <tr>\n",
       "      <th>95</th>\n",
       "      <td>Secretariat</td>\n",
       "      <td>BV</td>\n",
       "      <td>59700000.0</td>\n",
       "      <td>537000</td>\n",
       "      <td>2010</td>\n",
       "    </tr>\n",
       "    <tr>\n",
       "      <th>96</th>\n",
       "      <td>The Ghost Writer</td>\n",
       "      <td>Sum.</td>\n",
       "      <td>15500000.0</td>\n",
       "      <td>44700000</td>\n",
       "      <td>2010</td>\n",
       "    </tr>\n",
       "    <tr>\n",
       "      <th>97</th>\n",
       "      <td>Morning Glory</td>\n",
       "      <td>Par.</td>\n",
       "      <td>31000000.0</td>\n",
       "      <td>29000000</td>\n",
       "      <td>2010</td>\n",
       "    </tr>\n",
       "    <tr>\n",
       "      <th>98</th>\n",
       "      <td>Remember Me</td>\n",
       "      <td>Sum.</td>\n",
       "      <td>19100000.0</td>\n",
       "      <td>37000000</td>\n",
       "      <td>2010</td>\n",
       "    </tr>\n",
       "    <tr>\n",
       "      <th>99</th>\n",
       "      <td>Cop Out</td>\n",
       "      <td>WB</td>\n",
       "      <td>44900000.0</td>\n",
       "      <td>10700000</td>\n",
       "      <td>2010</td>\n",
       "    </tr>\n",
       "  </tbody>\n",
       "</table>\n",
       "<p>100 rows × 5 columns</p>\n",
       "</div>"
      ],
      "text/plain": [
       "                                          title studio  domestic_gross  \\\n",
       "0                                   Toy Story 3     BV     415000000.0   \n",
       "1                    Alice in Wonderland (2010)     BV     334200000.0   \n",
       "2   Harry Potter and the Deathly Hallows Part 1     WB     296000000.0   \n",
       "3                                     Inception     WB     292600000.0   \n",
       "4                           Shrek Forever After   P/DW     238700000.0   \n",
       "..                                          ...    ...             ...   \n",
       "95                                  Secretariat     BV      59700000.0   \n",
       "96                             The Ghost Writer   Sum.      15500000.0   \n",
       "97                                Morning Glory   Par.      31000000.0   \n",
       "98                                  Remember Me   Sum.      19100000.0   \n",
       "99                                      Cop Out     WB      44900000.0   \n",
       "\n",
       "   foreign_gross  year  \n",
       "0      652000000  2010  \n",
       "1      691300000  2010  \n",
       "2      664300000  2010  \n",
       "3      535700000  2010  \n",
       "4      513900000  2010  \n",
       "..           ...   ...  \n",
       "95        537000  2010  \n",
       "96      44700000  2010  \n",
       "97      29000000  2010  \n",
       "98      37000000  2010  \n",
       "99      10700000  2010  \n",
       "\n",
       "[100 rows x 5 columns]"
      ]
     },
     "execution_count": 30,
     "metadata": {},
     "output_type": "execute_result"
    }
   ],
   "source": [
    "# Import standard libraries\n",
    "import pandas as pd\n",
    "import numpy as np\n",
    "import sqlite3\n",
    "import seaborn as sns\n",
    "\n",
    "# Load the raw compressed CSV file\n",
    "bom_raw_path = '../../data/raw/bom.movie_gross.csv.gz'\n",
    "\n",
    "# Read it using pandas\n",
    "bom_df = pd.read_csv(bom_raw_path)\n",
    "\n",
    "# Preview the data\n",
    "bom_df.head(100)\n"
   ]
  },
  {
   "cell_type": "markdown",
   "id": "826c9bc1",
   "metadata": {},
   "source": [
    "#### Detect Missing Data\n",
    "Before we clean, we inspect the dataset for missing values to understand the extent and location of the gaps. This helps us decide the appropriate handling strategy."
   ]
  },
  {
   "cell_type": "code",
   "execution_count": 5,
   "id": "2e64b06e",
   "metadata": {},
   "outputs": [
    {
     "name": "stdout",
     "output_type": "stream",
     "text": [
      "<class 'pandas.core.frame.DataFrame'>\n",
      "RangeIndex: 3387 entries, 0 to 3386\n",
      "Data columns (total 5 columns):\n",
      " #   Column          Non-Null Count  Dtype  \n",
      "---  ------          --------------  -----  \n",
      " 0   title           3387 non-null   object \n",
      " 1   studio          3382 non-null   object \n",
      " 2   domestic_gross  3359 non-null   float64\n",
      " 3   foreign_gross   2037 non-null   object \n",
      " 4   year            3387 non-null   int64  \n",
      "dtypes: float64(1), int64(1), object(3)\n",
      "memory usage: 132.4+ KB\n"
     ]
    },
    {
     "data": {
      "text/plain": [
       "title                0\n",
       "studio               5\n",
       "domestic_gross      28\n",
       "foreign_gross     1350\n",
       "year                 0\n",
       "dtype: int64"
      ]
     },
     "execution_count": 5,
     "metadata": {},
     "output_type": "execute_result"
    }
   ],
   "source": [
    "# View basic info\n",
    "bom_df.info()\n",
    "\n",
    "# Count of missing values per column\n",
    "bom_df.isnull().sum()"
   ]
  },
  {
   "cell_type": "markdown",
   "id": "472173ab",
   "metadata": {},
   "source": [
    "We calculate the percentage of missing values for each column. Columns with a high percentage of missing data may be dropped, while those with fewer missing values may be imputed or cleaned case-by-case."
   ]
  },
  {
   "cell_type": "code",
   "execution_count": 6,
   "id": "de009078",
   "metadata": {},
   "outputs": [
    {
     "data": {
      "text/plain": [
       "foreign_gross     39.858282\n",
       "domestic_gross     0.826690\n",
       "studio             0.147623\n",
       "title              0.000000\n",
       "year               0.000000\n",
       "dtype: float64"
      ]
     },
     "execution_count": 6,
     "metadata": {},
     "output_type": "execute_result"
    }
   ],
   "source": [
    "# Percentage of missing values per column\n",
    "(bom_df.isnull().sum() / len(bom_df) * 100).sort_values(ascending=False)"
   ]
  },
  {
   "cell_type": "markdown",
   "id": "ed57313a",
   "metadata": {},
   "source": [
    "#### Handling Missing Values\n",
    "\n",
    "We found that nearly 40% of `foreign_gross` values are missing. This is expected since not all movies are released internationally. We'll treat these as 0. A similar logic is applied to `domestic_gross`. `studio` has a very small percentage of missing data, so we'll fill with `'Unknown'`."
   ]
  },
  {
   "cell_type": "code",
   "execution_count": null,
   "id": "fd54b325",
   "metadata": {},
   "outputs": [],
   "source": [
    "# Fill missing values\n",
    "# bom_df['foreign_gross'] = bom_df['foreign_gross'].replace('[\\$,]', '', regex=True)\n",
    "# bom_df['domestic_gross'] = bom_df['domestic_gross'].replace('[\\$,]', '', regex=True)\n",
    "\n",
    "# Convert to numeric and fill missing as 0\n",
    "bom_df['foreign_gross'] = pd.to_numeric(bom_df['foreign_gross'], errors='coerce').fillna(0)\n",
    "bom_df['domestic_gross'] = pd.to_numeric(bom_df['domestic_gross'], errors='coerce').fillna(0)\n",
    "\n",
    "# Fill missing studios with 'Unknown'\n",
    "bom_df['studio'] = bom_df['studio'].fillna('Unknown')\n"
   ]
  },
  {
   "cell_type": "markdown",
   "id": "dd9fc151",
   "metadata": {},
   "source": [
    "Let's do a final check:"
   ]
  },
  {
   "cell_type": "code",
   "execution_count": 8,
   "id": "5ccc4339",
   "metadata": {},
   "outputs": [
    {
     "data": {
      "text/html": [
       "<div>\n",
       "<style scoped>\n",
       "    .dataframe tbody tr th:only-of-type {\n",
       "        vertical-align: middle;\n",
       "    }\n",
       "\n",
       "    .dataframe tbody tr th {\n",
       "        vertical-align: top;\n",
       "    }\n",
       "\n",
       "    .dataframe thead th {\n",
       "        text-align: right;\n",
       "    }\n",
       "</style>\n",
       "<table border=\"1\" class=\"dataframe\">\n",
       "  <thead>\n",
       "    <tr style=\"text-align: right;\">\n",
       "      <th></th>\n",
       "      <th>title</th>\n",
       "      <th>studio</th>\n",
       "      <th>domestic_gross</th>\n",
       "      <th>foreign_gross</th>\n",
       "      <th>year</th>\n",
       "    </tr>\n",
       "  </thead>\n",
       "  <tbody>\n",
       "    <tr>\n",
       "      <th>0</th>\n",
       "      <td>Toy Story 3</td>\n",
       "      <td>BV</td>\n",
       "      <td>415000000.0</td>\n",
       "      <td>652000000.0</td>\n",
       "      <td>2010</td>\n",
       "    </tr>\n",
       "    <tr>\n",
       "      <th>1</th>\n",
       "      <td>Alice in Wonderland (2010)</td>\n",
       "      <td>BV</td>\n",
       "      <td>334200000.0</td>\n",
       "      <td>691300000.0</td>\n",
       "      <td>2010</td>\n",
       "    </tr>\n",
       "    <tr>\n",
       "      <th>2</th>\n",
       "      <td>Harry Potter and the Deathly Hallows Part 1</td>\n",
       "      <td>WB</td>\n",
       "      <td>296000000.0</td>\n",
       "      <td>664300000.0</td>\n",
       "      <td>2010</td>\n",
       "    </tr>\n",
       "    <tr>\n",
       "      <th>3</th>\n",
       "      <td>Inception</td>\n",
       "      <td>WB</td>\n",
       "      <td>292600000.0</td>\n",
       "      <td>535700000.0</td>\n",
       "      <td>2010</td>\n",
       "    </tr>\n",
       "    <tr>\n",
       "      <th>4</th>\n",
       "      <td>Shrek Forever After</td>\n",
       "      <td>P/DW</td>\n",
       "      <td>238700000.0</td>\n",
       "      <td>513900000.0</td>\n",
       "      <td>2010</td>\n",
       "    </tr>\n",
       "  </tbody>\n",
       "</table>\n",
       "</div>"
      ],
      "text/plain": [
       "                                         title studio  domestic_gross  \\\n",
       "0                                  Toy Story 3     BV     415000000.0   \n",
       "1                   Alice in Wonderland (2010)     BV     334200000.0   \n",
       "2  Harry Potter and the Deathly Hallows Part 1     WB     296000000.0   \n",
       "3                                    Inception     WB     292600000.0   \n",
       "4                          Shrek Forever After   P/DW     238700000.0   \n",
       "\n",
       "   foreign_gross  year  \n",
       "0    652000000.0  2010  \n",
       "1    691300000.0  2010  \n",
       "2    664300000.0  2010  \n",
       "3    535700000.0  2010  \n",
       "4    513900000.0  2010  "
      ]
     },
     "execution_count": 8,
     "metadata": {},
     "output_type": "execute_result"
    }
   ],
   "source": [
    "bom_df.isnull().sum()\n",
    "bom_df.head()"
   ]
  },
  {
   "cell_type": "markdown",
   "id": "97244d02",
   "metadata": {},
   "source": [
    "### Purpose of Using IMDB Here\n",
    "\n",
    "Our goal is to analyze **studio performance** and **revenue distribution** between **domestic and international markets.**\n",
    "\n",
    "To ensure accurate matching between:\n",
    "- `bom.movie_gross` (which includes studio, domestic, foreign gross)\n",
    "- and cleaned financials from TN or BOM\n",
    "\n",
    "…we use `movie_basics` to:\n",
    "- Validate movie titles\n",
    "- Confirm accurate release years\n",
    "- Ensure that duplicated or foreign release titles don’t interfere with our regional revenue analysis\n",
    "\n",
    "Let's first view the tables in the database:\n"
   ]
  },
  {
   "cell_type": "code",
   "execution_count": 80,
   "id": "5a051222",
   "metadata": {},
   "outputs": [
    {
     "name": "stdout",
     "output_type": "stream",
     "text": [
      "Extraction complete. Check 'data/raw/im.db'\n"
     ]
    }
   ],
   "source": [
    "import zipfile\n",
    "\n",
    "# Path to the ZIP file\n",
    "zip_path = '../../data/raw/im.db.zip'\n",
    "# Destination path for extraction\n",
    "extract_to = '../../data/raw/'\n",
    "\n",
    "# Unzip the file\n",
    "with zipfile.ZipFile(zip_path, 'r') as zip_ref:\n",
    "    zip_ref.extractall(extract_to)\n",
    "\n",
    "print(\"Extraction complete. Check 'data/raw/im.db'\")\n"
   ]
  },
  {
   "cell_type": "code",
   "execution_count": 18,
   "id": "0f8f982d",
   "metadata": {},
   "outputs": [
    {
     "data": {
      "text/html": [
       "<div>\n",
       "<style scoped>\n",
       "    .dataframe tbody tr th:only-of-type {\n",
       "        vertical-align: middle;\n",
       "    }\n",
       "\n",
       "    .dataframe tbody tr th {\n",
       "        vertical-align: top;\n",
       "    }\n",
       "\n",
       "    .dataframe thead th {\n",
       "        text-align: right;\n",
       "    }\n",
       "</style>\n",
       "<table border=\"1\" class=\"dataframe\">\n",
       "  <thead>\n",
       "    <tr style=\"text-align: right;\">\n",
       "      <th></th>\n",
       "      <th>name</th>\n",
       "    </tr>\n",
       "  </thead>\n",
       "  <tbody>\n",
       "    <tr>\n",
       "      <th>0</th>\n",
       "      <td>movie_basics</td>\n",
       "    </tr>\n",
       "    <tr>\n",
       "      <th>1</th>\n",
       "      <td>directors</td>\n",
       "    </tr>\n",
       "    <tr>\n",
       "      <th>2</th>\n",
       "      <td>known_for</td>\n",
       "    </tr>\n",
       "    <tr>\n",
       "      <th>3</th>\n",
       "      <td>movie_akas</td>\n",
       "    </tr>\n",
       "    <tr>\n",
       "      <th>4</th>\n",
       "      <td>movie_ratings</td>\n",
       "    </tr>\n",
       "    <tr>\n",
       "      <th>5</th>\n",
       "      <td>persons</td>\n",
       "    </tr>\n",
       "    <tr>\n",
       "      <th>6</th>\n",
       "      <td>principals</td>\n",
       "    </tr>\n",
       "    <tr>\n",
       "      <th>7</th>\n",
       "      <td>writers</td>\n",
       "    </tr>\n",
       "  </tbody>\n",
       "</table>\n",
       "</div>"
      ],
      "text/plain": [
       "            name\n",
       "0   movie_basics\n",
       "1      directors\n",
       "2      known_for\n",
       "3     movie_akas\n",
       "4  movie_ratings\n",
       "5        persons\n",
       "6     principals\n",
       "7        writers"
      ]
     },
     "execution_count": 18,
     "metadata": {},
     "output_type": "execute_result"
    }
   ],
   "source": [
    "# Connect to the unzipped database\n",
    "conn = sqlite3.connect('../../data/raw/im.db')\n",
    "\n",
    "# List all tables\n",
    "tables = pd.read_sql(\"SELECT name FROM sqlite_master WHERE type='table';\", conn)\n",
    "tables"
   ]
  },
  {
   "cell_type": "markdown",
   "id": "bac5198d",
   "metadata": {},
   "source": [
    "#### Step 1: Load and Preview `movie_basics` Table\n",
    "\n",
    "We start by exploring the `movie_basics` table to understand its structure and contents. This helps us identify:\n",
    "- Which columns are useful for our regional revenue + studio analysis\n",
    "- Whether titles and years are clean and complete\n"
   ]
  },
  {
   "cell_type": "code",
   "execution_count": 19,
   "id": "75156613",
   "metadata": {},
   "outputs": [
    {
     "data": {
      "text/html": [
       "<div>\n",
       "<style scoped>\n",
       "    .dataframe tbody tr th:only-of-type {\n",
       "        vertical-align: middle;\n",
       "    }\n",
       "\n",
       "    .dataframe tbody tr th {\n",
       "        vertical-align: top;\n",
       "    }\n",
       "\n",
       "    .dataframe thead th {\n",
       "        text-align: right;\n",
       "    }\n",
       "</style>\n",
       "<table border=\"1\" class=\"dataframe\">\n",
       "  <thead>\n",
       "    <tr style=\"text-align: right;\">\n",
       "      <th></th>\n",
       "      <th>movie_id</th>\n",
       "      <th>primary_title</th>\n",
       "      <th>original_title</th>\n",
       "      <th>start_year</th>\n",
       "      <th>runtime_minutes</th>\n",
       "      <th>genres</th>\n",
       "    </tr>\n",
       "  </thead>\n",
       "  <tbody>\n",
       "    <tr>\n",
       "      <th>0</th>\n",
       "      <td>tt0063540</td>\n",
       "      <td>Sunghursh</td>\n",
       "      <td>Sunghursh</td>\n",
       "      <td>2013</td>\n",
       "      <td>175.0</td>\n",
       "      <td>Action,Crime,Drama</td>\n",
       "    </tr>\n",
       "    <tr>\n",
       "      <th>1</th>\n",
       "      <td>tt0066787</td>\n",
       "      <td>One Day Before the Rainy Season</td>\n",
       "      <td>Ashad Ka Ek Din</td>\n",
       "      <td>2019</td>\n",
       "      <td>114.0</td>\n",
       "      <td>Biography,Drama</td>\n",
       "    </tr>\n",
       "    <tr>\n",
       "      <th>2</th>\n",
       "      <td>tt0069049</td>\n",
       "      <td>The Other Side of the Wind</td>\n",
       "      <td>The Other Side of the Wind</td>\n",
       "      <td>2018</td>\n",
       "      <td>122.0</td>\n",
       "      <td>Drama</td>\n",
       "    </tr>\n",
       "    <tr>\n",
       "      <th>3</th>\n",
       "      <td>tt0069204</td>\n",
       "      <td>Sabse Bada Sukh</td>\n",
       "      <td>Sabse Bada Sukh</td>\n",
       "      <td>2018</td>\n",
       "      <td>NaN</td>\n",
       "      <td>Comedy,Drama</td>\n",
       "    </tr>\n",
       "    <tr>\n",
       "      <th>4</th>\n",
       "      <td>tt0100275</td>\n",
       "      <td>The Wandering Soap Opera</td>\n",
       "      <td>La Telenovela Errante</td>\n",
       "      <td>2017</td>\n",
       "      <td>80.0</td>\n",
       "      <td>Comedy,Drama,Fantasy</td>\n",
       "    </tr>\n",
       "  </tbody>\n",
       "</table>\n",
       "</div>"
      ],
      "text/plain": [
       "    movie_id                    primary_title              original_title  \\\n",
       "0  tt0063540                        Sunghursh                   Sunghursh   \n",
       "1  tt0066787  One Day Before the Rainy Season             Ashad Ka Ek Din   \n",
       "2  tt0069049       The Other Side of the Wind  The Other Side of the Wind   \n",
       "3  tt0069204                  Sabse Bada Sukh             Sabse Bada Sukh   \n",
       "4  tt0100275         The Wandering Soap Opera       La Telenovela Errante   \n",
       "\n",
       "   start_year  runtime_minutes                genres  \n",
       "0        2013            175.0    Action,Crime,Drama  \n",
       "1        2019            114.0       Biography,Drama  \n",
       "2        2018            122.0                 Drama  \n",
       "3        2018              NaN          Comedy,Drama  \n",
       "4        2017             80.0  Comedy,Drama,Fantasy  "
      ]
     },
     "execution_count": 19,
     "metadata": {},
     "output_type": "execute_result"
    }
   ],
   "source": [
    "# Read the movie_basics table\n",
    "movie_basics = pd.read_sql(\"SELECT * FROM movie_basics\", conn)\n",
    "\n",
    "# Preview the first few rows\n",
    "movie_basics.head()"
   ]
  },
  {
   "cell_type": "markdown",
   "id": "1f58c1c2",
   "metadata": {},
   "source": [
    "#### Step 2: Understand Column Data Types and Null Values\n",
    "\n",
    "This step helps us detect missing or malformed entries in `movie_basics` before we begin any cleaning or merging."
   ]
  },
  {
   "cell_type": "code",
   "execution_count": 20,
   "id": "5448f264",
   "metadata": {},
   "outputs": [
    {
     "name": "stdout",
     "output_type": "stream",
     "text": [
      "<class 'pandas.core.frame.DataFrame'>\n",
      "RangeIndex: 146144 entries, 0 to 146143\n",
      "Data columns (total 6 columns):\n",
      " #   Column           Non-Null Count   Dtype  \n",
      "---  ------           --------------   -----  \n",
      " 0   movie_id         146144 non-null  object \n",
      " 1   primary_title    146144 non-null  object \n",
      " 2   original_title   146123 non-null  object \n",
      " 3   start_year       146144 non-null  int64  \n",
      " 4   runtime_minutes  114405 non-null  float64\n",
      " 5   genres           140736 non-null  object \n",
      "dtypes: float64(1), int64(1), object(4)\n",
      "memory usage: 6.7+ MB\n"
     ]
    },
    {
     "data": {
      "text/plain": [
       "runtime_minutes    0.217176\n",
       "genres             0.037005\n",
       "original_title     0.000144\n",
       "movie_id           0.000000\n",
       "primary_title      0.000000\n",
       "start_year         0.000000\n",
       "dtype: float64"
      ]
     },
     "execution_count": 20,
     "metadata": {},
     "output_type": "execute_result"
    }
   ],
   "source": [
    "# General information about the dataset\n",
    "movie_basics.info()\n",
    "\n",
    "# Check for missing values\n",
    "movie_basics.isnull().mean().sort_values(ascending=False)"
   ]
  },
  {
   "cell_type": "markdown",
   "id": "43c48cdc",
   "metadata": {},
   "source": [
    "#### Dataset Summary: `movie_basics`\n",
    "\n",
    "This dataset contains metadata on 146,144 movies extracted from IMDB. The columns available include:\n",
    "\n",
    "| Column            | Description                                     |\n",
    "|-------------------|-------------------------------------------------|\n",
    "| `movie_id`        | Unique IMDB movie identifier (`tconst`)         |\n",
    "| `primary_title`   | Main title of the movie                         |\n",
    "| `original_title`  | Title in original language                      |\n",
    "| `start_year`      | Year the title was released                     |\n",
    "| `runtime_minutes` | Duration of the movie in minutes                |\n",
    "| `genres`          | Genre classification (comma-separated)          |\n",
    "\n",
    "#####  Rows: `146,144`  \n",
    "#####  Missing Values:\n",
    "- `runtime_minutes` is missing in ~21.7% of rows\n",
    "- `genres` is missing in ~3.7% of rows\n",
    "- `original_title` is missing in only ~0.01% of rows\n",
    "\n",
    "We observe that both `primary_title` and `start_year` are complete and suitable for use in merges with external datasets like `bom.movie_gross.csv.gz`.\n"
   ]
  },
  {
   "cell_type": "markdown",
   "id": "41e2acb7",
   "metadata": {},
   "source": [
    "#### Why Use `movie_basics`?\n",
    "\n",
    "For our **studio + revenue region analysis**, `movie_basics` serves as:\n",
    "\n",
    "- A validation tool to verify titles and release years across datasets.\n",
    "- A secondary source of information on genres and runtimes (if needed).\n",
    "- A linking bridge using `primary_title` + `start_year` for merging with BOM or budget data.\n",
    "\n",
    "While not focused on financials itself, it's essential for data integration and contextual enrichment.\n"
   ]
  },
  {
   "cell_type": "markdown",
   "id": "d81385d7",
   "metadata": {},
   "source": [
    "#### Cleaning for Merge\n",
    "\n",
    "To prepare for accurate merging between Box Office Mojo (`bom.movie_gross.csv.gz`) and IMDB’s `movie_basics`, we standardized column names, normalized movie titles by lowercasing and stripping whitespace, and dropped missing values in merge-critical fields. \n",
    "\n",
    "This allowed us to join the datasets using `title + year` (renamed to `start_year`), creating a bridge between gross revenue data and IMDB metadata (e.g., genres, runtimes).\n"
   ]
  },
  {
   "cell_type": "code",
   "execution_count": 21,
   "id": "72091dc4",
   "metadata": {},
   "outputs": [],
   "source": [
    "# Clean BOM dataset\n",
    "bom_df_clean = bom_df.copy()\n",
    "\n",
    "# Standardize column names\n",
    "bom_df_clean.rename(columns={'year': 'start_year'}, inplace=True)\n",
    "\n",
    "# Lowercase and strip titles\n",
    "bom_df_clean['title_clean'] = bom_df_clean['title'].str.lower().str.strip()\n",
    "\n",
    "# Drop rows with missing titles or years\n",
    "bom_df_clean.dropna(subset=['title_clean', 'start_year'], inplace=True)\n",
    "bom_df_clean['start_year'] = bom_df_clean['start_year'].astype(int)\n",
    "\n",
    "# Clean IMDB movie_basics dataset\n",
    "mb_clean = movie_basics.copy()\n",
    "\n",
    "# Lowercase and strip titles\n",
    "mb_clean['title_clean'] = mb_clean['primary_title'].str.lower().str.strip()\n",
    "\n",
    "# Drop rows with missing titles or years\n",
    "mb_clean.dropna(subset=['title_clean', 'start_year'], inplace=True)\n"
   ]
  },
  {
   "cell_type": "markdown",
   "id": "902b58d4",
   "metadata": {},
   "source": [
    "### Merging the Datasets"
   ]
  },
  {
   "cell_type": "code",
   "execution_count": 24,
   "id": "6fd17f3c",
   "metadata": {},
   "outputs": [
    {
     "data": {
      "text/html": [
       "<div>\n",
       "<style scoped>\n",
       "    .dataframe tbody tr th:only-of-type {\n",
       "        vertical-align: middle;\n",
       "    }\n",
       "\n",
       "    .dataframe tbody tr th {\n",
       "        vertical-align: top;\n",
       "    }\n",
       "\n",
       "    .dataframe thead th {\n",
       "        text-align: right;\n",
       "    }\n",
       "</style>\n",
       "<table border=\"1\" class=\"dataframe\">\n",
       "  <thead>\n",
       "    <tr style=\"text-align: right;\">\n",
       "      <th></th>\n",
       "      <th>title</th>\n",
       "      <th>studio</th>\n",
       "      <th>domestic_gross</th>\n",
       "      <th>foreign_gross</th>\n",
       "      <th>start_year</th>\n",
       "      <th>movie_id</th>\n",
       "      <th>primary_title</th>\n",
       "      <th>original_title</th>\n",
       "      <th>runtime_minutes</th>\n",
       "      <th>genres</th>\n",
       "    </tr>\n",
       "  </thead>\n",
       "  <tbody>\n",
       "    <tr>\n",
       "      <th>0</th>\n",
       "      <td>Toy Story 3</td>\n",
       "      <td>BV</td>\n",
       "      <td>415000000.0</td>\n",
       "      <td>652000000.0</td>\n",
       "      <td>2010</td>\n",
       "      <td>tt0435761</td>\n",
       "      <td>Toy Story 3</td>\n",
       "      <td>Toy Story 3</td>\n",
       "      <td>103.0</td>\n",
       "      <td>Adventure,Animation,Comedy</td>\n",
       "    </tr>\n",
       "    <tr>\n",
       "      <th>1</th>\n",
       "      <td>Inception</td>\n",
       "      <td>WB</td>\n",
       "      <td>292600000.0</td>\n",
       "      <td>535700000.0</td>\n",
       "      <td>2010</td>\n",
       "      <td>tt1375666</td>\n",
       "      <td>Inception</td>\n",
       "      <td>Inception</td>\n",
       "      <td>148.0</td>\n",
       "      <td>Action,Adventure,Sci-Fi</td>\n",
       "    </tr>\n",
       "    <tr>\n",
       "      <th>2</th>\n",
       "      <td>Shrek Forever After</td>\n",
       "      <td>P/DW</td>\n",
       "      <td>238700000.0</td>\n",
       "      <td>513900000.0</td>\n",
       "      <td>2010</td>\n",
       "      <td>tt0892791</td>\n",
       "      <td>Shrek Forever After</td>\n",
       "      <td>Shrek Forever After</td>\n",
       "      <td>93.0</td>\n",
       "      <td>Adventure,Animation,Comedy</td>\n",
       "    </tr>\n",
       "    <tr>\n",
       "      <th>3</th>\n",
       "      <td>The Twilight Saga: Eclipse</td>\n",
       "      <td>Sum.</td>\n",
       "      <td>300500000.0</td>\n",
       "      <td>398000000.0</td>\n",
       "      <td>2010</td>\n",
       "      <td>tt1325004</td>\n",
       "      <td>The Twilight Saga: Eclipse</td>\n",
       "      <td>The Twilight Saga: Eclipse</td>\n",
       "      <td>124.0</td>\n",
       "      <td>Adventure,Drama,Fantasy</td>\n",
       "    </tr>\n",
       "    <tr>\n",
       "      <th>4</th>\n",
       "      <td>Iron Man 2</td>\n",
       "      <td>Par.</td>\n",
       "      <td>312400000.0</td>\n",
       "      <td>311500000.0</td>\n",
       "      <td>2010</td>\n",
       "      <td>tt1228705</td>\n",
       "      <td>Iron Man 2</td>\n",
       "      <td>Iron Man 2</td>\n",
       "      <td>124.0</td>\n",
       "      <td>Action,Adventure,Sci-Fi</td>\n",
       "    </tr>\n",
       "  </tbody>\n",
       "</table>\n",
       "</div>"
      ],
      "text/plain": [
       "                        title studio  domestic_gross  foreign_gross  \\\n",
       "0                 Toy Story 3     BV     415000000.0    652000000.0   \n",
       "1                   Inception     WB     292600000.0    535700000.0   \n",
       "2         Shrek Forever After   P/DW     238700000.0    513900000.0   \n",
       "3  The Twilight Saga: Eclipse   Sum.     300500000.0    398000000.0   \n",
       "4                  Iron Man 2   Par.     312400000.0    311500000.0   \n",
       "\n",
       "   start_year   movie_id               primary_title  \\\n",
       "0        2010  tt0435761                 Toy Story 3   \n",
       "1        2010  tt1375666                   Inception   \n",
       "2        2010  tt0892791         Shrek Forever After   \n",
       "3        2010  tt1325004  The Twilight Saga: Eclipse   \n",
       "4        2010  tt1228705                  Iron Man 2   \n",
       "\n",
       "               original_title  runtime_minutes                      genres  \n",
       "0                 Toy Story 3            103.0  Adventure,Animation,Comedy  \n",
       "1                   Inception            148.0     Action,Adventure,Sci-Fi  \n",
       "2         Shrek Forever After             93.0  Adventure,Animation,Comedy  \n",
       "3  The Twilight Saga: Eclipse            124.0     Adventure,Drama,Fantasy  \n",
       "4                  Iron Man 2            124.0     Action,Adventure,Sci-Fi  "
      ]
     },
     "execution_count": 24,
     "metadata": {},
     "output_type": "execute_result"
    }
   ],
   "source": [
    "# Step 1: Keep only essential columns post-merge\n",
    "merged_df = merged_df[[\n",
    "    'title', 'studio', 'domestic_gross', 'foreign_gross', 'start_year',\n",
    "    'movie_id', 'primary_title', 'original_title', 'runtime_minutes', 'genres'\n",
    "]]\n",
    "\n",
    "# Step 2: Drop duplicates — same title and year combinations\n",
    "merged_df.drop_duplicates(subset=['title', 'start_year'], inplace=True)\n",
    "\n",
    "# Step 3: Convert gross columns to numeric (in case they're objects)\n",
    "merged_df['domestic_gross'] = pd.to_numeric(merged_df['domestic_gross'], errors='coerce')\n",
    "merged_df['foreign_gross'] = pd.to_numeric(merged_df['foreign_gross'], errors='coerce')\n",
    "\n",
    "\n",
    "# Step 5: Preview final dataset\n",
    "merged_df.head()\n"
   ]
  },
  {
   "cell_type": "code",
   "execution_count": 25,
   "id": "7c8bbab8",
   "metadata": {},
   "outputs": [],
   "source": [
    "# Step 4: Export cleaned version to `data/clean`\n",
    "merged_df.to_csv('../../data/cleaned/bom_imdb_merged.csv', index=False)"
   ]
  },
  {
   "cell_type": "markdown",
   "id": "24937260",
   "metadata": {},
   "source": [
    "### Exploratory Data Analysis"
   ]
  },
  {
   "cell_type": "markdown",
   "id": "157bd9c5",
   "metadata": {},
   "source": [
    "#### Top 10 Studios by Total Gross Revenue\n",
    "\n",
    "This bar chart shows the top 10 studios based on their combined domestic and international revenue. This helps us identify which studios dominate the market and are associated with high-grossing films."
   ]
  },
  {
   "cell_type": "code",
   "execution_count": 27,
   "id": "89dd4c2d",
   "metadata": {},
   "outputs": [
    {
     "data": {
      "image/png": "[encoded data removed]",
      "text/plain": [
       "<Figure size 1000x600 with 1 Axes>"
      ]
     },
     "metadata": {},
     "output_type": "display_data"
    }
   ],
   "source": [
    "import matplotlib.pyplot as plt\n",
    "\n",
    "# Load the cleaned dataset\n",
    "merged_df = pd.read_csv('../../data/cleaned/bom_imdb_merged.csv')\n",
    "\n",
    "# Create total revenue column\n",
    "merged_df['total_gross'] = merged_df['domestic_gross'] + merged_df['foreign_gross']\n",
    "\n",
    "# Group by studio and sum revenues\n",
    "studio_revenue = merged_df.groupby('studio')['total_gross'].sum().sort_values(ascending=False).head(10)\n",
    "\n",
    "# Plot\n",
    "studio_revenue.plot(kind='barh', figsize=(10, 6))\n",
    "plt.xlabel('Total Gross Revenue (USD)')\n",
    "plt.title('Top 10 Studios by Total Gross Revenue')\n",
    "plt.gca().invert_yaxis()\n",
    "plt.tight_layout()\n",
    "plt.show()\n"
   ]
  },
  {
   "cell_type": "markdown",
   "id": "6e398fdb",
   "metadata": {},
   "source": [
    "#### Revenue Breakdown: Domestic vs Foreign\n",
    "\n",
    "This pie chart illustrates the proportion of total revenue that comes from domestic (U.S.) vs international markets. It's essential for understanding regional dependency in box office success.\n"
   ]
  },
  {
   "cell_type": "code",
   "execution_count": 28,
   "id": "3ab3346d",
   "metadata": {},
   "outputs": [
    {
     "data": {
      "image/png": "[encoded data removed]",
      "text/plain": [
       "<Figure size 600x600 with 1 Axes>"
      ]
     },
     "metadata": {},
     "output_type": "display_data"
    }
   ],
   "source": [
    "# Sum up global totals\n",
    "domestic_total = merged_df['domestic_gross'].sum()\n",
    "foreign_total = merged_df['foreign_gross'].sum()\n",
    "\n",
    "# Plot pie chart\n",
    "plt.figure(figsize=(6, 6))\n",
    "plt.pie([domestic_total, foreign_total],\n",
    "        labels=['Domestic Gross', 'Foreign Gross'],\n",
    "        autopct='%1.1f%%', startangle=140)\n",
    "plt.title('Global Revenue Breakdown: Domestic vs Foreign')\n",
    "plt.axis('equal')\n",
    "plt.show()"
   ]
  },
  {
   "cell_type": "markdown",
   "id": "5da11820",
   "metadata": {},
   "source": [
    "#### Studio Revenue Growth Over Years"
   ]
  },
  {
   "cell_type": "code",
   "execution_count": 31,
   "id": "e5a97891",
   "metadata": {},
   "outputs": [
    {
     "data": {
      "image/png": "[encoded data removed]",
      "text/plain": [
       "<Figure size 1200x600 with 1 Axes>"
      ]
     },
     "metadata": {},
     "output_type": "display_data"
    }
   ],
   "source": [
    "# Select top studios\n",
    "top_studios = merged_df['studio'].value_counts().head(5).index.tolist()\n",
    "\n",
    "# Filter and group\n",
    "studio_yearly = merged_df[merged_df['studio'].isin(top_studios)]\n",
    "studio_grouped = studio_yearly.groupby(['start_year', 'studio'])['total_gross'].sum().reset_index()\n",
    "\n",
    "# Plot\n",
    "plt.figure(figsize=(12, 6))\n",
    "sns.lineplot(data=studio_grouped, x='start_year', y='total_gross', hue='studio')\n",
    "plt.title('Studio Revenue Over Time (Top 5 Studios)')\n",
    "plt.ylabel('Total Gross Revenue')\n",
    "plt.xlabel('Year')\n",
    "plt.grid(True)\n",
    "plt.tight_layout()\n",
    "plt.show()"
   ]
  },
  {
   "cell_type": "markdown",
   "id": "993b6f34",
   "metadata": {},
   "source": [
    "### ROI (Return on Investment) by studio"
   ]
  },
  {
   "cell_type": "markdown",
   "id": "846ed45e",
   "metadata": {},
   "source": [
    "#### Load and Prepare BOM Data\n",
    "\n",
    "This dataset contains movie titles, studio names, domestic and foreign gross revenue, and release years. We will:\n",
    "- Convert gross columns to numeric\n",
    "- Create `total_gross`\n",
    "- Standardize the title for merging"
   ]
  },
  {
   "cell_type": "markdown",
   "id": "44d7bfdb",
   "metadata": {},
   "source": [
    "#### Step 1: Clean and Normalize Movie Titles\n",
    "\n",
    "Before merging our Box Office Mojo (BOM) and The Numbers (TN) datasets, we need to ensure that movie titles from both sources are standardized. These datasets were collected from different platforms, and the titles often contain inconsistencies such as:\n",
    "\n",
    "- Year suffixes in parentheses (e.g., \"Toy Story 3 (2010)\")\n",
    "- Special characters and punctuation (e.g., colons, dashes)\n",
    "- Extra whitespace and inconsistent casing\n",
    "\n",
    "To improve our merge accuracy, we perform the following cleaning steps on both title columns:\n",
    "1. Remove any year suffix in the format `(YYYY)`\n",
    "2. Remove punctuation and special characters\n",
    "3. Convert all text to lowercase\n",
    "4. Normalize whitespace\n",
    "\n",
    "This results in a simplified, comparable format for matching titles across datasets.\n"
   ]
  },
  {
   "cell_type": "code",
   "execution_count": 72,
   "id": "be7d8ae5",
   "metadata": {},
   "outputs": [],
   "source": [
    "import pandas as pd\n",
    "\n",
    "# Load BOM cleaned\n",
    "bom_df = pd.read_csv('../../data/cleaned/bom_imdb_merged.csv')\n",
    "\n",
    "# Load TN (The Numbers) budget dataset\n",
    "tn_df = pd.read_csv('../../data/raw/tn.movie_budgets.csv.gz')\n",
    "\n",
    "import re\n",
    "\n",
    "def clean_title(text):\n",
    "    if pd.isnull(text):\n",
    "        return \"\"\n",
    "    text = re.sub(r'\\(\\d{4}\\)', '', text)          # remove (YYYY)\n",
    "    text = re.sub(r'[^\\w\\s]', '', text)            # remove punctuation\n",
    "    text = re.sub(r'\\s+', ' ', text).lower().strip()  # lowercase + strip whitespace\n",
    "    return text\n",
    "\n",
    "# Apply it to both title columns\n",
    "bom_df['title_clean'] = bom_df['title'].apply(clean_title)\n",
    "tn_df['movie_clean'] = tn_df['movie'].apply(clean_title)\n",
    "\n",
    "#both should have common year\n",
    "bom_df['year'] = bom_df['start_year']\n",
    "tn_df['year'] = pd.to_datetime(tn_df['release_date'], errors='coerce').dt.year\n",
    "\n"
   ]
  },
  {
   "cell_type": "markdown",
   "id": "90e1ab20",
   "metadata": {},
   "source": [
    "#### Step 2: Merge on Title + Year"
   ]
  },
  {
   "cell_type": "code",
   "execution_count": 76,
   "id": "1c4bdf22",
   "metadata": {},
   "outputs": [
    {
     "name": "stdout",
     "output_type": "stream",
     "text": [
      "ROI dataset saved succefully\n"
     ]
    }
   ],
   "source": [
    "roi_df = pd.merge(\n",
    "    bom_df,\n",
    "    tn_df,\n",
    "    left_on=['title_clean', 'year'],\n",
    "    right_on=['movie_clean', 'year'],\n",
    "    how='inner'\n",
    ")\n",
    "\n",
    "clean_path = '../../data/cleaned'\n",
    "\n",
    "roi_df.to_csv(f\"{clean_path}/roi_dataset.csv\", index = False)\n",
    "print(\"ROI dataset saved succefully\")"
   ]
  },
  {
   "cell_type": "markdown",
   "id": "ac8a9ed2",
   "metadata": {},
   "source": [
    "#### Step 3: Check Results"
   ]
  },
  {
   "cell_type": "code",
   "execution_count": 77,
   "id": "990432b4",
   "metadata": {},
   "outputs": [
    {
     "data": {
      "text/html": [
       "<div>\n",
       "<style scoped>\n",
       "    .dataframe tbody tr th:only-of-type {\n",
       "        vertical-align: middle;\n",
       "    }\n",
       "\n",
       "    .dataframe tbody tr th {\n",
       "        vertical-align: top;\n",
       "    }\n",
       "\n",
       "    .dataframe thead th {\n",
       "        text-align: right;\n",
       "    }\n",
       "</style>\n",
       "<table border=\"1\" class=\"dataframe\">\n",
       "  <thead>\n",
       "    <tr style=\"text-align: right;\">\n",
       "      <th></th>\n",
       "      <th>title</th>\n",
       "      <th>studio</th>\n",
       "      <th>production_budget</th>\n",
       "      <th>worldwide_gross</th>\n",
       "    </tr>\n",
       "  </thead>\n",
       "  <tbody>\n",
       "    <tr>\n",
       "      <th>0</th>\n",
       "      <td>Toy Story 3</td>\n",
       "      <td>BV</td>\n",
       "      <td>$200,000,000</td>\n",
       "      <td>$1,068,879,522</td>\n",
       "    </tr>\n",
       "    <tr>\n",
       "      <th>1</th>\n",
       "      <td>Inception</td>\n",
       "      <td>WB</td>\n",
       "      <td>$160,000,000</td>\n",
       "      <td>$835,524,642</td>\n",
       "    </tr>\n",
       "    <tr>\n",
       "      <th>2</th>\n",
       "      <td>Shrek Forever After</td>\n",
       "      <td>P/DW</td>\n",
       "      <td>$165,000,000</td>\n",
       "      <td>$756,244,673</td>\n",
       "    </tr>\n",
       "    <tr>\n",
       "      <th>3</th>\n",
       "      <td>The Twilight Saga: Eclipse</td>\n",
       "      <td>Sum.</td>\n",
       "      <td>$68,000,000</td>\n",
       "      <td>$706,102,828</td>\n",
       "    </tr>\n",
       "    <tr>\n",
       "      <th>4</th>\n",
       "      <td>Iron Man 2</td>\n",
       "      <td>Par.</td>\n",
       "      <td>$170,000,000</td>\n",
       "      <td>$621,156,389</td>\n",
       "    </tr>\n",
       "  </tbody>\n",
       "</table>\n",
       "</div>"
      ],
      "text/plain": [
       "                        title studio production_budget worldwide_gross\n",
       "0                 Toy Story 3     BV      $200,000,000  $1,068,879,522\n",
       "1                   Inception     WB      $160,000,000    $835,524,642\n",
       "2         Shrek Forever After   P/DW      $165,000,000    $756,244,673\n",
       "3  The Twilight Saga: Eclipse   Sum.       $68,000,000    $706,102,828\n",
       "4                  Iron Man 2   Par.      $170,000,000    $621,156,389"
      ]
     },
     "execution_count": 77,
     "metadata": {},
     "output_type": "execute_result"
    }
   ],
   "source": [
    "roi_df[['title', 'studio', 'production_budget', 'worldwide_gross']].dropna().head()"
   ]
  }
 ],
 "metadata": {
  "kernelspec": {
   "display_name": "learn-env",
   "language": "python",
   "name": "python3"
  },
  "language_info": {
   "codemirror_mode": {
    "name": "ipython",
    "version": 3
   },
   "file_extension": ".py",
   "mimetype": "text/x-python",
   "name": "python",
   "nbconvert_exporter": "python",
   "pygments_lexer": "ipython3",
   "version": "3.10.16"
  }
 },
 "nbformat": 4,
 "nbformat_minor": 5
}
