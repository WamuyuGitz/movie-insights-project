{
 "cells": [
  {
   "cell_type": "markdown",
   "id": "42623bdd",
   "metadata": {},
   "source": [
    "# DATA UNDERSTANDING\n",
    "In this section, we are going introduce ourselves to the data we are going to use, exploring them for insights and understanding before we begin our analysis. This section will include data description and summary to know what we are getting into.\n",
    "\n",
    "In this repository, under the file path `Data`, we have 6 datasets namely `im.db`, `bom.movie_gross.csv`, `tn.movie_budgets.csv`, `rt.reviews.tsv`, `rt.movie_info.tsv`, and `tmdb.movies.csv`.\n",
    "We are going to explore them one by one focusing on their sources, structures, formats, why they are suitable and if they are in the best shape for analysis.\n",
    "\n",
    "The analysis tools we will be using in this section include;\n",
    "- Pandas\n",
    "- SQLite3\n"
   ]
  },
  {
   "cell_type": "code",
   "execution_count": 1,
   "id": "d31c68e2",
   "metadata": {},
   "outputs": [],
   "source": [
    "# Importing necessary libraries.\n",
    "\n",
    "import pandas as pd\n",
    "import sqlite3"
   ]
  },
  {
   "cell_type": "markdown",
   "id": "bfc56ca2",
   "metadata": {},
   "source": [
    "## rt.reviews.tsv\n",
    "### Data source\n",
    "The `rt.reviews.tsv.gz` dataset is sourced from the Rotten Tomatoes website, a film and television review aggregator and user community. The data contains movie reviews and ratings from various movie critics dating from the year 2000 to 2018.\n",
    "\n",
    "### Why this data is suitable\n",
    "* The data contains movie reviews, ratings, user comments, and critical reception, which help predict box office performance and overall success. This information also reveals audience preferences for genres, themes, and storylines, which is important to help studios tailor their content to meet market demand and avoid oversaturation in certain areas.\n",
    "\n",
    "* User reviews and comments provide valuable insights into audience perceptions of specific films and the overall cinematic landscape. Most importantly, this information is crucial for attracting investors and making informed decisions about green-lighting projects."
   ]
  },
  {
   "cell_type": "code",
   "execution_count": null,
   "id": "1d7aa406",
   "metadata": {},
   "outputs": [],
   "source": [
    "# We are reading the data into the 'rt_reviews, variable using the .read_csv() pandas function to be able to access the data in form of a dataframe\n",
    "\n",
    "rt_reviews = pd.read_csv(\"rt.reviews.tsv.gz\", compression= 'gzip', delimiter= '\\t', encoding= 'latin-1', index_col= False)\n",
    "rt_reviews.head()"
   ]
  },
  {
   "cell_type": "code",
   "execution_count": null,
   "id": "660b0657",
   "metadata": {},
   "outputs": [],
   "source": [
    "# This cone will print out the shape and the data's columns.\n",
    "\n",
    "print(f'The data has a {rt_reviews.shape} structure.')\n",
    "print('`rt_reviews` has 8 columns namely:', rt_reviews.columns)"
   ]
  },
  {
   "cell_type": "code",
   "execution_count": null,
   "id": "eaf9ef7c",
   "metadata": {},
   "outputs": [],
   "source": [
    "# We will be using the .info() function to explore the data further.\n",
    "# this function will show us the columns' datatypes, count of non null values, allowing us to identify columns with null values.\n",
    "\n",
    "rt_reviews.info()"
   ]
  },
  {
   "cell_type": "code",
   "execution_count": null,
   "id": "5d4ac20d",
   "metadata": {},
   "outputs": [],
   "source": [
    "# Other than the .info() function, .describe() function also gives a summary of the dataset.\n",
    "# This function gives us the statistical summary of the data.\n",
    "\n",
    "rt_reviews.describe(include= 'all')"
   ]
  },
  {
   "cell_type": "code",
   "execution_count": null,
   "id": "9aef6ce2",
   "metadata": {},
   "outputs": [],
   "source": [
    "missing = rt_reviews.isnull().sum()\n",
    "missing[missing > 0].sort_values(ascending=False)"
   ]
  },
  {
   "cell_type": "code",
   "execution_count": null,
   "id": "a30fc66d",
   "metadata": {},
   "outputs": [],
   "source": [
    "duplicates = rt_reviews.duplicated().sum()\n",
    "duplicates"
   ]
  },
  {
   "cell_type": "markdown",
   "id": "c5192d91",
   "metadata": {},
   "source": [
    "### Data summary\n",
    "* The dataset contains structured data stored in a TSV (tab-separated values) file containing both non-categorical and categorical data. \n",
    "\n",
    "* The dataset contains data in 54432 rows and 8 columns namely, 'id', 'review', 'rating', 'fresh', 'critic', 'top_critic', 'publisher', and 'date'. All the columns are well labeled and easy to interpret.\n",
    "\n",
    "* Out of the 8 columns, only 4 contain null values ranging from as low as 300 to 13,517 null values. The dataset also contains 9 duplicated rows.\n",
    "\n",
    "* The dataset contains mostly object datatypes, hence there is no quantitative analysis needed.\n",
    "\n",
    "### Data Quality Issues\n",
    "- Incompleteness - 4 columns contain missing values. Missing values in data can lead to inaccuracies and misleading results, which subsequently leads to inaccurate insights.\n",
    "\n",
    "- Duplicate records - The dataset contains 9 duplicated records, which could skew the results as certain records provide the same information twice.\n",
    "\n",
    "### Next steps\n",
    "The data is mostly clean and has a lot of information to offer, however, a few columns need some cleaning. The cleaning involves;\n",
    "\n",
    "* Handle missing and duplicated records."
   ]
  }
 ],
 "metadata": {
  "kernelspec": {
   "display_name": "learn-env",
   "language": "python",
   "name": "python3"
  },
  "language_info": {
   "codemirror_mode": {
    "name": "ipython",
    "version": 3
   },
   "file_extension": ".py",
   "mimetype": "text/x-python",
   "name": "python",
   "nbconvert_exporter": "python",
   "pygments_lexer": "ipython3",
   "version": "3.8.5"
  }
 },
 "nbformat": 4,
 "nbformat_minor": 5
}
