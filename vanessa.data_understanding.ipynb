{
 "cells": [
  {
   "cell_type": "markdown",
   "id": "42623bdd",
   "metadata": {},
   "source": [
    "# DATA UNDERSTANDING\n",
    "In this section, we are going introduce ourselves to the data we are going to use, exploring them for insights and understanding before we begin our analysis. This section will include data description and summary to know what we are getting into.\n",
    "\n",
    "In this repository, under the file path `Data`, we have 6 datasets namely `im.db`, `bom.movie_gross.csv`, `tn.movie_budgets.csv`, `rt.reviews.tsv`, `rt.movie_info.tsv`, and `tmdb.movies.csv`.\n",
    "We are going to explore them one by one focusing on their sources, structures, formats, why they are suitable and if they are in the best shape for analysis.\n",
    "\n",
    "The analysis tools we will be using in this section include;\n",
    "- Pandas\n",
    "- SQLite3\n"
   ]
  },
  {
   "cell_type": "code",
   "execution_count": 69,
   "id": "d31c68e2",
   "metadata": {},
   "outputs": [],
   "source": [
    "# Importing necessary libraries.\n",
    "\n",
    "import pandas as pd\n",
    "import sqlite3"
   ]
  },
  {
   "cell_type": "markdown",
   "id": "bfc56ca2",
   "metadata": {},
   "source": [
    "## rt.reviews.tsv\n",
    "### Data source\n",
    "The `rt.reviews.tsv.gz` dataset is sourced from the Rotten Tomatoes website, a film and television review aggregator and user community. The data contains movie reviews and ratings from various movie critics dating from the year 2000 to 2018.\n",
    "\n",
    "### Why is the data suitable for the project?\n",
    "* The data contains movie reviews, ratings, user comments, and critical reception, which help predict box office performance and overall success. This information also reveals audience preferences for genres, themes, and storylines, which is important to help studios tailor their content to meet market demand and avoid oversaturation in certain areas.\n",
    "\n",
    "* User reviews and comments provide valuable insights into audience perceptions of specific films and the overall cinematic landscape. Most importantly, this information is crucial for attracting investors and making informed decisions about green-lighting projects."
   ]
  },
  {
   "cell_type": "code",
   "execution_count": 70,
   "id": "1d7aa406",
   "metadata": {},
   "outputs": [
    {
     "data": {
      "text/html": [
       "<div>\n",
       "<style scoped>\n",
       "    .dataframe tbody tr th:only-of-type {\n",
       "        vertical-align: middle;\n",
       "    }\n",
       "\n",
       "    .dataframe tbody tr th {\n",
       "        vertical-align: top;\n",
       "    }\n",
       "\n",
       "    .dataframe thead th {\n",
       "        text-align: right;\n",
       "    }\n",
       "</style>\n",
       "<table border=\"1\" class=\"dataframe\">\n",
       "  <thead>\n",
       "    <tr style=\"text-align: right;\">\n",
       "      <th></th>\n",
       "      <th>id</th>\n",
       "      <th>review</th>\n",
       "      <th>rating</th>\n",
       "      <th>fresh</th>\n",
       "      <th>critic</th>\n",
       "      <th>top_critic</th>\n",
       "      <th>publisher</th>\n",
       "      <th>date</th>\n",
       "    </tr>\n",
       "  </thead>\n",
       "  <tbody>\n",
       "    <tr>\n",
       "      <th>0</th>\n",
       "      <td>3</td>\n",
       "      <td>A distinctly gallows take on contemporary fina...</td>\n",
       "      <td>3/5</td>\n",
       "      <td>fresh</td>\n",
       "      <td>PJ Nabarro</td>\n",
       "      <td>0</td>\n",
       "      <td>Patrick Nabarro</td>\n",
       "      <td>November 10, 2018</td>\n",
       "    </tr>\n",
       "    <tr>\n",
       "      <th>1</th>\n",
       "      <td>3</td>\n",
       "      <td>It's an allegory in search of a meaning that n...</td>\n",
       "      <td>NaN</td>\n",
       "      <td>rotten</td>\n",
       "      <td>Annalee Newitz</td>\n",
       "      <td>0</td>\n",
       "      <td>io9.com</td>\n",
       "      <td>May 23, 2018</td>\n",
       "    </tr>\n",
       "    <tr>\n",
       "      <th>2</th>\n",
       "      <td>3</td>\n",
       "      <td>... life lived in a bubble in financial dealin...</td>\n",
       "      <td>NaN</td>\n",
       "      <td>fresh</td>\n",
       "      <td>Sean Axmaker</td>\n",
       "      <td>0</td>\n",
       "      <td>Stream on Demand</td>\n",
       "      <td>January 4, 2018</td>\n",
       "    </tr>\n",
       "    <tr>\n",
       "      <th>3</th>\n",
       "      <td>3</td>\n",
       "      <td>Continuing along a line introduced in last yea...</td>\n",
       "      <td>NaN</td>\n",
       "      <td>fresh</td>\n",
       "      <td>Daniel Kasman</td>\n",
       "      <td>0</td>\n",
       "      <td>MUBI</td>\n",
       "      <td>November 16, 2017</td>\n",
       "    </tr>\n",
       "    <tr>\n",
       "      <th>4</th>\n",
       "      <td>3</td>\n",
       "      <td>... a perverse twist on neorealism...</td>\n",
       "      <td>NaN</td>\n",
       "      <td>fresh</td>\n",
       "      <td>NaN</td>\n",
       "      <td>0</td>\n",
       "      <td>Cinema Scope</td>\n",
       "      <td>October 12, 2017</td>\n",
       "    </tr>\n",
       "  </tbody>\n",
       "</table>\n",
       "</div>"
      ],
      "text/plain": [
       "   id                                             review rating   fresh  \\\n",
       "0   3  A distinctly gallows take on contemporary fina...    3/5   fresh   \n",
       "1   3  It's an allegory in search of a meaning that n...    NaN  rotten   \n",
       "2   3  ... life lived in a bubble in financial dealin...    NaN   fresh   \n",
       "3   3  Continuing along a line introduced in last yea...    NaN   fresh   \n",
       "4   3             ... a perverse twist on neorealism...     NaN   fresh   \n",
       "\n",
       "           critic  top_critic         publisher               date  \n",
       "0      PJ Nabarro           0   Patrick Nabarro  November 10, 2018  \n",
       "1  Annalee Newitz           0           io9.com       May 23, 2018  \n",
       "2    Sean Axmaker           0  Stream on Demand    January 4, 2018  \n",
       "3   Daniel Kasman           0              MUBI  November 16, 2017  \n",
       "4             NaN           0      Cinema Scope   October 12, 2017  "
      ]
     },
     "execution_count": 70,
     "metadata": {},
     "output_type": "execute_result"
    }
   ],
   "source": [
    "# We are reading the data into the 'rt_reviews, variable using the .read_csv() pandas function to be able to access the data in form of a dataframe\n",
    "\n",
    "rt_reviews = pd.read_csv(\"Data/rt.reviews.tsv.gz\", compression= 'gzip', delimiter= '\\t', encoding= 'latin-1', index_col= False)\n",
    "rt_reviews.head()"
   ]
  },
  {
   "cell_type": "code",
   "execution_count": 71,
   "id": "660b0657",
   "metadata": {},
   "outputs": [
    {
     "name": "stdout",
     "output_type": "stream",
     "text": [
      "The data has a (54432, 8) structure.\n",
      "`rt_reviews` has 8 columns namely: Index(['id', 'review', 'rating', 'fresh', 'critic', 'top_critic', 'publisher',\n",
      "       'date'],\n",
      "      dtype='object')\n"
     ]
    }
   ],
   "source": [
    "# This code will print out the shape and the data's columns.\n",
    "\n",
    "print(f'The data has a {rt_reviews.shape} structure.')\n",
    "print('`rt_reviews` has 8 columns namely:', rt_reviews.columns)"
   ]
  },
  {
   "cell_type": "code",
   "execution_count": 72,
   "id": "eaf9ef7c",
   "metadata": {},
   "outputs": [
    {
     "name": "stdout",
     "output_type": "stream",
     "text": [
      "<class 'pandas.core.frame.DataFrame'>\n",
      "RangeIndex: 54432 entries, 0 to 54431\n",
      "Data columns (total 8 columns):\n",
      " #   Column      Non-Null Count  Dtype \n",
      "---  ------      --------------  ----- \n",
      " 0   id          54432 non-null  int64 \n",
      " 1   review      48869 non-null  object\n",
      " 2   rating      40915 non-null  object\n",
      " 3   fresh       54432 non-null  object\n",
      " 4   critic      51710 non-null  object\n",
      " 5   top_critic  54432 non-null  int64 \n",
      " 6   publisher   54123 non-null  object\n",
      " 7   date        54432 non-null  object\n",
      "dtypes: int64(2), object(6)\n",
      "memory usage: 3.3+ MB\n"
     ]
    }
   ],
   "source": [
    "# We will be using the .info() function to explore the data further.\n",
    "# this function will show us the columns' datatypes, count of non null values, allowing us to identify columns with null values.\n",
    "\n",
    "rt_reviews.info()"
   ]
  },
  {
   "cell_type": "code",
   "execution_count": 73,
   "id": "5d4ac20d",
   "metadata": {},
   "outputs": [
    {
     "data": {
      "text/html": [
       "<div>\n",
       "<style scoped>\n",
       "    .dataframe tbody tr th:only-of-type {\n",
       "        vertical-align: middle;\n",
       "    }\n",
       "\n",
       "    .dataframe tbody tr th {\n",
       "        vertical-align: top;\n",
       "    }\n",
       "\n",
       "    .dataframe thead th {\n",
       "        text-align: right;\n",
       "    }\n",
       "</style>\n",
       "<table border=\"1\" class=\"dataframe\">\n",
       "  <thead>\n",
       "    <tr style=\"text-align: right;\">\n",
       "      <th></th>\n",
       "      <th>id</th>\n",
       "      <th>review</th>\n",
       "      <th>rating</th>\n",
       "      <th>fresh</th>\n",
       "      <th>critic</th>\n",
       "      <th>top_critic</th>\n",
       "      <th>publisher</th>\n",
       "      <th>date</th>\n",
       "    </tr>\n",
       "  </thead>\n",
       "  <tbody>\n",
       "    <tr>\n",
       "      <th>count</th>\n",
       "      <td>54432.000000</td>\n",
       "      <td>48869</td>\n",
       "      <td>40915</td>\n",
       "      <td>54432</td>\n",
       "      <td>51710</td>\n",
       "      <td>54432.000000</td>\n",
       "      <td>54123</td>\n",
       "      <td>54432</td>\n",
       "    </tr>\n",
       "    <tr>\n",
       "      <th>unique</th>\n",
       "      <td>NaN</td>\n",
       "      <td>48682</td>\n",
       "      <td>186</td>\n",
       "      <td>2</td>\n",
       "      <td>3496</td>\n",
       "      <td>NaN</td>\n",
       "      <td>1281</td>\n",
       "      <td>5963</td>\n",
       "    </tr>\n",
       "    <tr>\n",
       "      <th>top</th>\n",
       "      <td>NaN</td>\n",
       "      <td>Parental Content Review</td>\n",
       "      <td>3/5</td>\n",
       "      <td>fresh</td>\n",
       "      <td>Emanuel Levy</td>\n",
       "      <td>NaN</td>\n",
       "      <td>eFilmCritic.com</td>\n",
       "      <td>January 1, 2000</td>\n",
       "    </tr>\n",
       "    <tr>\n",
       "      <th>freq</th>\n",
       "      <td>NaN</td>\n",
       "      <td>24</td>\n",
       "      <td>4327</td>\n",
       "      <td>33035</td>\n",
       "      <td>595</td>\n",
       "      <td>NaN</td>\n",
       "      <td>673</td>\n",
       "      <td>4303</td>\n",
       "    </tr>\n",
       "    <tr>\n",
       "      <th>mean</th>\n",
       "      <td>1045.706882</td>\n",
       "      <td>NaN</td>\n",
       "      <td>NaN</td>\n",
       "      <td>NaN</td>\n",
       "      <td>NaN</td>\n",
       "      <td>0.240594</td>\n",
       "      <td>NaN</td>\n",
       "      <td>NaN</td>\n",
       "    </tr>\n",
       "    <tr>\n",
       "      <th>std</th>\n",
       "      <td>586.657046</td>\n",
       "      <td>NaN</td>\n",
       "      <td>NaN</td>\n",
       "      <td>NaN</td>\n",
       "      <td>NaN</td>\n",
       "      <td>0.427448</td>\n",
       "      <td>NaN</td>\n",
       "      <td>NaN</td>\n",
       "    </tr>\n",
       "    <tr>\n",
       "      <th>min</th>\n",
       "      <td>3.000000</td>\n",
       "      <td>NaN</td>\n",
       "      <td>NaN</td>\n",
       "      <td>NaN</td>\n",
       "      <td>NaN</td>\n",
       "      <td>0.000000</td>\n",
       "      <td>NaN</td>\n",
       "      <td>NaN</td>\n",
       "    </tr>\n",
       "    <tr>\n",
       "      <th>25%</th>\n",
       "      <td>542.000000</td>\n",
       "      <td>NaN</td>\n",
       "      <td>NaN</td>\n",
       "      <td>NaN</td>\n",
       "      <td>NaN</td>\n",
       "      <td>0.000000</td>\n",
       "      <td>NaN</td>\n",
       "      <td>NaN</td>\n",
       "    </tr>\n",
       "    <tr>\n",
       "      <th>50%</th>\n",
       "      <td>1083.000000</td>\n",
       "      <td>NaN</td>\n",
       "      <td>NaN</td>\n",
       "      <td>NaN</td>\n",
       "      <td>NaN</td>\n",
       "      <td>0.000000</td>\n",
       "      <td>NaN</td>\n",
       "      <td>NaN</td>\n",
       "    </tr>\n",
       "    <tr>\n",
       "      <th>75%</th>\n",
       "      <td>1541.000000</td>\n",
       "      <td>NaN</td>\n",
       "      <td>NaN</td>\n",
       "      <td>NaN</td>\n",
       "      <td>NaN</td>\n",
       "      <td>0.000000</td>\n",
       "      <td>NaN</td>\n",
       "      <td>NaN</td>\n",
       "    </tr>\n",
       "    <tr>\n",
       "      <th>max</th>\n",
       "      <td>2000.000000</td>\n",
       "      <td>NaN</td>\n",
       "      <td>NaN</td>\n",
       "      <td>NaN</td>\n",
       "      <td>NaN</td>\n",
       "      <td>1.000000</td>\n",
       "      <td>NaN</td>\n",
       "      <td>NaN</td>\n",
       "    </tr>\n",
       "  </tbody>\n",
       "</table>\n",
       "</div>"
      ],
      "text/plain": [
       "                  id                   review rating  fresh        critic  \\\n",
       "count   54432.000000                    48869  40915  54432         51710   \n",
       "unique           NaN                    48682    186      2          3496   \n",
       "top              NaN  Parental Content Review    3/5  fresh  Emanuel Levy   \n",
       "freq             NaN                       24   4327  33035           595   \n",
       "mean     1045.706882                      NaN    NaN    NaN           NaN   \n",
       "std       586.657046                      NaN    NaN    NaN           NaN   \n",
       "min         3.000000                      NaN    NaN    NaN           NaN   \n",
       "25%       542.000000                      NaN    NaN    NaN           NaN   \n",
       "50%      1083.000000                      NaN    NaN    NaN           NaN   \n",
       "75%      1541.000000                      NaN    NaN    NaN           NaN   \n",
       "max      2000.000000                      NaN    NaN    NaN           NaN   \n",
       "\n",
       "          top_critic        publisher             date  \n",
       "count   54432.000000            54123            54432  \n",
       "unique           NaN             1281             5963  \n",
       "top              NaN  eFilmCritic.com  January 1, 2000  \n",
       "freq             NaN              673             4303  \n",
       "mean        0.240594              NaN              NaN  \n",
       "std         0.427448              NaN              NaN  \n",
       "min         0.000000              NaN              NaN  \n",
       "25%         0.000000              NaN              NaN  \n",
       "50%         0.000000              NaN              NaN  \n",
       "75%         0.000000              NaN              NaN  \n",
       "max         1.000000              NaN              NaN  "
      ]
     },
     "execution_count": 73,
     "metadata": {},
     "output_type": "execute_result"
    }
   ],
   "source": [
    "# Other than the .info() function, .describe() function also gives a summary of the dataset.\n",
    "# This function gives us the statistical summary of the data.\n",
    "\n",
    "rt_reviews.describe(include= 'all')"
   ]
  },
  {
   "cell_type": "code",
   "execution_count": 74,
   "id": "9aef6ce2",
   "metadata": {},
   "outputs": [
    {
     "data": {
      "text/plain": [
       "rating       13517\n",
       "review        5563\n",
       "critic        2722\n",
       "publisher      309\n",
       "dtype: int64"
      ]
     },
     "execution_count": 74,
     "metadata": {},
     "output_type": "execute_result"
    }
   ],
   "source": [
    "#The info() function gives us a summary of the data, but to check missing values closely, we are using .isnull() function to look at the count of missing vakues in each column.\n",
    "# This code checks for null values in each column and sums them up. It then filters out columns with no missing values and returns those with null values.\n",
    "\n",
    "missing = rt_reviews.isnull().sum()\n",
    "missing[missing > 0].sort_values(ascending=False)"
   ]
  },
  {
   "cell_type": "code",
   "execution_count": 75,
   "id": "a30fc66d",
   "metadata": {},
   "outputs": [
    {
     "data": {
      "text/plain": [
       "9"
      ]
     },
     "execution_count": 75,
     "metadata": {},
     "output_type": "execute_result"
    }
   ],
   "source": [
    "# This code counts the amount of duplicated records exist in the table.\n",
    "# We are using the .dupiicated() function to identify the duplicated records and the .sum() function to count them.\n",
    "\n",
    "duplicates = rt_reviews.duplicated().sum()\n",
    "duplicates"
   ]
  },
  {
   "cell_type": "markdown",
   "id": "c5192d91",
   "metadata": {},
   "source": [
    "### Data summary\n",
    "* The dataset contains structured data stored in a TSV (tab-separated values) file containing both non-categorical and categorical data. \n",
    "\n",
    "* The dataset contains data in 54432 rows and 8 columns namely, 'id', 'review', 'rating', 'fresh', 'critic', 'top_critic', 'publisher', and 'date'. All the columns are well labeled and easy to interpret.\n",
    "\n",
    "* Out of the 8 columns, only 4 contain null values ranging from as low as 300 to 13,517 null values. The dataset also contains 9 duplicated rows.\n",
    "\n",
    "* The dataset contains mostly object datatypes, hence there is no quantitative analysis needed.\n",
    "\n",
    "### Data Quality Issues\n",
    "- Incompleteness - 4 columns contain missing values. Missing values in data can lead to inaccuracies and misleading results, which subsequently leads to inaccurate insights.\n",
    "\n",
    "- Duplicate records - The dataset contains 9 duplicated records, which could skew the results as certain records provide the same information twice.\n",
    "\n",
    "### Next steps\n",
    "The data is mostly clean and has a lot of information to offer, however, a few columns need some cleaning. The cleaning involves;\n",
    "\n",
    "* Handle missing and duplicated records."
   ]
  },
  {
   "cell_type": "markdown",
   "id": "88124d36",
   "metadata": {},
   "source": [
    "## rt.movies_info.tsv\n",
    "### Data source\n",
    "The `rt.movie_info.tsv` data is extracted from Rotten Tomatoes website and contains information about movies and television series including their genres, ratings, synopsis as well as the movie's director, writer, release date and run-time.\n",
    "\n",
    "### Why is the data suitable for the project?\n",
    "* This data allows us to analyze the impact of writers and directors on previous films' success providing valuable information for casting decisions. Additionally, real-time review data can track a film's performance after its release, allowing studios to adapt marketing strategies and address potential issues. \n",
    "\n",
    "* Comparing a film's performance against similar titles in terms of review scores and box office success allows studios to identify areas for improvement and best practices.\n"
   ]
  },
  {
   "cell_type": "code",
   "execution_count": 76,
   "id": "48db3655",
   "metadata": {},
   "outputs": [
    {
     "data": {
      "text/html": [
       "<div>\n",
       "<style scoped>\n",
       "    .dataframe tbody tr th:only-of-type {\n",
       "        vertical-align: middle;\n",
       "    }\n",
       "\n",
       "    .dataframe tbody tr th {\n",
       "        vertical-align: top;\n",
       "    }\n",
       "\n",
       "    .dataframe thead th {\n",
       "        text-align: right;\n",
       "    }\n",
       "</style>\n",
       "<table border=\"1\" class=\"dataframe\">\n",
       "  <thead>\n",
       "    <tr style=\"text-align: right;\">\n",
       "      <th></th>\n",
       "      <th>id</th>\n",
       "      <th>synopsis</th>\n",
       "      <th>rating</th>\n",
       "      <th>genre</th>\n",
       "      <th>director</th>\n",
       "      <th>writer</th>\n",
       "      <th>theater_date</th>\n",
       "      <th>dvd_date</th>\n",
       "      <th>currency</th>\n",
       "      <th>box_office</th>\n",
       "      <th>runtime</th>\n",
       "      <th>studio</th>\n",
       "    </tr>\n",
       "  </thead>\n",
       "  <tbody>\n",
       "    <tr>\n",
       "      <th>0</th>\n",
       "      <td>1</td>\n",
       "      <td>This gritty, fast-paced, and innovative police...</td>\n",
       "      <td>R</td>\n",
       "      <td>Action and Adventure|Classics|Drama</td>\n",
       "      <td>William Friedkin</td>\n",
       "      <td>Ernest Tidyman</td>\n",
       "      <td>Oct 9, 1971</td>\n",
       "      <td>Sep 25, 2001</td>\n",
       "      <td>NaN</td>\n",
       "      <td>NaN</td>\n",
       "      <td>104 minutes</td>\n",
       "      <td>NaN</td>\n",
       "    </tr>\n",
       "    <tr>\n",
       "      <th>1</th>\n",
       "      <td>3</td>\n",
       "      <td>New York City, not-too-distant-future: Eric Pa...</td>\n",
       "      <td>R</td>\n",
       "      <td>Drama|Science Fiction and Fantasy</td>\n",
       "      <td>David Cronenberg</td>\n",
       "      <td>David Cronenberg|Don DeLillo</td>\n",
       "      <td>Aug 17, 2012</td>\n",
       "      <td>Jan 1, 2013</td>\n",
       "      <td>$</td>\n",
       "      <td>600,000</td>\n",
       "      <td>108 minutes</td>\n",
       "      <td>Entertainment One</td>\n",
       "    </tr>\n",
       "    <tr>\n",
       "      <th>2</th>\n",
       "      <td>5</td>\n",
       "      <td>Illeana Douglas delivers a superb performance ...</td>\n",
       "      <td>R</td>\n",
       "      <td>Drama|Musical and Performing Arts</td>\n",
       "      <td>Allison Anders</td>\n",
       "      <td>Allison Anders</td>\n",
       "      <td>Sep 13, 1996</td>\n",
       "      <td>Apr 18, 2000</td>\n",
       "      <td>NaN</td>\n",
       "      <td>NaN</td>\n",
       "      <td>116 minutes</td>\n",
       "      <td>NaN</td>\n",
       "    </tr>\n",
       "    <tr>\n",
       "      <th>3</th>\n",
       "      <td>6</td>\n",
       "      <td>Michael Douglas runs afoul of a treacherous su...</td>\n",
       "      <td>R</td>\n",
       "      <td>Drama|Mystery and Suspense</td>\n",
       "      <td>Barry Levinson</td>\n",
       "      <td>Paul Attanasio|Michael Crichton</td>\n",
       "      <td>Dec 9, 1994</td>\n",
       "      <td>Aug 27, 1997</td>\n",
       "      <td>NaN</td>\n",
       "      <td>NaN</td>\n",
       "      <td>128 minutes</td>\n",
       "      <td>NaN</td>\n",
       "    </tr>\n",
       "    <tr>\n",
       "      <th>4</th>\n",
       "      <td>7</td>\n",
       "      <td>NaN</td>\n",
       "      <td>NR</td>\n",
       "      <td>Drama|Romance</td>\n",
       "      <td>Rodney Bennett</td>\n",
       "      <td>Giles Cooper</td>\n",
       "      <td>NaN</td>\n",
       "      <td>NaN</td>\n",
       "      <td>NaN</td>\n",
       "      <td>NaN</td>\n",
       "      <td>200 minutes</td>\n",
       "      <td>NaN</td>\n",
       "    </tr>\n",
       "  </tbody>\n",
       "</table>\n",
       "</div>"
      ],
      "text/plain": [
       "   id                                           synopsis rating  \\\n",
       "0   1  This gritty, fast-paced, and innovative police...      R   \n",
       "1   3  New York City, not-too-distant-future: Eric Pa...      R   \n",
       "2   5  Illeana Douglas delivers a superb performance ...      R   \n",
       "3   6  Michael Douglas runs afoul of a treacherous su...      R   \n",
       "4   7                                                NaN     NR   \n",
       "\n",
       "                                 genre          director  \\\n",
       "0  Action and Adventure|Classics|Drama  William Friedkin   \n",
       "1    Drama|Science Fiction and Fantasy  David Cronenberg   \n",
       "2    Drama|Musical and Performing Arts    Allison Anders   \n",
       "3           Drama|Mystery and Suspense    Barry Levinson   \n",
       "4                        Drama|Romance    Rodney Bennett   \n",
       "\n",
       "                            writer  theater_date      dvd_date currency  \\\n",
       "0                   Ernest Tidyman   Oct 9, 1971  Sep 25, 2001      NaN   \n",
       "1     David Cronenberg|Don DeLillo  Aug 17, 2012   Jan 1, 2013        $   \n",
       "2                   Allison Anders  Sep 13, 1996  Apr 18, 2000      NaN   \n",
       "3  Paul Attanasio|Michael Crichton   Dec 9, 1994  Aug 27, 1997      NaN   \n",
       "4                     Giles Cooper           NaN           NaN      NaN   \n",
       "\n",
       "  box_office      runtime             studio  \n",
       "0        NaN  104 minutes                NaN  \n",
       "1    600,000  108 minutes  Entertainment One  \n",
       "2        NaN  116 minutes                NaN  \n",
       "3        NaN  128 minutes                NaN  \n",
       "4        NaN  200 minutes                NaN  "
      ]
     },
     "execution_count": 76,
     "metadata": {},
     "output_type": "execute_result"
    }
   ],
   "source": [
    "# We are reading the data into the 'rt_movies, variable using the .read_csv() pandas function to be able to access the data in form of a dataframe\n",
    "\n",
    "rt_movies = pd.read_csv(\"Data/rt.movie_info.tsv.gz\", compression= 'gzip', delimiter= '\\t', encoding= 'latin-1', index_col= False)\n",
    "rt_movies.head()"
   ]
  },
  {
   "cell_type": "code",
   "execution_count": 77,
   "id": "e4aa5bca",
   "metadata": {},
   "outputs": [
    {
     "name": "stdout",
     "output_type": "stream",
     "text": [
      "The data has a (1560, 12) structure.\n",
      "`rt_reviews` has 8 columns namely: Index(['id', 'synopsis', 'rating', 'genre', 'director', 'writer',\n",
      "       'theater_date', 'dvd_date', 'currency', 'box_office', 'runtime',\n",
      "       'studio'],\n",
      "      dtype='object')\n"
     ]
    }
   ],
   "source": [
    "# This code will print out the shape and the data's columns.\n",
    "\n",
    "print(f'The data has a {rt_movies.shape} structure.')\n",
    "print('`rt_reviews` has 8 columns namely:', rt_movies.columns)"
   ]
  },
  {
   "cell_type": "code",
   "execution_count": 78,
   "id": "f3cabc44",
   "metadata": {},
   "outputs": [
    {
     "name": "stdout",
     "output_type": "stream",
     "text": [
      "<class 'pandas.core.frame.DataFrame'>\n",
      "RangeIndex: 1560 entries, 0 to 1559\n",
      "Data columns (total 12 columns):\n",
      " #   Column        Non-Null Count  Dtype \n",
      "---  ------        --------------  ----- \n",
      " 0   id            1560 non-null   int64 \n",
      " 1   synopsis      1498 non-null   object\n",
      " 2   rating        1557 non-null   object\n",
      " 3   genre         1552 non-null   object\n",
      " 4   director      1361 non-null   object\n",
      " 5   writer        1111 non-null   object\n",
      " 6   theater_date  1201 non-null   object\n",
      " 7   dvd_date      1201 non-null   object\n",
      " 8   currency      340 non-null    object\n",
      " 9   box_office    340 non-null    object\n",
      " 10  runtime       1530 non-null   object\n",
      " 11  studio        494 non-null    object\n",
      "dtypes: int64(1), object(11)\n",
      "memory usage: 146.4+ KB\n"
     ]
    }
   ],
   "source": [
    "# We will be using the .info() function to explore the data further.\n",
    "# this function will show us the columns' datatypes, count of non null values, allowing us to identify columns with null values.\n",
    "\n",
    "rt_movies.info()"
   ]
  },
  {
   "cell_type": "code",
   "execution_count": 79,
   "id": "1e668df4",
   "metadata": {},
   "outputs": [
    {
     "data": {
      "text/html": [
       "<div>\n",
       "<style scoped>\n",
       "    .dataframe tbody tr th:only-of-type {\n",
       "        vertical-align: middle;\n",
       "    }\n",
       "\n",
       "    .dataframe tbody tr th {\n",
       "        vertical-align: top;\n",
       "    }\n",
       "\n",
       "    .dataframe thead th {\n",
       "        text-align: right;\n",
       "    }\n",
       "</style>\n",
       "<table border=\"1\" class=\"dataframe\">\n",
       "  <thead>\n",
       "    <tr style=\"text-align: right;\">\n",
       "      <th></th>\n",
       "      <th>id</th>\n",
       "      <th>synopsis</th>\n",
       "      <th>rating</th>\n",
       "      <th>genre</th>\n",
       "      <th>director</th>\n",
       "      <th>writer</th>\n",
       "      <th>theater_date</th>\n",
       "      <th>dvd_date</th>\n",
       "      <th>currency</th>\n",
       "      <th>box_office</th>\n",
       "      <th>runtime</th>\n",
       "      <th>studio</th>\n",
       "    </tr>\n",
       "  </thead>\n",
       "  <tbody>\n",
       "    <tr>\n",
       "      <th>count</th>\n",
       "      <td>1560.000000</td>\n",
       "      <td>1498</td>\n",
       "      <td>1557</td>\n",
       "      <td>1552</td>\n",
       "      <td>1361</td>\n",
       "      <td>1111</td>\n",
       "      <td>1201</td>\n",
       "      <td>1201</td>\n",
       "      <td>340</td>\n",
       "      <td>340</td>\n",
       "      <td>1530</td>\n",
       "      <td>494</td>\n",
       "    </tr>\n",
       "    <tr>\n",
       "      <th>unique</th>\n",
       "      <td>NaN</td>\n",
       "      <td>1497</td>\n",
       "      <td>6</td>\n",
       "      <td>299</td>\n",
       "      <td>1125</td>\n",
       "      <td>1069</td>\n",
       "      <td>1025</td>\n",
       "      <td>717</td>\n",
       "      <td>1</td>\n",
       "      <td>336</td>\n",
       "      <td>142</td>\n",
       "      <td>200</td>\n",
       "    </tr>\n",
       "    <tr>\n",
       "      <th>top</th>\n",
       "      <td>NaN</td>\n",
       "      <td>A group of air crash survivors are stranded in...</td>\n",
       "      <td>R</td>\n",
       "      <td>Drama</td>\n",
       "      <td>Steven Spielberg</td>\n",
       "      <td>Woody Allen</td>\n",
       "      <td>Jan 1, 1987</td>\n",
       "      <td>Jun 1, 2004</td>\n",
       "      <td>$</td>\n",
       "      <td>600,000</td>\n",
       "      <td>90 minutes</td>\n",
       "      <td>Universal Pictures</td>\n",
       "    </tr>\n",
       "    <tr>\n",
       "      <th>freq</th>\n",
       "      <td>NaN</td>\n",
       "      <td>2</td>\n",
       "      <td>521</td>\n",
       "      <td>151</td>\n",
       "      <td>10</td>\n",
       "      <td>4</td>\n",
       "      <td>8</td>\n",
       "      <td>11</td>\n",
       "      <td>340</td>\n",
       "      <td>2</td>\n",
       "      <td>72</td>\n",
       "      <td>35</td>\n",
       "    </tr>\n",
       "    <tr>\n",
       "      <th>mean</th>\n",
       "      <td>1007.303846</td>\n",
       "      <td>NaN</td>\n",
       "      <td>NaN</td>\n",
       "      <td>NaN</td>\n",
       "      <td>NaN</td>\n",
       "      <td>NaN</td>\n",
       "      <td>NaN</td>\n",
       "      <td>NaN</td>\n",
       "      <td>NaN</td>\n",
       "      <td>NaN</td>\n",
       "      <td>NaN</td>\n",
       "      <td>NaN</td>\n",
       "    </tr>\n",
       "    <tr>\n",
       "      <th>std</th>\n",
       "      <td>579.164527</td>\n",
       "      <td>NaN</td>\n",
       "      <td>NaN</td>\n",
       "      <td>NaN</td>\n",
       "      <td>NaN</td>\n",
       "      <td>NaN</td>\n",
       "      <td>NaN</td>\n",
       "      <td>NaN</td>\n",
       "      <td>NaN</td>\n",
       "      <td>NaN</td>\n",
       "      <td>NaN</td>\n",
       "      <td>NaN</td>\n",
       "    </tr>\n",
       "    <tr>\n",
       "      <th>min</th>\n",
       "      <td>1.000000</td>\n",
       "      <td>NaN</td>\n",
       "      <td>NaN</td>\n",
       "      <td>NaN</td>\n",
       "      <td>NaN</td>\n",
       "      <td>NaN</td>\n",
       "      <td>NaN</td>\n",
       "      <td>NaN</td>\n",
       "      <td>NaN</td>\n",
       "      <td>NaN</td>\n",
       "      <td>NaN</td>\n",
       "      <td>NaN</td>\n",
       "    </tr>\n",
       "    <tr>\n",
       "      <th>25%</th>\n",
       "      <td>504.750000</td>\n",
       "      <td>NaN</td>\n",
       "      <td>NaN</td>\n",
       "      <td>NaN</td>\n",
       "      <td>NaN</td>\n",
       "      <td>NaN</td>\n",
       "      <td>NaN</td>\n",
       "      <td>NaN</td>\n",
       "      <td>NaN</td>\n",
       "      <td>NaN</td>\n",
       "      <td>NaN</td>\n",
       "      <td>NaN</td>\n",
       "    </tr>\n",
       "    <tr>\n",
       "      <th>50%</th>\n",
       "      <td>1007.500000</td>\n",
       "      <td>NaN</td>\n",
       "      <td>NaN</td>\n",
       "      <td>NaN</td>\n",
       "      <td>NaN</td>\n",
       "      <td>NaN</td>\n",
       "      <td>NaN</td>\n",
       "      <td>NaN</td>\n",
       "      <td>NaN</td>\n",
       "      <td>NaN</td>\n",
       "      <td>NaN</td>\n",
       "      <td>NaN</td>\n",
       "    </tr>\n",
       "    <tr>\n",
       "      <th>75%</th>\n",
       "      <td>1503.250000</td>\n",
       "      <td>NaN</td>\n",
       "      <td>NaN</td>\n",
       "      <td>NaN</td>\n",
       "      <td>NaN</td>\n",
       "      <td>NaN</td>\n",
       "      <td>NaN</td>\n",
       "      <td>NaN</td>\n",
       "      <td>NaN</td>\n",
       "      <td>NaN</td>\n",
       "      <td>NaN</td>\n",
       "      <td>NaN</td>\n",
       "    </tr>\n",
       "    <tr>\n",
       "      <th>max</th>\n",
       "      <td>2000.000000</td>\n",
       "      <td>NaN</td>\n",
       "      <td>NaN</td>\n",
       "      <td>NaN</td>\n",
       "      <td>NaN</td>\n",
       "      <td>NaN</td>\n",
       "      <td>NaN</td>\n",
       "      <td>NaN</td>\n",
       "      <td>NaN</td>\n",
       "      <td>NaN</td>\n",
       "      <td>NaN</td>\n",
       "      <td>NaN</td>\n",
       "    </tr>\n",
       "  </tbody>\n",
       "</table>\n",
       "</div>"
      ],
      "text/plain": [
       "                 id                                           synopsis rating  \\\n",
       "count   1560.000000                                               1498   1557   \n",
       "unique          NaN                                               1497      6   \n",
       "top             NaN  A group of air crash survivors are stranded in...      R   \n",
       "freq            NaN                                                  2    521   \n",
       "mean    1007.303846                                                NaN    NaN   \n",
       "std      579.164527                                                NaN    NaN   \n",
       "min        1.000000                                                NaN    NaN   \n",
       "25%      504.750000                                                NaN    NaN   \n",
       "50%     1007.500000                                                NaN    NaN   \n",
       "75%     1503.250000                                                NaN    NaN   \n",
       "max     2000.000000                                                NaN    NaN   \n",
       "\n",
       "        genre          director       writer theater_date     dvd_date  \\\n",
       "count    1552              1361         1111         1201         1201   \n",
       "unique    299              1125         1069         1025          717   \n",
       "top     Drama  Steven Spielberg  Woody Allen  Jan 1, 1987  Jun 1, 2004   \n",
       "freq      151                10            4            8           11   \n",
       "mean      NaN               NaN          NaN          NaN          NaN   \n",
       "std       NaN               NaN          NaN          NaN          NaN   \n",
       "min       NaN               NaN          NaN          NaN          NaN   \n",
       "25%       NaN               NaN          NaN          NaN          NaN   \n",
       "50%       NaN               NaN          NaN          NaN          NaN   \n",
       "75%       NaN               NaN          NaN          NaN          NaN   \n",
       "max       NaN               NaN          NaN          NaN          NaN   \n",
       "\n",
       "       currency box_office     runtime              studio  \n",
       "count       340        340        1530                 494  \n",
       "unique        1        336         142                 200  \n",
       "top           $    600,000  90 minutes  Universal Pictures  \n",
       "freq        340          2          72                  35  \n",
       "mean        NaN        NaN         NaN                 NaN  \n",
       "std         NaN        NaN         NaN                 NaN  \n",
       "min         NaN        NaN         NaN                 NaN  \n",
       "25%         NaN        NaN         NaN                 NaN  \n",
       "50%         NaN        NaN         NaN                 NaN  \n",
       "75%         NaN        NaN         NaN                 NaN  \n",
       "max         NaN        NaN         NaN                 NaN  "
      ]
     },
     "execution_count": 79,
     "metadata": {},
     "output_type": "execute_result"
    }
   ],
   "source": [
    "# Other than the .info() function, .describe() function also gives a summary of the dataset.\n",
    "# This function gives us the statistical summary of the data.\n",
    "\n",
    "rt_movies.describe(include= 'all')"
   ]
  },
  {
   "cell_type": "code",
   "execution_count": 80,
   "id": "971e66db",
   "metadata": {},
   "outputs": [
    {
     "data": {
      "text/plain": [
       "box_office      1220\n",
       "currency        1220\n",
       "studio          1066\n",
       "writer           449\n",
       "dvd_date         359\n",
       "theater_date     359\n",
       "director         199\n",
       "synopsis          62\n",
       "runtime           30\n",
       "genre              8\n",
       "rating             3\n",
       "dtype: int64"
      ]
     },
     "execution_count": 80,
     "metadata": {},
     "output_type": "execute_result"
    }
   ],
   "source": [
    "#The info() function gives us a summary of the data, but to check missing values closely, we are using .isnull() function to look at the count of missing vakues in each column.\n",
    "# This code checks for null values in each column and sums them up. It then filters out columns with no missing values and returns those with null values.\n",
    "\n",
    "missing = rt_movies.isnull().sum()\n",
    "missing[missing > 0].sort_values(ascending=False)"
   ]
  },
  {
   "cell_type": "code",
   "execution_count": 81,
   "id": "b5a5ab1a",
   "metadata": {},
   "outputs": [
    {
     "data": {
      "text/plain": [
       "0"
      ]
     },
     "execution_count": 81,
     "metadata": {},
     "output_type": "execute_result"
    }
   ],
   "source": [
    "# This code counts the amount of duplicated records exist in the table.\n",
    "# We are using the .dupiicated() function to identify the duplicated records and the .sum() function to count them.\n",
    "\n",
    "duplicates = rt_movies.duplicated().sum()\n",
    "duplicates"
   ]
  },
  {
   "cell_type": "markdown",
   "id": "cfce720e",
   "metadata": {},
   "source": [
    "### Data summary\n",
    "*  The dataset contains structured data stored in a TSV file containing both numerical and categorical data.\n",
    "\n",
    "* The dataset contains data in 1560 rows and 12 columns namely, 'id', 'synopsis', 'rating', 'genre', 'director', 'writer', 'theater_date', 'dvd_date', 'currency', 'box_office', 'runtime' and 'studio'. All the columns are well labeled and easy to interpret.\n",
    "\n",
    "* Out of the 12 columns, 11 contain null values ranging from as low as 3 to 1220 null values. The dataset also contains 0 duplicated rows.\n",
    "\n",
    "* The dataset contains object datatypes, hence there is no quantitative analysis needed.\n",
    "\n",
    "### Data Quality Issues\n",
    "- Incompleteness - 11 columns contain missing values. Missing values in data can lead to inaccuracies and misleading results, which subsequently leads to inaccurate insights.\n",
    "\n",
    "- Inaccuracy - Several columns are in the wrong data types, hence resulting in inaccurate data. inaccurate information can cause significant problems with severe consequences. \n",
    "\n",
    "### Next steps\n",
    "The data is mostly clean and has a lot of information to offer, however, a few columns need some cleaning. The cleaning involves;\n",
    "\n",
    "* Handle missing.\n",
    "\n",
    "* Data type conversion."
   ]
  },
  {
   "cell_type": "markdown",
   "id": "4b5f6578",
   "metadata": {},
   "source": [
    "## tmdb.movies.csv\n",
    "### Data source\n",
    "The `tmdb.movies.csv` data is extracted from TheMovieDB, a community built movie and TV database. It contains information on the popularity, genres and movie ratings.\n",
    "\n",
    "### Why the data is suitable for the project\n",
    "* This dataset is suitable for the project because it allows analysis of past movie performance data, including audience ratings, and box office numbers, to create models that predict the potential success of upcoming films. Also, community reviews and ratings reveal audience tastes and preferences, which can help studios tailor their content to appeal to specific demographics and genres. \n",
    "\n",
    "* By understanding audience preferences and geographical trends, studios can tailor their distribution strategies, including release dates, theater selection, and marketing efforts. It facilitates collaboration between stakeholders by providing a shared platform for accessing information and discussing potential projects. \n",
    "\n",
    "* The database provides a wealth of data for market research, allowing studios to understand trends, competitor activities, and potential opportunities."
   ]
  },
  {
   "cell_type": "code",
   "execution_count": 82,
   "id": "d2ad9184",
   "metadata": {},
   "outputs": [
    {
     "data": {
      "text/html": [
       "<div>\n",
       "<style scoped>\n",
       "    .dataframe tbody tr th:only-of-type {\n",
       "        vertical-align: middle;\n",
       "    }\n",
       "\n",
       "    .dataframe tbody tr th {\n",
       "        vertical-align: top;\n",
       "    }\n",
       "\n",
       "    .dataframe thead th {\n",
       "        text-align: right;\n",
       "    }\n",
       "</style>\n",
       "<table border=\"1\" class=\"dataframe\">\n",
       "  <thead>\n",
       "    <tr style=\"text-align: right;\">\n",
       "      <th></th>\n",
       "      <th>,genre_ids,id,original_language,original_title,popularity,release_date,title,vote_average,vote_count</th>\n",
       "    </tr>\n",
       "  </thead>\n",
       "  <tbody>\n",
       "    <tr>\n",
       "      <th>0</th>\n",
       "      <td>0,\"[12, 14, 10751]\",12444,en,Harry Potter and ...</td>\n",
       "    </tr>\n",
       "    <tr>\n",
       "      <th>1</th>\n",
       "      <td>1,\"[14, 12, 16, 10751]\",10191,en,How to Train ...</td>\n",
       "    </tr>\n",
       "    <tr>\n",
       "      <th>2</th>\n",
       "      <td>2,\"[12, 28, 878]\",10138,en,Iron Man 2,28.515,2...</td>\n",
       "    </tr>\n",
       "    <tr>\n",
       "      <th>3</th>\n",
       "      <td>3,\"[16, 35, 10751]\",862,en,Toy Story,28.005,19...</td>\n",
       "    </tr>\n",
       "    <tr>\n",
       "      <th>4</th>\n",
       "      <td>4,\"[28, 878, 12]\",27205,en,Inception,27.92,201...</td>\n",
       "    </tr>\n",
       "  </tbody>\n",
       "</table>\n",
       "</div>"
      ],
      "text/plain": [
       "  ,genre_ids,id,original_language,original_title,popularity,release_date,title,vote_average,vote_count\n",
       "0  0,\"[12, 14, 10751]\",12444,en,Harry Potter and ...                                                  \n",
       "1  1,\"[14, 12, 16, 10751]\",10191,en,How to Train ...                                                  \n",
       "2  2,\"[12, 28, 878]\",10138,en,Iron Man 2,28.515,2...                                                  \n",
       "3  3,\"[16, 35, 10751]\",862,en,Toy Story,28.005,19...                                                  \n",
       "4  4,\"[28, 878, 12]\",27205,en,Inception,27.92,201...                                                  "
      ]
     },
     "execution_count": 82,
     "metadata": {},
     "output_type": "execute_result"
    }
   ],
   "source": [
    "# We are reading the data into the 'tmdb_movies' variable using the .read_csv() pandas function to be able to access the data in form of a dataframe\n",
    "\n",
    "tmdb_movies = pd.read_csv(\"Data/tmdb.movies.csv.gz\", compression= 'gzip', delimiter= '\\t', encoding= 'latin-1', index_col= False)\n",
    "tmdb_movies.head()"
   ]
  },
  {
   "cell_type": "code",
   "execution_count": 83,
   "id": "a2f5e41a",
   "metadata": {},
   "outputs": [
    {
     "name": "stdout",
     "output_type": "stream",
     "text": [
      "The data has a (26517, 1) structure.\n",
      "`rt_reviews` has 8 columns namely: Index([',genre_ids,id,original_language,original_title,popularity,release_date,title,vote_average,vote_count'], dtype='object')\n"
     ]
    }
   ],
   "source": [
    "# This code will print out the shape and the data's columns.\n",
    "\n",
    "print(f'The data has a {tmdb_movies.shape} structure.')\n",
    "print('`rt_reviews` has 8 columns namely:', tmdb_movies.columns)"
   ]
  },
  {
   "cell_type": "code",
   "execution_count": 84,
   "id": "fc60e14b",
   "metadata": {},
   "outputs": [
    {
     "name": "stdout",
     "output_type": "stream",
     "text": [
      "<class 'pandas.core.frame.DataFrame'>\n",
      "RangeIndex: 26517 entries, 0 to 26516\n",
      "Data columns (total 1 columns):\n",
      " #   Column                                                                                                Non-Null Count  Dtype \n",
      "---  ------                                                                                                --------------  ----- \n",
      " 0   ,genre_ids,id,original_language,original_title,popularity,release_date,title,vote_average,vote_count  26517 non-null  object\n",
      "dtypes: object(1)\n",
      "memory usage: 207.3+ KB\n"
     ]
    }
   ],
   "source": [
    "# We will be using the .info() function to explore the data further.\n",
    "# this function will show us the columns' datatypes, count of non null values, allowing us to identify columns with null values.\n",
    "\n",
    "tmdb_movies.info()"
   ]
  },
  {
   "cell_type": "code",
   "execution_count": 85,
   "id": "ad44a510",
   "metadata": {},
   "outputs": [
    {
     "data": {
      "text/html": [
       "<div>\n",
       "<style scoped>\n",
       "    .dataframe tbody tr th:only-of-type {\n",
       "        vertical-align: middle;\n",
       "    }\n",
       "\n",
       "    .dataframe tbody tr th {\n",
       "        vertical-align: top;\n",
       "    }\n",
       "\n",
       "    .dataframe thead th {\n",
       "        text-align: right;\n",
       "    }\n",
       "</style>\n",
       "<table border=\"1\" class=\"dataframe\">\n",
       "  <thead>\n",
       "    <tr style=\"text-align: right;\">\n",
       "      <th></th>\n",
       "      <th>,genre_ids,id,original_language,original_title,popularity,release_date,title,vote_average,vote_count</th>\n",
       "    </tr>\n",
       "  </thead>\n",
       "  <tbody>\n",
       "    <tr>\n",
       "      <th>count</th>\n",
       "      <td>26517</td>\n",
       "    </tr>\n",
       "    <tr>\n",
       "      <th>unique</th>\n",
       "      <td>26517</td>\n",
       "    </tr>\n",
       "    <tr>\n",
       "      <th>top</th>\n",
       "      <td>18171,[27],404961,en,Ghosthunters,3.69,2016-07...</td>\n",
       "    </tr>\n",
       "    <tr>\n",
       "      <th>freq</th>\n",
       "      <td>1</td>\n",
       "    </tr>\n",
       "  </tbody>\n",
       "</table>\n",
       "</div>"
      ],
      "text/plain": [
       "       ,genre_ids,id,original_language,original_title,popularity,release_date,title,vote_average,vote_count\n",
       "count                                               26517                                                  \n",
       "unique                                              26517                                                  \n",
       "top     18171,[27],404961,en,Ghosthunters,3.69,2016-07...                                                  \n",
       "freq                                                    1                                                  "
      ]
     },
     "execution_count": 85,
     "metadata": {},
     "output_type": "execute_result"
    }
   ],
   "source": [
    "# Other than the .info() function, .describe() function also gives a summary of the dataset.\n",
    "# This function gives us the statistical summary of the data.\n",
    "\n",
    "tmdb_movies.describe(include= 'all')"
   ]
  },
  {
   "cell_type": "code",
   "execution_count": 86,
   "id": "a1cff748",
   "metadata": {},
   "outputs": [
    {
     "data": {
      "text/plain": [
       "Series([], dtype: int64)"
      ]
     },
     "execution_count": 86,
     "metadata": {},
     "output_type": "execute_result"
    }
   ],
   "source": [
    "#The info() function gives us a summary of the data, but to check missing values closely, we are using .isnull() function to look at the count of missing vakues in each column.\n",
    "# This code checks for null values in each column and sums them up. It then filters out columns with no missing values and returns those with null values.\n",
    "\n",
    "missing = tmdb_movies.isnull().sum()\n",
    "missing[missing > 0].sort_values(ascending=False)"
   ]
  },
  {
   "cell_type": "code",
   "execution_count": 87,
   "id": "7277076f",
   "metadata": {},
   "outputs": [
    {
     "data": {
      "text/plain": [
       "0"
      ]
     },
     "execution_count": 87,
     "metadata": {},
     "output_type": "execute_result"
    }
   ],
   "source": [
    "# This code counts the amount of duplicated records exist in the table.\n",
    "# We are using the .dupiicated() function to identify the duplicated records and the .sum() function to count them.\n",
    "\n",
    "duplicates = tmdb_movies.duplicated().sum()\n",
    "duplicates"
   ]
  },
  {
   "cell_type": "markdown",
   "id": "424b843f",
   "metadata": {},
   "source": [
    "### Data summary\n",
    "* The data is stored in a CSV file containing both non-categorical and categorical data.\n",
    "\n",
    "* The dataset has 26517 rows and 9 columns namely, 'genre_ids', 'id', 'original_language', 'original_title', 'popularity', 'release_date', 'title', 'vote_average', and 'vote_count'.\n",
    "\n",
    "* It has no duplicate records and also no missing records.\n",
    "\n",
    "### Data Quality\n",
    "The dataset is mostly clean, with no apparent issues."
   ]
  },
  {
   "cell_type": "markdown",
   "id": "aaffb009",
   "metadata": {},
   "source": [
    "## tn.movie_budget.csv\n",
    "### Data source\n",
    "The `tn.movie_budgets.csv` dataset is extracted from 'The Numbers' box office revenue tracking website. The data contains the production budget, domestic gross as well as international gross of movies, providing a performance analysis of the movies since their release dates.\n",
    "\n",
    "### Why the data is suitable for the project\n",
    "* Data from a film revenue tracker website is crucial for movie studio stakeholders as it provides insights into a film's financial performance, helping with decision-making and planning throughout the film production process. This data enables better investment decisions, more effective marketing strategies, and improved content planning. \n",
    "\n",
    "* Analyzing past performance data, including box office sales, streaming numbers, and merchandise sales, allows studios to predict the potential profitability of upcoming films. This helps in securing investment and making informed decisions about production budgets and marketing campaigns. \n",
    "\n",
    "* Revenue trackers provide a clear picture of the financial risks and potential rewards associated with different film projects, allowing studios to allocate resources more effectively."
   ]
  },
  {
   "cell_type": "code",
   "execution_count": 88,
   "id": "f097e8a3",
   "metadata": {},
   "outputs": [
    {
     "data": {
      "text/html": [
       "<div>\n",
       "<style scoped>\n",
       "    .dataframe tbody tr th:only-of-type {\n",
       "        vertical-align: middle;\n",
       "    }\n",
       "\n",
       "    .dataframe tbody tr th {\n",
       "        vertical-align: top;\n",
       "    }\n",
       "\n",
       "    .dataframe thead th {\n",
       "        text-align: right;\n",
       "    }\n",
       "</style>\n",
       "<table border=\"1\" class=\"dataframe\">\n",
       "  <thead>\n",
       "    <tr style=\"text-align: right;\">\n",
       "      <th></th>\n",
       "      <th>id,release_date,movie,production_budget,domestic_gross,worldwide_gross</th>\n",
       "    </tr>\n",
       "  </thead>\n",
       "  <tbody>\n",
       "    <tr>\n",
       "      <th>0</th>\n",
       "      <td>1,\"Dec 18, 2009\",Avatar,\"$425,000,000\",\"$760,5...</td>\n",
       "    </tr>\n",
       "    <tr>\n",
       "      <th>1</th>\n",
       "      <td>2,\"May 20, 2011\",Pirates of the Caribbean: On ...</td>\n",
       "    </tr>\n",
       "    <tr>\n",
       "      <th>2</th>\n",
       "      <td>3,\"Jun 7, 2019\",Dark Phoenix,\"$350,000,000\",\"$...</td>\n",
       "    </tr>\n",
       "    <tr>\n",
       "      <th>3</th>\n",
       "      <td>4,\"May 1, 2015\",Avengers: Age of Ultron,\"$330,...</td>\n",
       "    </tr>\n",
       "    <tr>\n",
       "      <th>4</th>\n",
       "      <td>5,\"Dec 15, 2017\",Star Wars Ep. VIII: The Last ...</td>\n",
       "    </tr>\n",
       "  </tbody>\n",
       "</table>\n",
       "</div>"
      ],
      "text/plain": [
       "  id,release_date,movie,production_budget,domestic_gross,worldwide_gross\n",
       "0  1,\"Dec 18, 2009\",Avatar,\"$425,000,000\",\"$760,5...                    \n",
       "1  2,\"May 20, 2011\",Pirates of the Caribbean: On ...                    \n",
       "2  3,\"Jun 7, 2019\",Dark Phoenix,\"$350,000,000\",\"$...                    \n",
       "3  4,\"May 1, 2015\",Avengers: Age of Ultron,\"$330,...                    \n",
       "4  5,\"Dec 15, 2017\",Star Wars Ep. VIII: The Last ...                    "
      ]
     },
     "execution_count": 88,
     "metadata": {},
     "output_type": "execute_result"
    }
   ],
   "source": [
    "# We are reading the data into the 'movie_budgets' variable using the .read_csv() pandas function to be able to access the data in form of a dataframe\n",
    "\n",
    "movie_budgets = pd.read_csv(\"Data/tn.movie_budgets.csv.gz\", compression= 'gzip', delimiter= '\\t', encoding= 'latin-1', index_col= False)\n",
    "movie_budgets.head()"
   ]
  },
  {
   "cell_type": "code",
   "execution_count": 89,
   "id": "a801eb1a",
   "metadata": {},
   "outputs": [
    {
     "name": "stdout",
     "output_type": "stream",
     "text": [
      "The data has a (5782, 1) structure.\n",
      "`rt_reviews` has 8 columns namely: Index(['id,release_date,movie,production_budget,domestic_gross,worldwide_gross'], dtype='object')\n"
     ]
    }
   ],
   "source": [
    "# This code will print out the shape and the data's columns.\n",
    "\n",
    "print(f'The data has a {movie_budgets.shape} structure.')\n",
    "print('`rt_reviews` has 8 columns namely:', movie_budgets.columns)"
   ]
  },
  {
   "cell_type": "code",
   "execution_count": 90,
   "id": "742abdd2",
   "metadata": {},
   "outputs": [
    {
     "name": "stdout",
     "output_type": "stream",
     "text": [
      "<class 'pandas.core.frame.DataFrame'>\n",
      "RangeIndex: 5782 entries, 0 to 5781\n",
      "Data columns (total 1 columns):\n",
      " #   Column                                                                  Non-Null Count  Dtype \n",
      "---  ------                                                                  --------------  ----- \n",
      " 0   id,release_date,movie,production_budget,domestic_gross,worldwide_gross  5782 non-null   object\n",
      "dtypes: object(1)\n",
      "memory usage: 45.3+ KB\n"
     ]
    }
   ],
   "source": [
    "# We will be using the .info() function to explore the data further.\n",
    "# this function will show us the columns' datatypes, count of non null values, allowing us to identify columns with null values.\n",
    "\n",
    "movie_budgets.info()"
   ]
  },
  {
   "cell_type": "code",
   "execution_count": 91,
   "id": "868a2404",
   "metadata": {},
   "outputs": [
    {
     "data": {
      "text/html": [
       "<div>\n",
       "<style scoped>\n",
       "    .dataframe tbody tr th:only-of-type {\n",
       "        vertical-align: middle;\n",
       "    }\n",
       "\n",
       "    .dataframe tbody tr th {\n",
       "        vertical-align: top;\n",
       "    }\n",
       "\n",
       "    .dataframe thead th {\n",
       "        text-align: right;\n",
       "    }\n",
       "</style>\n",
       "<table border=\"1\" class=\"dataframe\">\n",
       "  <thead>\n",
       "    <tr style=\"text-align: right;\">\n",
       "      <th></th>\n",
       "      <th>id,release_date,movie,production_budget,domestic_gross,worldwide_gross</th>\n",
       "    </tr>\n",
       "  </thead>\n",
       "  <tbody>\n",
       "    <tr>\n",
       "      <th>count</th>\n",
       "      <td>5782</td>\n",
       "    </tr>\n",
       "    <tr>\n",
       "      <th>unique</th>\n",
       "      <td>5782</td>\n",
       "    </tr>\n",
       "    <tr>\n",
       "      <th>top</th>\n",
       "      <td>45,\"Nov 15, 2013\",The Christmas Candle,\"$7,000...</td>\n",
       "    </tr>\n",
       "    <tr>\n",
       "      <th>freq</th>\n",
       "      <td>1</td>\n",
       "    </tr>\n",
       "  </tbody>\n",
       "</table>\n",
       "</div>"
      ],
      "text/plain": [
       "       id,release_date,movie,production_budget,domestic_gross,worldwide_gross\n",
       "count                                                5782                    \n",
       "unique                                               5782                    \n",
       "top     45,\"Nov 15, 2013\",The Christmas Candle,\"$7,000...                    \n",
       "freq                                                    1                    "
      ]
     },
     "execution_count": 91,
     "metadata": {},
     "output_type": "execute_result"
    }
   ],
   "source": [
    "# Other than the .info() function, .describe() function also gives a summary of the dataset.\n",
    "# This function gives us the statistical summary of the data.\n",
    "\n",
    "movie_budgets.describe(include= 'all')"
   ]
  },
  {
   "cell_type": "code",
   "execution_count": 92,
   "id": "44534796",
   "metadata": {},
   "outputs": [
    {
     "data": {
      "text/plain": [
       "Series([], dtype: int64)"
      ]
     },
     "execution_count": 92,
     "metadata": {},
     "output_type": "execute_result"
    }
   ],
   "source": [
    "#The info() function gives us a summary of the data, but to check missing values closely, we are using .isnull() function to look at the count of missing vakues in each column.\n",
    "# This code checks for null values in each column and sums them up. It then filters out columns with no missing values and returns those with null values.\n",
    "\n",
    "missing = movie_budgets.isnull().sum()\n",
    "missing[missing > 0].sort_values(ascending=False)"
   ]
  },
  {
   "cell_type": "code",
   "execution_count": 93,
   "id": "048a9b99",
   "metadata": {},
   "outputs": [
    {
     "data": {
      "text/plain": [
       "0"
      ]
     },
     "execution_count": 93,
     "metadata": {},
     "output_type": "execute_result"
    }
   ],
   "source": [
    "# This code counts the amount of duplicated records exist in the table.\n",
    "# We are using the .dupiicated() function to identify the duplicated records and the .sum() function to count them.\n",
    "\n",
    "duplicates = movie_budgets.duplicated().sum()\n",
    "duplicates"
   ]
  },
  {
   "cell_type": "markdown",
   "id": "21e103a9",
   "metadata": {},
   "source": [
    "### Data summary\n",
    "* The dataset contains structured data stored in a CSV file containing numerical data.\n",
    "\n",
    "* The file contains 5782 rows and 6 columns namely, 'id', 'release_date', 'movie', 'production_budget', 'domestic_gross', and 'worldwide_gross' all well labeled and interpretable.\n",
    "\n",
    "* According to the data, the most recent movie is Moonfall which was produced on 2020-12-31, while the oldest movie to be produced is The Birth of a Nation produced on 1915-02-08.\n",
    "\n",
    "* The  movie with the highest production budget is Avatar With a budget allocation of $425,000,000, whereas My Date With Drew had the lowest budget standing at $1100\n",
    "\n",
    "* The movie with the highest domestic income was Star Wars Ep. VII: The Force Awakens with an average amount of $760,507,625. The film with the highest worldwide gross was Avatar with an estimated return of $2,776,345,279.\n",
    "\n",
    "### Data quality issues\n",
    "- Inaccuracies\n",
    "\n",
    "### Next steps\n",
    "As noted from the dataset, columns' datatypes need to be formated as follows: \n",
    "\n",
    " 1. release_date needs to be formated into a date time object \n",
    "\n",
    " 2. production_budget needs to be formated into an int object and the dollar signs and commas removed\n",
    "\n",
    " 3. domestic_gross needs to be formated into an int object and the dollar signs and commas removed\n",
    " \n",
    " 4. worldwide_gross needs to be formated into and int object and the dollar signs and commas removed"
   ]
  },
  {
   "cell_type": "markdown",
   "id": "06411b2a",
   "metadata": {},
   "source": [
    "## bom.movie_gross\n",
    "### Data source\n",
    "The `bom.movie_gross.csv` dataset is sourced from the 'Box Office Mojo' (BOM) reporting and analysis service website. The dataset contains systematic and algorithmic domestic and international box office revenues.\n",
    "\n",
    "### Why the data is suitable for the project\n",
    "* Analyzing gross data can help studios identify areas where they can streamline processes and optimize resource allocation. For example, data on production costs, marketing expenses, and distribution channels can be used to identify opportunities for cost savings and efficiency improvements. \n",
    "\n",
    "* By monitoring the returns on different film projects, studios can track their overall profitability and make adjustments to their production and marketing strategies as needed. \n",
    "\n",
    "* Data from revenue trackers allows studios to compare their performance against that of other films and companies, providing insights into their competitive standing and areas for improvement.\n",
    "\n",
    "* The data empowers stakeholders to make better decisions, reduce risks, and optimize their chances of success in the competitive film industry. \n",
    "\n",
    "* By tracking the performance of different marketing channels and release strategies, studios can optimize their efforts to maximize reach and revenue. "
   ]
  },
  {
   "cell_type": "code",
   "execution_count": 94,
   "id": "6007ca44",
   "metadata": {},
   "outputs": [
    {
     "ename": "FileNotFoundError",
     "evalue": "[Errno 2] No such file or directory: 'bom.movie_gross.csv.gz'",
     "output_type": "error",
     "traceback": [
      "\u001b[1;31m---------------------------------------------------------------------------\u001b[0m",
      "\u001b[1;31mFileNotFoundError\u001b[0m                         Traceback (most recent call last)",
      "\u001b[1;32m<ipython-input-94-49366f500427>\u001b[0m in \u001b[0;36m<module>\u001b[1;34m\u001b[0m\n\u001b[0;32m      1\u001b[0m \u001b[1;31m# We are reading the data into the 'movie_gross' variable using the .read_csv() pandas function to be able to access the data in form of a dataframe\u001b[0m\u001b[1;33m\u001b[0m\u001b[1;33m\u001b[0m\u001b[1;33m\u001b[0m\u001b[0m\n\u001b[0;32m      2\u001b[0m \u001b[1;33m\u001b[0m\u001b[0m\n\u001b[1;32m----> 3\u001b[1;33m \u001b[0mmovie_gross\u001b[0m \u001b[1;33m=\u001b[0m \u001b[0mpd\u001b[0m\u001b[1;33m.\u001b[0m\u001b[0mread_csv\u001b[0m\u001b[1;33m(\u001b[0m\u001b[1;34m\"bom.movie_gross.csv.gz\"\u001b[0m\u001b[1;33m,\u001b[0m \u001b[0mcompression\u001b[0m\u001b[1;33m=\u001b[0m \u001b[1;34m'gzip'\u001b[0m\u001b[1;33m,\u001b[0m \u001b[0mdelimiter\u001b[0m\u001b[1;33m=\u001b[0m \u001b[1;34m','\u001b[0m\u001b[1;33m,\u001b[0m \u001b[0mencoding\u001b[0m\u001b[1;33m=\u001b[0m \u001b[1;34m'latin-1'\u001b[0m\u001b[1;33m,\u001b[0m \u001b[0mindex_col\u001b[0m\u001b[1;33m=\u001b[0m \u001b[1;32mFalse\u001b[0m\u001b[1;33m)\u001b[0m\u001b[1;33m\u001b[0m\u001b[1;33m\u001b[0m\u001b[0m\n\u001b[0m\u001b[0;32m      4\u001b[0m \u001b[0mmovie_gross\u001b[0m\u001b[1;33m.\u001b[0m\u001b[0mhead\u001b[0m\u001b[1;33m(\u001b[0m\u001b[1;33m)\u001b[0m\u001b[1;33m\u001b[0m\u001b[1;33m\u001b[0m\u001b[0m\n",
      "\u001b[1;32mc:\\Users\\PC\\anaconda33\\envs\\learn-env\\lib\\site-packages\\pandas\\io\\parsers.py\u001b[0m in \u001b[0;36mread_csv\u001b[1;34m(filepath_or_buffer, sep, delimiter, header, names, index_col, usecols, squeeze, prefix, mangle_dupe_cols, dtype, engine, converters, true_values, false_values, skipinitialspace, skiprows, skipfooter, nrows, na_values, keep_default_na, na_filter, verbose, skip_blank_lines, parse_dates, infer_datetime_format, keep_date_col, date_parser, dayfirst, cache_dates, iterator, chunksize, compression, thousands, decimal, lineterminator, quotechar, quoting, doublequote, escapechar, comment, encoding, dialect, error_bad_lines, warn_bad_lines, delim_whitespace, low_memory, memory_map, float_precision)\u001b[0m\n\u001b[0;32m    684\u001b[0m     )\n\u001b[0;32m    685\u001b[0m \u001b[1;33m\u001b[0m\u001b[0m\n\u001b[1;32m--> 686\u001b[1;33m     \u001b[1;32mreturn\u001b[0m \u001b[0m_read\u001b[0m\u001b[1;33m(\u001b[0m\u001b[0mfilepath_or_buffer\u001b[0m\u001b[1;33m,\u001b[0m \u001b[0mkwds\u001b[0m\u001b[1;33m)\u001b[0m\u001b[1;33m\u001b[0m\u001b[1;33m\u001b[0m\u001b[0m\n\u001b[0m\u001b[0;32m    687\u001b[0m \u001b[1;33m\u001b[0m\u001b[0m\n\u001b[0;32m    688\u001b[0m \u001b[1;33m\u001b[0m\u001b[0m\n",
      "\u001b[1;32mc:\\Users\\PC\\anaconda33\\envs\\learn-env\\lib\\site-packages\\pandas\\io\\parsers.py\u001b[0m in \u001b[0;36m_read\u001b[1;34m(filepath_or_buffer, kwds)\u001b[0m\n\u001b[0;32m    450\u001b[0m \u001b[1;33m\u001b[0m\u001b[0m\n\u001b[0;32m    451\u001b[0m     \u001b[1;31m# Create the parser.\u001b[0m\u001b[1;33m\u001b[0m\u001b[1;33m\u001b[0m\u001b[1;33m\u001b[0m\u001b[0m\n\u001b[1;32m--> 452\u001b[1;33m     \u001b[0mparser\u001b[0m \u001b[1;33m=\u001b[0m \u001b[0mTextFileReader\u001b[0m\u001b[1;33m(\u001b[0m\u001b[0mfp_or_buf\u001b[0m\u001b[1;33m,\u001b[0m \u001b[1;33m**\u001b[0m\u001b[0mkwds\u001b[0m\u001b[1;33m)\u001b[0m\u001b[1;33m\u001b[0m\u001b[1;33m\u001b[0m\u001b[0m\n\u001b[0m\u001b[0;32m    453\u001b[0m \u001b[1;33m\u001b[0m\u001b[0m\n\u001b[0;32m    454\u001b[0m     \u001b[1;32mif\u001b[0m \u001b[0mchunksize\u001b[0m \u001b[1;32mor\u001b[0m \u001b[0miterator\u001b[0m\u001b[1;33m:\u001b[0m\u001b[1;33m\u001b[0m\u001b[1;33m\u001b[0m\u001b[0m\n",
      "\u001b[1;32mc:\\Users\\PC\\anaconda33\\envs\\learn-env\\lib\\site-packages\\pandas\\io\\parsers.py\u001b[0m in \u001b[0;36m__init__\u001b[1;34m(self, f, engine, **kwds)\u001b[0m\n\u001b[0;32m    944\u001b[0m             \u001b[0mself\u001b[0m\u001b[1;33m.\u001b[0m\u001b[0moptions\u001b[0m\u001b[1;33m[\u001b[0m\u001b[1;34m\"has_index_names\"\u001b[0m\u001b[1;33m]\u001b[0m \u001b[1;33m=\u001b[0m \u001b[0mkwds\u001b[0m\u001b[1;33m[\u001b[0m\u001b[1;34m\"has_index_names\"\u001b[0m\u001b[1;33m]\u001b[0m\u001b[1;33m\u001b[0m\u001b[1;33m\u001b[0m\u001b[0m\n\u001b[0;32m    945\u001b[0m \u001b[1;33m\u001b[0m\u001b[0m\n\u001b[1;32m--> 946\u001b[1;33m         \u001b[0mself\u001b[0m\u001b[1;33m.\u001b[0m\u001b[0m_make_engine\u001b[0m\u001b[1;33m(\u001b[0m\u001b[0mself\u001b[0m\u001b[1;33m.\u001b[0m\u001b[0mengine\u001b[0m\u001b[1;33m)\u001b[0m\u001b[1;33m\u001b[0m\u001b[1;33m\u001b[0m\u001b[0m\n\u001b[0m\u001b[0;32m    947\u001b[0m \u001b[1;33m\u001b[0m\u001b[0m\n\u001b[0;32m    948\u001b[0m     \u001b[1;32mdef\u001b[0m \u001b[0mclose\u001b[0m\u001b[1;33m(\u001b[0m\u001b[0mself\u001b[0m\u001b[1;33m)\u001b[0m\u001b[1;33m:\u001b[0m\u001b[1;33m\u001b[0m\u001b[1;33m\u001b[0m\u001b[0m\n",
      "\u001b[1;32mc:\\Users\\PC\\anaconda33\\envs\\learn-env\\lib\\site-packages\\pandas\\io\\parsers.py\u001b[0m in \u001b[0;36m_make_engine\u001b[1;34m(self, engine)\u001b[0m\n\u001b[0;32m   1176\u001b[0m     \u001b[1;32mdef\u001b[0m \u001b[0m_make_engine\u001b[0m\u001b[1;33m(\u001b[0m\u001b[0mself\u001b[0m\u001b[1;33m,\u001b[0m \u001b[0mengine\u001b[0m\u001b[1;33m=\u001b[0m\u001b[1;34m\"c\"\u001b[0m\u001b[1;33m)\u001b[0m\u001b[1;33m:\u001b[0m\u001b[1;33m\u001b[0m\u001b[1;33m\u001b[0m\u001b[0m\n\u001b[0;32m   1177\u001b[0m         \u001b[1;32mif\u001b[0m \u001b[0mengine\u001b[0m \u001b[1;33m==\u001b[0m \u001b[1;34m\"c\"\u001b[0m\u001b[1;33m:\u001b[0m\u001b[1;33m\u001b[0m\u001b[1;33m\u001b[0m\u001b[0m\n\u001b[1;32m-> 1178\u001b[1;33m             \u001b[0mself\u001b[0m\u001b[1;33m.\u001b[0m\u001b[0m_engine\u001b[0m \u001b[1;33m=\u001b[0m \u001b[0mCParserWrapper\u001b[0m\u001b[1;33m(\u001b[0m\u001b[0mself\u001b[0m\u001b[1;33m.\u001b[0m\u001b[0mf\u001b[0m\u001b[1;33m,\u001b[0m \u001b[1;33m**\u001b[0m\u001b[0mself\u001b[0m\u001b[1;33m.\u001b[0m\u001b[0moptions\u001b[0m\u001b[1;33m)\u001b[0m\u001b[1;33m\u001b[0m\u001b[1;33m\u001b[0m\u001b[0m\n\u001b[0m\u001b[0;32m   1179\u001b[0m         \u001b[1;32melse\u001b[0m\u001b[1;33m:\u001b[0m\u001b[1;33m\u001b[0m\u001b[1;33m\u001b[0m\u001b[0m\n\u001b[0;32m   1180\u001b[0m             \u001b[1;32mif\u001b[0m \u001b[0mengine\u001b[0m \u001b[1;33m==\u001b[0m \u001b[1;34m\"python\"\u001b[0m\u001b[1;33m:\u001b[0m\u001b[1;33m\u001b[0m\u001b[1;33m\u001b[0m\u001b[0m\n",
      "\u001b[1;32mc:\\Users\\PC\\anaconda33\\envs\\learn-env\\lib\\site-packages\\pandas\\io\\parsers.py\u001b[0m in \u001b[0;36m__init__\u001b[1;34m(self, src, **kwds)\u001b[0m\n\u001b[0;32m   2006\u001b[0m         \u001b[0mkwds\u001b[0m\u001b[1;33m[\u001b[0m\u001b[1;34m\"usecols\"\u001b[0m\u001b[1;33m]\u001b[0m \u001b[1;33m=\u001b[0m \u001b[0mself\u001b[0m\u001b[1;33m.\u001b[0m\u001b[0musecols\u001b[0m\u001b[1;33m\u001b[0m\u001b[1;33m\u001b[0m\u001b[0m\n\u001b[0;32m   2007\u001b[0m \u001b[1;33m\u001b[0m\u001b[0m\n\u001b[1;32m-> 2008\u001b[1;33m         \u001b[0mself\u001b[0m\u001b[1;33m.\u001b[0m\u001b[0m_reader\u001b[0m \u001b[1;33m=\u001b[0m \u001b[0mparsers\u001b[0m\u001b[1;33m.\u001b[0m\u001b[0mTextReader\u001b[0m\u001b[1;33m(\u001b[0m\u001b[0msrc\u001b[0m\u001b[1;33m,\u001b[0m \u001b[1;33m**\u001b[0m\u001b[0mkwds\u001b[0m\u001b[1;33m)\u001b[0m\u001b[1;33m\u001b[0m\u001b[1;33m\u001b[0m\u001b[0m\n\u001b[0m\u001b[0;32m   2009\u001b[0m         \u001b[0mself\u001b[0m\u001b[1;33m.\u001b[0m\u001b[0munnamed_cols\u001b[0m \u001b[1;33m=\u001b[0m \u001b[0mself\u001b[0m\u001b[1;33m.\u001b[0m\u001b[0m_reader\u001b[0m\u001b[1;33m.\u001b[0m\u001b[0munnamed_cols\u001b[0m\u001b[1;33m\u001b[0m\u001b[1;33m\u001b[0m\u001b[0m\n\u001b[0;32m   2010\u001b[0m \u001b[1;33m\u001b[0m\u001b[0m\n",
      "\u001b[1;32mpandas\\_libs\\parsers.pyx\u001b[0m in \u001b[0;36mpandas._libs.parsers.TextReader.__cinit__\u001b[1;34m()\u001b[0m\n",
      "\u001b[1;32mpandas\\_libs\\parsers.pyx\u001b[0m in \u001b[0;36mpandas._libs.parsers.TextReader._setup_parser_source\u001b[1;34m()\u001b[0m\n",
      "\u001b[1;32mc:\\Users\\PC\\anaconda33\\envs\\learn-env\\lib\\gzip.py\u001b[0m in \u001b[0;36m__init__\u001b[1;34m(self, filename, mode, compresslevel, fileobj, mtime)\u001b[0m\n\u001b[0;32m    171\u001b[0m             \u001b[0mmode\u001b[0m \u001b[1;33m+=\u001b[0m \u001b[1;34m'b'\u001b[0m\u001b[1;33m\u001b[0m\u001b[1;33m\u001b[0m\u001b[0m\n\u001b[0;32m    172\u001b[0m         \u001b[1;32mif\u001b[0m \u001b[0mfileobj\u001b[0m \u001b[1;32mis\u001b[0m \u001b[1;32mNone\u001b[0m\u001b[1;33m:\u001b[0m\u001b[1;33m\u001b[0m\u001b[1;33m\u001b[0m\u001b[0m\n\u001b[1;32m--> 173\u001b[1;33m             \u001b[0mfileobj\u001b[0m \u001b[1;33m=\u001b[0m \u001b[0mself\u001b[0m\u001b[1;33m.\u001b[0m\u001b[0mmyfileobj\u001b[0m \u001b[1;33m=\u001b[0m \u001b[0mbuiltins\u001b[0m\u001b[1;33m.\u001b[0m\u001b[0mopen\u001b[0m\u001b[1;33m(\u001b[0m\u001b[0mfilename\u001b[0m\u001b[1;33m,\u001b[0m \u001b[0mmode\u001b[0m \u001b[1;32mor\u001b[0m \u001b[1;34m'rb'\u001b[0m\u001b[1;33m)\u001b[0m\u001b[1;33m\u001b[0m\u001b[1;33m\u001b[0m\u001b[0m\n\u001b[0m\u001b[0;32m    174\u001b[0m         \u001b[1;32mif\u001b[0m \u001b[0mfilename\u001b[0m \u001b[1;32mis\u001b[0m \u001b[1;32mNone\u001b[0m\u001b[1;33m:\u001b[0m\u001b[1;33m\u001b[0m\u001b[1;33m\u001b[0m\u001b[0m\n\u001b[0;32m    175\u001b[0m             \u001b[0mfilename\u001b[0m \u001b[1;33m=\u001b[0m \u001b[0mgetattr\u001b[0m\u001b[1;33m(\u001b[0m\u001b[0mfileobj\u001b[0m\u001b[1;33m,\u001b[0m \u001b[1;34m'name'\u001b[0m\u001b[1;33m,\u001b[0m \u001b[1;34m''\u001b[0m\u001b[1;33m)\u001b[0m\u001b[1;33m\u001b[0m\u001b[1;33m\u001b[0m\u001b[0m\n",
      "\u001b[1;31mFileNotFoundError\u001b[0m: [Errno 2] No such file or directory: 'bom.movie_gross.csv.gz'"
     ]
    }
   ],
   "source": [
    "# We are reading the data into the 'movie_gross' variable using the .read_csv() pandas function to be able to access the data in form of a dataframe\n",
    "\n",
    "movie_gross = pd.read_csv(\"bom.movie_gross.csv.gz\", compression= 'gzip', delimiter= ',', encoding= 'latin-1', index_col= False)\n",
    "movie_gross.head()"
   ]
  },
  {
   "cell_type": "code",
   "execution_count": null,
   "id": "4a123fb2",
   "metadata": {},
   "outputs": [],
   "source": [
    "# This code will print out the shape and the data's columns.\n",
    "\n",
    "print(f'The data has a {movie_gross.shape} structure.')\n",
    "print('`rt_reviews` has 8 columns namely:', movie_gross.columns)"
   ]
  },
  {
   "cell_type": "code",
   "execution_count": null,
   "id": "ec268731",
   "metadata": {},
   "outputs": [],
   "source": [
    "# We will be using the .info() function to explore the data further.\n",
    "# this function will show us the columns' datatypes, count of non null values, allowing us to identify columns with null values.\n",
    "\n",
    "movie_gross.info()"
   ]
  },
  {
   "cell_type": "code",
   "execution_count": null,
   "id": "1a66b118",
   "metadata": {},
   "outputs": [],
   "source": [
    "# Other than the .info() function, .describe() function also gives a summary of the dataset.\n",
    "# This function gives us the statistical summary of the data.\n",
    "\n",
    "movie_gross.describe(include= 'all')"
   ]
  },
  {
   "cell_type": "code",
   "execution_count": null,
   "id": "2f8d80bb",
   "metadata": {},
   "outputs": [],
   "source": [
    "#The info() function gives us a summary of the data, but to check missing values closely, we are using .isnull() function to look at the count of missing vakues in each column.\n",
    "# This code checks for null values in each column and sums them up. It then filters out columns with no missing values and returns those with null values.\n",
    "\n",
    "missing = movie_gross.isnull().sum()\n",
    "missing[missing > 0].sort_values(ascending=False)"
   ]
  },
  {
   "cell_type": "code",
   "execution_count": null,
   "metadata": {},
   "outputs": [],
   "source": [
    "# This code counts the amount of duplicated records exist in the table.\n",
    "# We are using the .dupiicated() function to identify the duplicated records and the .sum() function to count them.\n",
    "\n",
    "duplicates = movie_gross.duplicated().sum()\n",
    "duplicates"
   ]
  },
  {
   "cell_type": "markdown",
   "id": "c802f83c",
   "metadata": {},
   "source": [
    "### Data summary\n",
    "* The dataset contains structured data stored in a CSV file containing numerical and non_categorical data.\n",
    "\n",
    "* The file contains 5782 rows and 6 columns namely, 'id', 'release_date', 'movie', 'production_budget', 'domestic_gross', and 'worldwide_gross' all well labeled and interpretable.\n",
    "\n",
    "### Data quality issues\n",
    "\n",
    "### Next steps"
   ]
  },
  {
   "cell_type": "markdown",
   "id": "c60bb3da",
   "metadata": {},
   "source": [
    "## im.db database\n",
    "### Data source\n",
    "The `im.db` data is extracted from the 'Internet Movie Database' (IMDB). The database contains information relating to films, TV series, production crew and their biographies, as well as movie ratings.\n",
    "\n",
    "### Why the data is suitable for the project\n",
    "Data from a film database websites provide valuable insights for movie studio stakeholders, enabling them to make more informed decisions across various aspects of film production and distribution. This data helps with everything from identifying emerging trends and predicting box office success to guiding script development and optimizing marketing campaigns. \n",
    "\n",
    "* Historical data on previous films, including ratings, reviews, and box office performance, can be used to predict the potential success of new releases. Understanding which factors, such as actor popularity, director reputation, and genre trends, positively influence box office results. \n",
    "\n",
    "* Data can provide insights into audience preferences and expectations, which can help inform the development of compelling and engaging scripts. Studios can use data to identify successful narrative structures, character archetypes, and thematic elements that resonate with audiences. \n",
    "\n",
    "* Data can be used to target specific demographics and tailor marketing messages to resonate with different audience segments. Studios can also optimize showtime schedules and distribution strategies based on past performance data and predictions. \n",
    "\n",
    "* Studios can use data to personalize recommendations and create more engaging user experiences on their streaming platforms and websites. This can lead to increased user engagement and satisfaction, ultimately driving revenue\n",
    "\n",
    "*  The database can help studios identify promising actors, directors, and other talent by tracking their past performances and reviews. "
   ]
  },
  {
   "cell_type": "code",
   "execution_count": null,
   "id": "cff547af",
   "metadata": {},
   "outputs": [],
   "source": [
    "# Connecting the database and reading it into the `conn` variable \n",
    "conn = sqlite3.connect('Data/im.db')\n",
    "\n",
    "# In this code we are reading the tables into the table variable to get the lay of the database\n",
    "table = pd.read_sql(\"\"\"SELECT *\n",
    "                      FROM sqlite_master\"\"\", conn)\n",
    "table"
   ]
  },
  {
   "cell_type": "markdown",
   "id": "3c896288",
   "metadata": {},
   "source": [
    "Then we are going to take a peek into the database's ERD, to understand how the tables relate to each other.\n",
    "\n",
    "![movie data erd](https://raw.githubusercontent.com/learn-co-curriculum/dsc-phase-2-project-v3/main/movie_data_erd.jpeg)\n"
   ]
  },
  {
   "cell_type": "code",
   "execution_count": null,
   "id": "f7eced70",
   "metadata": {},
   "outputs": [],
   "source": [
    "# This code queries the database to access the table\n",
    "\n",
    "movie_basics = pd.read_sql(\"\"\"SELECT *\n",
    "                               FROM movie_basics\"\"\", conn)\n",
    "movie_basics"
   ]
  },
  {
   "cell_type": "code",
   "execution_count": null,
   "id": "504b0d6f",
   "metadata": {},
   "outputs": [],
   "source": [
    "#The info() function gives us a summary of the data, but to check missing values closely, we are using .isnull() function to look at the count of missing vakues in each column.\n",
    "# This code checks for null values in each column and sums them up. It then filters out columns with no missing values and returns those with null values.\n",
    "\n",
    "missing = movie_basics.isnull().sum()\n",
    "missing[missing > 0].sort_values(ascending=False)"
   ]
  },
  {
   "cell_type": "code",
   "execution_count": null,
   "id": "9110ceca",
   "metadata": {},
   "outputs": [],
   "source": [
    "# This code counts the amount of duplicated records exist in the table.\n",
    "# We are using the .dupiicated() function to identify the duplicated records and the .sum() function to count them.\n",
    "\n",
    "duplicates = movie_basics.duplicated().sum()\n",
    "duplicates"
   ]
  },
  {
   "cell_type": "code",
   "execution_count": null,
   "id": "be4a1cf4",
   "metadata": {},
   "outputs": [],
   "source": [
    "# This code queries the database to access the table\n",
    "\n",
    "directors = pd.read_sql(\"\"\"SELECT *\n",
    "                           FROM directors\"\"\", conn)\n",
    "directors"
   ]
  },
  {
   "cell_type": "code",
   "execution_count": null,
   "id": "bb7dfcb4",
   "metadata": {},
   "outputs": [],
   "source": [
    "#The info() function gives us a summary of the data, but to check missing values closely, we are using .isnull() function to look at the count of missing vakues in each column.\n",
    "# This code checks for null values in each column and sums them up. It then filters out columns with no missing values and returns those with null values.\n",
    "\n",
    "missing = directors.isnull().sum()\n",
    "missing[missing > 0].sort_values(ascending=False)"
   ]
  },
  {
   "cell_type": "code",
   "execution_count": null,
   "id": "41feb785",
   "metadata": {},
   "outputs": [],
   "source": [
    "# This code counts the amount of duplicated records exist in the table.\n",
    "# We are using the .dupiicated() function to identify the duplicated records and the .sum() function to count them.\n",
    "\n",
    "duplicates = directors.duplicated().sum()\n",
    "duplicates"
   ]
  },
  {
   "cell_type": "code",
   "execution_count": null,
   "id": "0318ca71",
   "metadata": {},
   "outputs": [],
   "source": [
    "# This code queries the database to access the table\n",
    "\n",
    "known_for = pd.read_sql(\"\"\"SELECT *\n",
    "                           FROM known_for\"\"\", conn)\n",
    "known_for"
   ]
  },
  {
   "cell_type": "code",
   "execution_count": null,
   "id": "3db4a886",
   "metadata": {},
   "outputs": [],
   "source": [
    "#The info() function gives us a summary of the data, but to check missing values closely, we are using .isnull() function to look at the count of missing vakues in each column.\n",
    "# This code checks for null values in each column and sums them up. It then filters out columns with no missing values and returns those with null values.\n",
    "\n",
    "missing = known_for.isnull().sum()\n",
    "missing[missing > 0].sort_values(ascending=False)"
   ]
  },
  {
   "cell_type": "code",
   "execution_count": null,
   "id": "4d12cf7e",
   "metadata": {},
   "outputs": [],
   "source": [
    "# This code counts the amount of duplicated records exist in the table.\n",
    "# We are using the .dupiicated() function to identify the duplicated records and the .sum() function to count them.\n",
    "\n",
    "duplicates = known_for.duplicated().sum()\n",
    "duplicates"
   ]
  },
  {
   "cell_type": "code",
   "execution_count": null,
   "id": "f24e214e",
   "metadata": {},
   "outputs": [],
   "source": [
    "# This code queries the database to access the table\n",
    "\n",
    "movie_akas = pd.read_sql(\"\"\"SELECT *\n",
    "                            FROM movie_akas\"\"\", conn)\n",
    "movie_akas"
   ]
  },
  {
   "cell_type": "code",
   "execution_count": null,
   "id": "7b88cbb1",
   "metadata": {},
   "outputs": [],
   "source": [
    "#The info() function gives us a summary of the data, but to check missing values closely, we are using .isnull() function to look at the count of missing vakues in each column.\n",
    "# This code checks for null values in each column and sums them up. It then filters out columns with no missing values and returns those with null values.\n",
    "\n",
    "missing = movie_akas.isnull().sum()\n",
    "missing[missing > 0].sort_values(ascending=False)"
   ]
  },
  {
   "cell_type": "code",
   "execution_count": null,
   "metadata": {},
   "outputs": [],
   "source": [
    "# This code counts the amount of duplicated records exist in the table.\n",
    "# We are using the .dupiicated() function to identify the duplicated records and the .sum() function to count them.\n",
    "\n",
    "duplicates = movie_akas.duplicated().sum()\n",
    "duplicates"
   ]
  },
  {
   "cell_type": "code",
   "execution_count": null,
   "id": "313a64aa",
   "metadata": {},
   "outputs": [],
   "source": [
    "# This code queries the database to access the table\n",
    "\n",
    "movie_ratings = pd.read_sql(\"\"\"SELECT *\n",
    "                               FROM movie_ratings\"\"\", conn)\n",
    "movie_ratings"
   ]
  },
  {
   "cell_type": "code",
   "execution_count": null,
   "id": "efc34b1f",
   "metadata": {},
   "outputs": [],
   "source": [
    "#The info() function gives us a summary of the data, but to check missing values closely, we are using .isnull() function to look at the count of missing vakues in each column.\n",
    "# This code checks for null values in each column and sums them up. It then filters out columns with no missing values and returns those with null values.\n",
    "\n",
    "missing = movie_ratings.isnull().sum()\n",
    "missing[missing > 0].sort_values(ascending=False)"
   ]
  },
  {
   "cell_type": "code",
   "execution_count": null,
   "metadata": {},
   "outputs": [],
   "source": [
    "# This code counts the amount of duplicated records exist in the table.\n",
    "# We are using the .dupiicated() function to identify the duplicated records and the .sum() function to count them.\n",
    "\n",
    "duplicates = movie_ratings.duplicated().sum()\n",
    "duplicates"
   ]
  },
  {
   "cell_type": "code",
   "execution_count": null,
   "id": "c638311a",
   "metadata": {},
   "outputs": [],
   "source": [
    "# This code queries the database to access the table\n",
    "\n",
    "persons = pd.read_sql(\"\"\"SELECT *\n",
    "                         FROM persons\"\"\", conn)\n",
    "persons"
   ]
  },
  {
   "cell_type": "code",
   "execution_count": null,
   "id": "59a40ba8",
   "metadata": {},
   "outputs": [],
   "source": [
    "#The info() function gives us a summary of the data, but to check missing values closely, we are using .isnull() function to look at the count of missing vakues in each column.\n",
    "# This code checks for null values in each column and sums them up. It then filters out columns with no missing values and returns those with null values.\n",
    "\n",
    "missing = persons.isnull().sum()\n",
    "missing[missing > 0].sort_values(ascending=False)"
   ]
  },
  {
   "cell_type": "code",
   "execution_count": null,
   "id": "ff929e37",
   "metadata": {},
   "outputs": [],
   "source": [
    "# This code counts the amount of duplicated records exist in the table.\n",
    "# We are using the .dupiicated() function to identify the duplicated records and the .sum() function to count them.\n",
    "\n",
    "duplicates = persons.duplicated().sum()\n",
    "duplicates"
   ]
  },
  {
   "cell_type": "code",
   "execution_count": null,
   "id": "421bad5a",
   "metadata": {},
   "outputs": [],
   "source": [
    "# This code queries the database to access the table\n",
    "\n",
    "principals = pd.read_sql(\"\"\"SELECT *\n",
    "                            FROM principals\"\"\", conn)\n",
    "principals"
   ]
  },
  {
   "cell_type": "code",
   "execution_count": null,
   "id": "56768883",
   "metadata": {},
   "outputs": [],
   "source": [
    "#The info() function gives us a summary of the data, but to check missing values closely, we are using .isnull() function to look at the count of missing vakues in each column.\n",
    "# This code checks for null values in each column and sums them up. It then filters out columns with no missing values and returns those with null values.\n",
    "\n",
    "missing = principals.isnull().sum()\n",
    "missing[missing > 0].sort_values(ascending=False)"
   ]
  },
  {
   "cell_type": "code",
   "execution_count": null,
   "id": "4167398e",
   "metadata": {},
   "outputs": [],
   "source": [
    "# This code counts the amount of duplicated records exist in the table.\n",
    "# We are using the .dupiicated() function to identify the duplicated records and the .sum() function to count them.\n",
    "\n",
    "duplicates = principals.duplicated().sum()\n",
    "duplicates"
   ]
  },
  {
   "cell_type": "code",
   "execution_count": null,
   "id": "bf9c3988",
   "metadata": {},
   "outputs": [],
   "source": [
    "# This code queries the database to access the table\n",
    "\n",
    "writers = pd.read_sql(\"\"\"SELECT *\n",
    "                         FROM writers\"\"\", conn)\n",
    "writers"
   ]
  },
  {
   "cell_type": "code",
   "execution_count": null,
   "id": "a3472055",
   "metadata": {},
   "outputs": [],
   "source": [
    "#The info() function gives us a summary of the data, but to check missing values closely, we are using .isnull() function to look at the count of missing vakues in each column.\n",
    "# This code checks for null values in each column and sums them up. It then filters out columns with no missing values and returns those with null values.\n",
    "\n",
    "missing = writers.isnull().sum()\n",
    "missing[missing > 0].sort_values(ascending=False)"
   ]
  },
  {
   "cell_type": "code",
   "execution_count": null,
   "id": "2dc14295",
   "metadata": {},
   "outputs": [],
   "source": [
    "# This code counts the amount of duplicated records exist in the table.\n",
    "# We are using the .dupiicated() function to identify the duplicated records and the .sum() function to count them.\n",
    "\n",
    "duplicates = writers.duplicated().sum()\n",
    "duplicates"
   ]
  },
  {
   "cell_type": "markdown",
   "id": "99985d57",
   "metadata": {},
   "source": [
    "### Data summary\n",
    "* The dataset contains structured data stored in a database containing 8 tables namely, 'movie_basics', 'directors', 'known_for', 'movie_akas', 'movie_ratings', 'persons', 'principals', and 'writers'.\n",
    "\n",
    "### Table exploration\n",
    "1. `movie_basics` - This table contains general movie information. It contains 146144 rows and 6 columns. Out of the 6 columns, 3 contain null values.\n",
    "\n",
    "2. `directors` - This table links movie directors and the movies they directed. The data is stored in 291174 rows and 2 columns. It also contains 127639 duplicate records.\n",
    "\n",
    "3. `known_for` - This table links people in the film industry and the movies they are known for. It has records in 1638260 rows and 2 columns and has no null values and duplicate records.\n",
    "\n",
    "4. `movie_akas` - This table has information on the different names of the movies worldwide. It has 331703 rows and 8 columns. 5 out of the 8 columns contain null values.\n",
    "\n",
    "5. `movie_ratings` - This table has information on movie ratings and number of votes. It contains 73856 rows and 3 columns, and has no null values or duplicated records.\n",
    "\n",
    "6. `persons` - This table contains the biographies of all persons in the film industry including actors and directors. It has 606648 rows and 5 columns. Ou of the 5 columns, 3 contain null values.\n",
    "\n",
    "7. `principals` - This table contains information about the job categories of the individuals in the film categories and for some, the characters they have played in past movies. It stored data in 1028186 rows and 6 columns. It has null values in 2 columns and no duplicate records.\n",
    "\n",
    "8. `writers` - This table links nmovie writers and the movies they wrote. It contains 255873 rows and 2 columns. It also has 77521 duplicated records.\n",
    "\n",
    "### Data Quality Observations\n",
    "Most tables have a clean schema with clear foreign key references. However, it contains incomplete data and duplicated records.\n",
    "- Joins between tables like movie_basics, movie_ratings, and persons are feasible and useful for analysis.\n",
    "\n",
    "### Next Steps / Ideas for Deeper Analysis\n",
    "* Join movie_basics with movie_ratings to find top-rated movies.\n",
    "\n",
    "* Identify the most prolific directors or actors by linking directors, principals, and persons.\n",
    "\n",
    "* Investigate trends by release year, genre, and average rating.\n",
    "\n",
    "* Clean or supplement the known_for table if necessary."
   ]
  }
 ],
 "metadata": {
  "kernelspec": {
   "display_name": "learn-env",
   "language": "python",
   "name": "python3"
  },
  "language_info": {
   "codemirror_mode": {
    "name": "ipython",
    "version": 3
   },
   "file_extension": ".py",
   "mimetype": "text/x-python",
   "name": "python",
   "nbconvert_exporter": "python",
   "pygments_lexer": "ipython3",
   "version": "3.8.5"
  }
 },
 "nbformat": 4,
 "nbformat_minor": 5
}
